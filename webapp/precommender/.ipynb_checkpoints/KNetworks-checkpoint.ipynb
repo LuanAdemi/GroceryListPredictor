{
 "cells": [
  {
   "cell_type": "code",
   "execution_count": 1,
   "metadata": {
    "execution": {
     "iopub.execute_input": "2020-09-29T16:04:50.111805Z",
     "iopub.status.busy": "2020-09-29T16:04:50.111668Z",
     "iopub.status.idle": "2020-09-29T16:04:50.758015Z",
     "shell.execute_reply": "2020-09-29T16:04:50.757680Z",
     "shell.execute_reply.started": "2020-09-29T16:04:50.111792Z"
    }
   },
   "outputs": [],
   "source": [
    "import matplotlib.pyplot as plt\n",
    "\n",
    "from knetworks import knetworks, Network\n",
    "import numpy as np\n",
    "from testdata.generator import generateFromGenFile\n",
    "import torch\n",
    "import os\n",
    "%matplotlib inline\n",
    "\n",
    "%config InlineBackend.figure_format='retina'\n",
    "if torch.cuda.is_available():\n",
    "\ttrain_on = \"cuda\"\n",
    "else:\n",
    "\ttrain_on = \"cpu\"\n",
    "device = torch.device(train_on)"
   ]
  },
  {
   "cell_type": "code",
   "execution_count": 2,
   "metadata": {
    "execution": {
     "iopub.execute_input": "2020-09-29T16:04:50.758723Z",
     "iopub.status.busy": "2020-09-29T16:04:50.758631Z",
     "iopub.status.idle": "2020-09-29T16:04:50.772820Z",
     "shell.execute_reply": "2020-09-29T16:04:50.772519Z",
     "shell.execute_reply.started": "2020-09-29T16:04:50.758712Z"
    }
   },
   "outputs": [],
   "source": [
    "filename = os.getcwd() + \"/../\" + \"allproducts.txt\" #may not work for windows\n",
    "with open(filename, \"r\") as file:\n",
    "    f = file.read()\n",
    "    products = f.split(\"\\n\")\n",
    "\n",
    "products = [p.upper() for p in products]\n",
    "\n",
    "features = []\n",
    "vectors = []\n",
    "data = [[] for i in range(19)] # warning #cleancode\n",
    "for f in range(1, 20):\n",
    "    file = open(\"testdata/gu_\" + str(f) + \".txt\", \"r\") \n",
    "    lines = file.readlines()\n",
    "    features = sorted(str(lines[0]).replace(\" \", \"\").upper().strip().split(\",\"))\n",
    "    vect = []\n",
    "    for l in range(len(lines)-1):\n",
    "        data[f-1].append([])\n",
    "        vec = lines[l+1].upper().split(\",\")\n",
    "        for i in range(len(vec)):\n",
    "            if int(float(vec[i])) == 1:\n",
    "                data[f-1][l].append(features[i])\n",
    "    vectors.append(np.array(vect))"
   ]
  },
  {
   "cell_type": "code",
   "execution_count": 3,
   "metadata": {
    "execution": {
     "iopub.execute_input": "2020-09-29T16:04:50.918961Z",
     "iopub.status.busy": "2020-09-29T16:04:50.918809Z",
     "iopub.status.idle": "2020-09-29T16:04:50.948443Z",
     "shell.execute_reply": "2020-09-29T16:04:50.948098Z",
     "shell.execute_reply.started": "2020-09-29T16:04:50.918948Z"
    }
   },
   "outputs": [],
   "source": [
    "vectors = [np.array([np.zeros(len(products), dtype=np.int) for gr_list in range(len(data[user]))]) for user in range(len(data))]\n",
    "for i,x in enumerate(data):\n",
    "    for j,y in enumerate(x):\n",
    "        for k,f in enumerate(products):\n",
    "            if f in y:\n",
    "                vectors[i][j][k] = 1"
   ]
  },
  {
   "cell_type": "code",
   "execution_count": 4,
   "metadata": {
    "execution": {
     "iopub.execute_input": "2020-09-29T16:04:53.467395Z",
     "iopub.status.busy": "2020-09-29T16:04:53.467166Z",
     "iopub.status.idle": "2020-09-29T16:04:55.838800Z",
     "shell.execute_reply": "2020-09-29T16:04:55.838404Z",
     "shell.execute_reply.started": "2020-09-29T16:04:53.467375Z"
    }
   },
   "outputs": [],
   "source": [
    "knet = knetworks(6, vectors[:-4], len(products), device) # create a knetworks object"
   ]
  },
  {
   "cell_type": "code",
   "execution_count": 8,
   "metadata": {
    "execution": {
     "iopub.execute_input": "2020-09-28T18:26:01.481960Z",
     "iopub.status.busy": "2020-09-28T18:26:01.481814Z",
     "iopub.status.idle": "2020-09-28T18:26:01.483677Z",
     "shell.execute_reply": "2020-09-28T18:26:01.483339Z",
     "shell.execute_reply.started": "2020-09-28T18:26:01.481947Z"
    }
   },
   "outputs": [],
   "source": [
    "#knet.load(\"saves\") # loading a savestate"
   ]
  },
  {
   "cell_type": "code",
   "execution_count": 5,
   "metadata": {
    "execution": {
     "iopub.execute_input": "2020-09-29T16:04:56.348698Z",
     "iopub.status.busy": "2020-09-29T16:04:56.348536Z",
     "iopub.status.idle": "2020-09-29T16:04:56.367495Z",
     "shell.execute_reply": "2020-09-29T16:04:56.366999Z",
     "shell.execute_reply.started": "2020-09-29T16:04:56.348685Z"
    }
   },
   "outputs": [],
   "source": [
    "knet.fit() # fit the centroids to the data (using 7 datapoints for the mean <-- not true anymore, right?)"
   ]
  },
  {
   "cell_type": "code",
   "execution_count": null,
   "metadata": {},
   "outputs": [],
   "source": [
    "# Plotting the first 10 product from every user\n",
    "# orange: training-set\n",
    "# blue: the ground truth to be predicted by the model\n",
    "f, axes = plt.subplots(4, 10, figsize=(30, 6))\n",
    "count = 0\n",
    "for i in range(4):\n",
    "    for j in range(10):\n",
    "        if count < len(products):\n",
    "            axes[i][j].plot(np.array(vectors)[i][:,j])\n",
    "            count += 1"
   ]
  },
  {
   "cell_type": "code",
   "execution_count": 13,
   "metadata": {
    "execution": {
     "iopub.execute_input": "2020-09-28T18:33:15.073066Z",
     "iopub.status.busy": "2020-09-28T18:33:15.072754Z",
     "iopub.status.idle": "2020-09-28T18:38:52.250392Z",
     "shell.execute_reply": "2020-09-28T18:38:52.249992Z",
     "shell.execute_reply.started": "2020-09-28T18:33:15.073039Z"
    }
   },
   "outputs": [],
   "source": [
    "#knet.train(350,1) # weighted training on the CN's\n",
    "knet.load(os.getcwd() + \"/saves\")"
   ]
  },
  {
   "cell_type": "code",
   "execution_count": 14,
   "metadata": {
    "execution": {
     "iopub.execute_input": "2020-09-13T18:06:26.404358Z",
     "iopub.status.busy": "2020-09-13T18:06:26.404264Z",
     "iopub.status.idle": "2020-09-13T18:06:26.405971Z",
     "shell.execute_reply": "2020-09-13T18:06:26.405713Z",
     "shell.execute_reply.started": "2020-09-13T18:06:26.404345Z"
    }
   },
   "outputs": [],
   "source": [
    "#knet.save(\"saves\") # saving a savestate"
   ]
  },
  {
   "cell_type": "code",
   "execution_count": null,
   "metadata": {},
   "outputs": [],
   "source": [
    "# red: ground truth\n",
    "# green: prediction\n",
    "# blue: rounded prediction\n",
    "\n",
    "f, axes = plt.subplots(4, 10, figsize=(30, 6))\n",
    "for i in range(4):\n",
    "    prediction = np.array(np.squeeze(knet.predict(vectors[i], future=4)))\n",
    "    for j in range(10):\n",
    "        axes[i][j].plot(prediction[:,j], c='g', alpha=0.5)\n",
    "        axes[i][j].plot(np.round(prediction[:,j]), alpha=0.5 , c='b')\n",
    "        axes[i][j].plot(vectors[i][-4:,j], c='r', alpha=0.5)"
   ]
  },
  {
   "cell_type": "code",
   "execution_count": 9,
   "metadata": {
    "execution": {
     "iopub.execute_input": "2020-09-29T16:14:43.025677Z",
     "iopub.status.busy": "2020-09-29T16:14:43.025522Z",
     "iopub.status.idle": "2020-09-29T16:14:43.031464Z",
     "shell.execute_reply": "2020-09-29T16:14:43.031114Z",
     "shell.execute_reply.started": "2020-09-29T16:14:43.025664Z"
    }
   },
   "outputs": [],
   "source": [
    "def eval(knet):\n",
    "    r_gs = []\n",
    "    f_ps = []\n",
    "    f_ns = []\n",
    "    t_ps = []\n",
    "    n = len(products)\n",
    "    for user in range(19):\n",
    "        prediction = np.array(np.squeeze(knet.predict(vectors[user][:-4,:], future=1))) # the prediction for user\n",
    "        wrong_guesses = np.sum(np.absolute((np.absolute(np.round(prediction)) - vectors[user][-4,:]))) # the right guessed features for one receipt into the future\n",
    "        false_postives = np.sum(np.maximum((np.absolute(np.round(prediction)) - vectors[user][-4,:]), 0))\n",
    "        false_negatives = np.sum(np.maximum((vectors[user][-4,:] - np.absolute(np.round(prediction))), 0))\n",
    "        true_positives = np.sum((np.round(prediction) + vectors[user][-4,:])//2)\n",
    "        right_guesses = n - wrong_guesses\n",
    "        true_negatives = right_guesses - true_positives\n",
    "        r_gs.append(right_guesses)\n",
    "        f_ps.append(false_postives)\n",
    "        f_ns.append(false_negatives)\n",
    "        t_ps.append(true_positives)\n",
    "        #print(false_postives, false_negatives)\n",
    "        #print(\"[\"+ str(user) + \"] Accuracy: \" + str(len(products)-int(wrong_guesses)) + \"/\" + str(len(products)) + \" (\" + str((len(products)-int(wrong_guesses))/len(products)) + \")\")\n",
    "    m_r_gs = np.mean(r_gs)\n",
    "    m_f_ps = np.mean(f_ps)\n",
    "    m_f_ns = np.mean(f_ns)\n",
    "    m_t_ps = np.mean(t_ps)\n",
    "    print(\"TP,FP,FN: \", m_t_ps, m_f_ps, m_f_ns)\n",
    "    print(\"Accuracy: \", m_r_gs / n)\n",
    "    print(\"True positive rate (recall) (correctly predicted of all YES values): \", m_t_ps / (m_t_ps + m_f_ns))\n",
    "    print(\"Precision (correctly predicted of all YES predicted): \", m_t_ps / (m_t_ps + m_f_ps))"
   ]
  },
  {
   "cell_type": "code",
   "execution_count": 6,
   "metadata": {
    "execution": {
     "iopub.execute_input": "2020-09-29T15:48:50.298585Z",
     "iopub.status.busy": "2020-09-29T15:48:50.298434Z",
     "iopub.status.idle": "2020-09-29T15:48:50.300221Z",
     "shell.execute_reply": "2020-09-29T15:48:50.299946Z",
     "shell.execute_reply.started": "2020-09-29T15:48:50.298572Z"
    }
   },
   "outputs": [],
   "source": [
    "#filepath = \"saves\"\n",
    "#for i, net in enumerate(knet.networks):\n",
    "#    torch.save(net.model.state_dict(), filepath + \"/models/CN_\" + str(i) + \".pth\")\n",
    "        \n",
    "# save the centroids array\n",
    "#np.savetxt(filepath + '/centroids.csv', knet.centroids, delimiter=',')\n",
    "# save the distances array\n",
    "#np.savetxt(filepath + '/distances.csv', knet.D, delimiter=',')\n",
    "# save the weights array\n",
    "#np.savetxt(filepath + '/weights.csv', knet.W, delimiter=',')"
   ]
  },
  {
   "cell_type": "code",
   "execution_count": 7,
   "metadata": {
    "execution": {
     "iopub.execute_input": "2020-09-29T15:48:50.935633Z",
     "iopub.status.busy": "2020-09-29T15:48:50.935475Z",
     "iopub.status.idle": "2020-09-29T15:48:50.937347Z",
     "shell.execute_reply": "2020-09-29T15:48:50.937027Z",
     "shell.execute_reply.started": "2020-09-29T15:48:50.935618Z"
    }
   },
   "outputs": [],
   "source": [
    "#make metric true positives / (true positives + false negatives) and TP/(TP+FP) ??"
   ]
  },
  {
   "cell_type": "code",
   "execution_count": 11,
   "metadata": {
    "execution": {
     "iopub.execute_input": "2020-09-29T16:16:17.626411Z",
     "iopub.status.busy": "2020-09-29T16:16:17.626257Z",
     "iopub.status.idle": "2020-09-29T16:16:17.778252Z",
     "shell.execute_reply": "2020-09-29T16:16:17.777801Z",
     "shell.execute_reply.started": "2020-09-29T16:16:17.626398Z"
    }
   },
   "outputs": [],
   "source": [
    "#create one network for all users to compare the results\n",
    "knet2 = knetworks(1, vectors[:-4], len(products), device) # create a knetworks object"
   ]
  },
  {
   "cell_type": "code",
   "execution_count": 12,
   "metadata": {
    "execution": {
     "iopub.execute_input": "2020-09-29T16:16:19.768178Z",
     "iopub.status.busy": "2020-09-29T16:16:19.767986Z",
     "iopub.status.idle": "2020-09-29T16:16:19.791553Z",
     "shell.execute_reply": "2020-09-29T16:16:19.790997Z",
     "shell.execute_reply.started": "2020-09-29T16:16:19.768159Z"
    }
   },
   "outputs": [],
   "source": [
    "knet2.fit()"
   ]
  },
  {
   "cell_type": "code",
   "execution_count": 13,
   "metadata": {
    "execution": {
     "iopub.execute_input": "2020-09-29T16:16:22.997303Z",
     "iopub.status.busy": "2020-09-29T16:16:22.997136Z",
     "iopub.status.idle": "2020-09-29T16:17:54.069772Z",
     "shell.execute_reply": "2020-09-29T16:17:54.069401Z",
     "shell.execute_reply.started": "2020-09-29T16:16:22.997289Z"
    }
   },
   "outputs": [
    {
     "name": "stdout",
     "output_type": "stream",
     "text": [
      "We are going to train 1 networks for 1 epochs with 350 samples each.\n",
      "[0][349->1] Training....\r"
     ]
    }
   ],
   "source": [
    "knet2.train(350,1)"
   ]
  },
  {
   "cell_type": "code",
   "execution_count": 10,
   "metadata": {
    "execution": {
     "iopub.execute_input": "2020-09-29T16:14:44.824050Z",
     "iopub.status.busy": "2020-09-29T16:14:44.823891Z",
     "iopub.status.idle": "2020-09-29T16:14:45.086221Z",
     "shell.execute_reply": "2020-09-29T16:14:45.085810Z",
     "shell.execute_reply.started": "2020-09-29T16:14:44.824035Z"
    }
   },
   "outputs": [
    {
     "name": "stdout",
     "output_type": "stream",
     "text": [
      "TP,FP,FN:  10.473684210526315 0.2631578947368421 2.6315789473684212\n",
      "Accuracy:  0.9906921644948384\n",
      "True positive rate (recall) (correctly predicted of all YES values):  0.7991967871485943\n",
      "Precision (correctly predicted of all YES predicted):  0.9754901960784313\n"
     ]
    }
   ],
   "source": [
    "eval(knet)"
   ]
  },
  {
   "cell_type": "code",
   "execution_count": 14,
   "metadata": {
    "execution": {
     "iopub.execute_input": "2020-09-29T16:17:56.965790Z",
     "iopub.status.busy": "2020-09-29T16:17:56.965625Z",
     "iopub.status.idle": "2020-09-29T16:17:57.031821Z",
     "shell.execute_reply": "2020-09-29T16:17:57.031359Z",
     "shell.execute_reply.started": "2020-09-29T16:17:56.965775Z"
    }
   },
   "outputs": [
    {
     "name": "stdout",
     "output_type": "stream",
     "text": [
      "TP,FP,FN:  10.263157894736842 2.1578947368421053 2.8421052631578947\n",
      "Accuracy:  0.9839228295819936\n",
      "True positive rate (recall) (correctly predicted of all YES values):  0.783132530120482\n",
      "Precision (correctly predicted of all YES predicted):  0.8262711864406779\n"
     ]
    }
   ],
   "source": [
    "eval(knet2)"
   ]
  }
 ],
 "metadata": {
  "kernelspec": {
   "display_name": "Python 3",
   "language": "python",
   "name": "python3"
  },
  "language_info": {
   "codemirror_mode": {
    "name": "ipython",
    "version": 3
   },
   "file_extension": ".py",
   "mimetype": "text/x-python",
   "name": "python",
   "nbconvert_exporter": "python",
   "pygments_lexer": "ipython3",
   "version": "3.8.5"
  }
 },
 "nbformat": 4,
 "nbformat_minor": 4
}
