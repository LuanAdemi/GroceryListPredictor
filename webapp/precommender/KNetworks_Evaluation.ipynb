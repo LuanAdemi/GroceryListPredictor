{
 "cells": [
  {
   "cell_type": "markdown",
   "metadata": {},
   "source": [
    "# Evaluating KNetworks"
   ]
  },
  {
   "cell_type": "code",
   "execution_count": 1,
   "metadata": {
    "execution": {
     "iopub.execute_input": "2020-10-03T13:53:50.552702Z",
     "iopub.status.busy": "2020-10-03T13:53:50.552553Z",
     "iopub.status.idle": "2020-10-03T13:53:51.243010Z",
     "shell.execute_reply": "2020-10-03T13:53:51.242575Z",
     "shell.execute_reply.started": "2020-10-03T13:53:50.552689Z"
    }
   },
   "outputs": [],
   "source": [
    "import matplotlib.pyplot as plt\n",
    "\n",
    "from knetworks import knetworks, Network\n",
    "import numpy as np\n",
    "from testdata.generator import generateFromGenFile\n",
    "import torch\n",
    "import os\n",
    "\n",
    "from sklearn.model_selection import KFold\n",
    "\n",
    "%matplotlib inline\n",
    "\n",
    "%config InlineBackend.figure_format='retina'\n",
    "if torch.cuda.is_available():\n",
    "\ttrain_on = \"cuda\"\n",
    "else:\n",
    "\ttrain_on = \"cpu\"\n",
    "device = torch.device(\"cuda\") # I AM SPEEEEED"
   ]
  },
  {
   "cell_type": "markdown",
   "metadata": {},
   "source": [
    "## Read in the features and the user data\n",
    "We use a dataset of 19 users and over 500 shopping lists."
   ]
  },
  {
   "cell_type": "code",
   "execution_count": 2,
   "metadata": {
    "execution": {
     "iopub.execute_input": "2020-10-03T13:53:51.733091Z",
     "iopub.status.busy": "2020-10-03T13:53:51.732933Z",
     "iopub.status.idle": "2020-10-03T13:53:51.777254Z",
     "shell.execute_reply": "2020-10-03T13:53:51.776791Z",
     "shell.execute_reply.started": "2020-10-03T13:53:51.733077Z"
    }
   },
   "outputs": [
    {
     "name": "stderr",
     "output_type": "stream",
     "text": [
      "<ipython-input-2-dde063293636>:24: VisibleDeprecationWarning: Creating an ndarray from ragged nested sequences (which is a list-or-tuple of lists-or-tuples-or ndarrays with different lengths or shapes) is deprecated. If you meant to do this, you must specify 'dtype=object' when creating the ndarray\n",
      "  vectors = np.array([np.array([np.zeros(len(products), dtype=np.int) for gr_list in range(len(data[user]))]) for user in range(len(data))])\n"
     ]
    }
   ],
   "source": [
    "filename = os.getcwd() + \"/../\" + \"allproducts2.txt\" #may not work for windows\n",
    "with open(filename, \"r\") as file:\n",
    "    f = file.read()\n",
    "    products = f.split(\"\\n\")\n",
    "\n",
    "products = [p.upper() for p in products]\n",
    "\n",
    "features = []\n",
    "vectors = []\n",
    "data = [[] for i in range(19)] # warning #cleancode\n",
    "for f in range(1, 20):\n",
    "    file = open(\"testdata/gu_\" + str(f) + \".txt\", \"r\") \n",
    "    lines = file.readlines()\n",
    "    features = sorted(str(lines[0]).replace(\" \", \"\").upper().strip().split(\",\"))\n",
    "    vect = []\n",
    "    for l in range(len(lines)-1):\n",
    "        data[f-1].append([])\n",
    "        vec = lines[l+1].upper().split(\",\")\n",
    "        for i in range(len(vec)):\n",
    "            if int(float(vec[i])) == 1:\n",
    "                data[f-1][l].append(features[i])\n",
    "    vectors.append(np.array(vect))\n",
    "    \n",
    "vectors = np.array([np.array([np.zeros(len(products), dtype=np.int) for gr_list in range(len(data[user]))]) for user in range(len(data))])\n",
    "for i,x in enumerate(data):\n",
    "    for j,y in enumerate(x):\n",
    "        for k,f in enumerate(products):\n",
    "            if f in y:\n",
    "                vectors[i][j][k] = 1"
   ]
  },
  {
   "cell_type": "markdown",
   "metadata": {},
   "source": [
    "## Kmeans Test\n",
    "This cell plots a scatter plot with two features of the users and the calculated centroids."
   ]
  },
  {
   "cell_type": "code",
   "execution_count": 3,
   "metadata": {
    "execution": {
     "iopub.execute_input": "2020-10-03T13:03:50.468078Z",
     "iopub.status.busy": "2020-10-03T13:03:50.467985Z",
     "iopub.status.idle": "2020-10-03T13:03:50.584049Z",
     "shell.execute_reply": "2020-10-03T13:03:50.583641Z",
     "shell.execute_reply.started": "2020-10-03T13:03:50.468066Z"
    }
   },
   "outputs": [
    {
     "ename": "NameError",
     "evalue": "name 'knet' is not defined",
     "output_type": "error",
     "traceback": [
      "\u001b[0;31m---------------------------------------------------------------------------\u001b[0m",
      "\u001b[0;31mNameError\u001b[0m                                 Traceback (most recent call last)",
      "\u001b[0;32m<ipython-input-3-2f72bb72e4bd>\u001b[0m in \u001b[0;36m<module>\u001b[0;34m\u001b[0m\n\u001b[1;32m      7\u001b[0m \u001b[0mmeanVecs\u001b[0m \u001b[0;34m=\u001b[0m \u001b[0mnp\u001b[0m\u001b[0;34m.\u001b[0m\u001b[0marray\u001b[0m\u001b[0;34m(\u001b[0m\u001b[0mmeanVecs\u001b[0m\u001b[0;34m)\u001b[0m\u001b[0;34m\u001b[0m\u001b[0;34m\u001b[0m\u001b[0m\n\u001b[1;32m      8\u001b[0m \u001b[0mmeanVecs\u001b[0m\u001b[0;34m.\u001b[0m\u001b[0mshape\u001b[0m\u001b[0;34m\u001b[0m\u001b[0;34m\u001b[0m\u001b[0m\n\u001b[0;32m----> 9\u001b[0;31m \u001b[0mplt\u001b[0m\u001b[0;34m.\u001b[0m\u001b[0mscatter\u001b[0m\u001b[0;34m(\u001b[0m\u001b[0mmeanVecs\u001b[0m\u001b[0;34m[\u001b[0m\u001b[0;34m:\u001b[0m\u001b[0;34m,\u001b[0m\u001b[0mi_butter\u001b[0m\u001b[0;34m]\u001b[0m\u001b[0;34m,\u001b[0m \u001b[0mmeanVecs\u001b[0m\u001b[0;34m[\u001b[0m\u001b[0;34m:\u001b[0m\u001b[0;34m,\u001b[0m\u001b[0mi_apple\u001b[0m\u001b[0;34m]\u001b[0m\u001b[0;34m,\u001b[0m \u001b[0mmarker\u001b[0m\u001b[0;34m=\u001b[0m\u001b[0;34m\"x\"\u001b[0m\u001b[0;34m,\u001b[0m \u001b[0ms\u001b[0m\u001b[0;34m=\u001b[0m\u001b[0;36m90\u001b[0m\u001b[0;34m,\u001b[0m \u001b[0mc\u001b[0m\u001b[0;34m=\u001b[0m\u001b[0mknet\u001b[0m\u001b[0;34m.\u001b[0m\u001b[0mkm\u001b[0m\u001b[0;34m.\u001b[0m\u001b[0maffiliations\u001b[0m\u001b[0;34m)\u001b[0m\u001b[0;34m\u001b[0m\u001b[0;34m\u001b[0m\u001b[0m\n\u001b[0m\u001b[1;32m     10\u001b[0m \u001b[0mplt\u001b[0m\u001b[0;34m.\u001b[0m\u001b[0mxlabel\u001b[0m\u001b[0;34m(\u001b[0m\u001b[0;34m\"bought butter\"\u001b[0m\u001b[0;34m)\u001b[0m\u001b[0;34m\u001b[0m\u001b[0;34m\u001b[0m\u001b[0m\n\u001b[1;32m     11\u001b[0m \u001b[0mplt\u001b[0m\u001b[0;34m.\u001b[0m\u001b[0mylabel\u001b[0m\u001b[0;34m(\u001b[0m\u001b[0;34m\"bought apple(s)\"\u001b[0m\u001b[0;34m)\u001b[0m\u001b[0;34m\u001b[0m\u001b[0;34m\u001b[0m\u001b[0m\n",
      "\u001b[0;31mNameError\u001b[0m: name 'knet' is not defined"
     ]
    }
   ],
   "source": [
    "i_butter = products.index(\"BUTTER\")\n",
    "i_apple = products.index(\"APFEL\")\n",
    "meanVecs = []\n",
    "for u in vectors:\n",
    "    meanVec = np.mean(u, axis=0)\n",
    "    meanVecs.append(meanVec)\n",
    "meanVecs = np.array(meanVecs)\n",
    "meanVecs.shape\n",
    "plt.scatter(meanVecs[:,i_butter], meanVecs[:,i_apple], marker=\"x\", s=90, c=knet.km.affiliations)\n",
    "plt.xlabel(\"bought butter\")\n",
    "plt.ylabel(\"bought apple(s)\")\n",
    "plt.scatter(knet.km.centroids[:,i_butter], knet.km.centroids[:,i_apple], c=[0,1,2,3,4,5])#why is the purple dot not in the middle of the purple crosses?"
   ]
  },
  {
   "cell_type": "markdown",
   "metadata": {},
   "source": [
    "## The eval functions\n",
    "The following are functions used to evaluate the performance of the trained model."
   ]
  },
  {
   "cell_type": "code",
   "execution_count": 3,
   "metadata": {
    "execution": {
     "iopub.execute_input": "2020-10-03T13:53:54.479567Z",
     "iopub.status.busy": "2020-10-03T13:53:54.479414Z",
     "iopub.status.idle": "2020-10-03T13:53:54.485864Z",
     "shell.execute_reply": "2020-10-03T13:53:54.485601Z",
     "shell.execute_reply.started": "2020-10-03T13:53:54.479554Z"
    }
   },
   "outputs": [],
   "source": [
    "def eval1(knet):\n",
    "    r_gs = []\n",
    "    f_ps = []\n",
    "    f_ns = []\n",
    "    t_ps = []\n",
    "    predictions = []\n",
    "    n = len(products)\n",
    "    for user in range(19):\n",
    "        prediction = np.array(np.squeeze(knet.predict(vectors[user][:-4,:], future=1))) # the prediction for user\n",
    "        wrong_guesses = np.sum(np.absolute((np.absolute(np.round(prediction)) - vectors[user][-4,:]))) # the right guessed features for one receipt into the future\n",
    "        false_postives = np.sum(np.maximum((np.absolute(np.round(prediction)) - vectors[user][-4,:]), 0))\n",
    "        false_negatives = np.sum(np.maximum((vectors[user][-4,:] - np.absolute(np.round(prediction))), 0))\n",
    "        true_positives = np.sum((np.round(prediction) + vectors[user][-4,:])//2)\n",
    "        right_guesses = n - wrong_guesses\n",
    "        true_negatives = right_guesses - true_positives\n",
    "        r_gs.append(right_guesses)\n",
    "        f_ps.append(false_postives)\n",
    "        f_ns.append(false_negatives)\n",
    "        t_ps.append(true_positives)\n",
    "        predictions.append(prediction)\n",
    "        \n",
    "        predictfourlast = np.array(np.squeeze(knet.predict(vectors[user][:-8,:], future=4)))\n",
    "        predictionfourlasts.append(predictfourlast)\n",
    "        #print(false_postives, false_negatives)\n",
    "        #print(\"[\"+ str(user) + \"] Accuracy: \" + str(len(products)-int(wrong_guesses)) + \"/\" + str(len(products)) + \" (\" + str((len(products)-int(wrong_guesses))/len(products)) + \")\")\n",
    "    m_r_gs = np.mean(r_gs)\n",
    "    m_f_ps = np.mean(f_ps)\n",
    "    m_f_ns = np.mean(f_ns)\n",
    "    m_t_ps = np.mean(t_ps)\n",
    "    acc = m_r_gs / n\n",
    "    recall = m_t_ps / (m_t_ps + m_f_ns)\n",
    "    precision = m_t_ps / (m_t_ps + m_f_ps)\n",
    "    print(\"TP,FP,FN: \", m_t_ps, m_f_ps, m_f_ns)\n",
    "    print(\"Accuracy: \", acc)\n",
    "    print(\"True positive rate (recall) (correctly predicted of all YES values): \", recall)\n",
    "    print(\"Precision (correctly predicted of all YES predicted): \", precision)\n",
    "    return acc, recall, precision, predictions"
   ]
  },
  {
   "cell_type": "code",
   "execution_count": 4,
   "metadata": {
    "execution": {
     "iopub.execute_input": "2020-10-03T13:53:55.119410Z",
     "iopub.status.busy": "2020-10-03T13:53:55.119220Z",
     "iopub.status.idle": "2020-10-03T13:53:55.127121Z",
     "shell.execute_reply": "2020-10-03T13:53:55.126812Z",
     "shell.execute_reply.started": "2020-10-03T13:53:55.119392Z"
    }
   },
   "outputs": [],
   "source": [
    "def eval2(knet, u1=0, u2=19):\n",
    "    r_gs = []\n",
    "    f_ps = []\n",
    "    f_ns = []\n",
    "    t_ps = []\n",
    "    predictions = []\n",
    "    n = len(products)\n",
    "    for user in range(u1,u2):\n",
    "        prediction = np.array(np.squeeze(knet.predict(vectors[user][:-5,:], future=1)+0.15)) # the prediction for user\n",
    "        wrong_guesses = np.sum(np.absolute((np.absolute(np.round(prediction)) - vectors[user][-5,:]))) # the right guessed features for one receipt into the future\n",
    "        false_postives = np.sum(np.maximum((np.absolute(np.round(prediction)) - vectors[user][-5,:]), 0))\n",
    "        false_negatives = np.sum(np.maximum((vectors[user][-5,:] - np.absolute(np.round(prediction))), 0))\n",
    "        true_positives = np.sum((np.round(prediction) + vectors[user][-5,:])//2)\n",
    "        right_guesses = n - wrong_guesses\n",
    "        true_negatives = right_guesses - true_positives\n",
    "        r_gs.append(right_guesses)\n",
    "        f_ps.append(false_postives)\n",
    "        f_ns.append(false_negatives)\n",
    "        t_ps.append(true_positives)\n",
    "        predictions.append(prediction)\n",
    "        \n",
    "        predictfourlast = np.array(np.squeeze(knet.predict(vectors[user][:-8,:], future=4)))\n",
    "        predictionfourlasts.append(predictfourlast)\n",
    "        #print(false_postives, false_negatives)\n",
    "        #print(\"[\"+ str(user) + \"] Accuracy: \" + str(len(products)-int(wrong_guesses)) + \"/\" + str(len(products)) + \" (\" + str((len(products)-int(wrong_guesses))/len(products)) + \")\")\n",
    "    m_r_gs = np.mean(r_gs)\n",
    "    m_f_ps = np.mean(f_ps)\n",
    "    m_f_ns = np.mean(f_ns)\n",
    "    m_t_ps = np.mean(t_ps)\n",
    "    acc = m_r_gs / n\n",
    "    recall = m_t_ps / (m_t_ps + m_f_ns)\n",
    "    precision = m_t_ps / (m_t_ps + m_f_ps)\n",
    "    print(\"TP,FP,FN: \", m_t_ps, m_f_ps, m_f_ns)\n",
    "    print(\"Accuracy: \", acc)\n",
    "    print(\"True positive rate (recall) (correctly predicted of all YES values): \", recall)\n",
    "    print(\"Precision (correctly predicted of all YES predicted): \", precision)\n",
    "    return acc, recall, precision, predictions"
   ]
  },
  {
   "cell_type": "markdown",
   "metadata": {},
   "source": [
    "## Testing KNetworks\n",
    "The following function trains KNetworks with $k=1\\dots15$ and plots the performances.\n",
    "We divide the dataset in a training (`vectors[:][:-4,:]`) and a test (`vectors[:][-4:,:]`) dataset. \n",
    "The four last list of every user are not feeded into the network during training and are beeing predicted. \n",
    "The `eval1()` function evaluates the model based on this prediction."
   ]
  },
  {
   "cell_type": "code",
   "execution_count": 6,
   "metadata": {
    "execution": {
     "iopub.execute_input": "2020-10-03T13:42:32.140307Z",
     "iopub.status.busy": "2020-10-03T13:42:32.140130Z",
     "iopub.status.idle": "2020-10-03T13:42:32.142270Z",
     "shell.execute_reply": "2020-10-03T13:42:32.141913Z",
     "shell.execute_reply.started": "2020-10-03T13:42:32.140289Z"
    }
   },
   "outputs": [],
   "source": [
    "performances = []\n",
    "predictions = []\n",
    "predictionfourlasts = []"
   ]
  },
  {
   "cell_type": "code",
   "execution_count": 6,
   "metadata": {
    "execution": {
     "iopub.execute_input": "2020-10-03T13:11:31.161053Z",
     "iopub.status.busy": "2020-10-03T13:11:31.160833Z",
     "iopub.status.idle": "2020-10-03T13:11:31.164898Z",
     "shell.execute_reply": "2020-10-03T13:11:31.164531Z",
     "shell.execute_reply.started": "2020-10-03T13:11:31.161038Z"
    }
   },
   "outputs": [],
   "source": [
    "def test_diffrent_ks():\n",
    "    for i in [1,2,3,4,5,6,7,8,10,12,15]:\n",
    "        knet = knetworks(i, vectors[:][:-4][:], len(products), device)\n",
    "        knet.fit()\n",
    "        knet.train(round(500/np.sqrt(i)),1)#not the same amount for every network, to be a little more fair\n",
    "        #training time is now O(sqrt(k))\n",
    "        print(\"k: \", i)\n",
    "        acc, rec, prec, preds = eval1(knet)\n",
    "        print(\"\\n\")\n",
    "        performances.append([i,acc,rec,prec])\n",
    "        predictions.append(preds)\n",
    "        torch.cuda.empty_cache()\n",
    "    return np.array(performances)"
   ]
  },
  {
   "cell_type": "code",
   "execution_count": null,
   "metadata": {},
   "outputs": [],
   "source": [
    "performances = test_diffrent_ks()"
   ]
  },
  {
   "cell_type": "code",
   "execution_count": 72,
   "metadata": {
    "execution": {
     "iopub.execute_input": "2020-10-03T11:02:18.750083Z",
     "iopub.status.busy": "2020-10-03T11:02:18.749900Z",
     "iopub.status.idle": "2020-10-03T11:02:18.756767Z",
     "shell.execute_reply": "2020-10-03T11:02:18.756382Z",
     "shell.execute_reply.started": "2020-10-03T11:02:18.750065Z"
    }
   },
   "outputs": [],
   "source": [
    "# calulate the confidence\n",
    "confidencess =  []\n",
    "for k in range(11):\n",
    "    confidences = []\n",
    "    for user in range(19):\n",
    "        pos = predictions[k][user][np.round(predictions[k][user]) == 1]\n",
    "        if len(pos) > 0:\n",
    "            confidences.append(np.sum(pos) / len(pos))\n",
    "    #print(\"k =\", k ,\":\", np.sum(np.array(confidences)) / len(confidences))\n",
    "    confidencess.append(np.sum(np.array(confidences)) / len(confidences))"
   ]
  },
  {
   "cell_type": "code",
   "execution_count": 73,
   "metadata": {
    "execution": {
     "iopub.execute_input": "2020-10-03T11:02:19.425999Z",
     "iopub.status.busy": "2020-10-03T11:02:19.425843Z",
     "iopub.status.idle": "2020-10-03T11:02:19.429039Z",
     "shell.execute_reply": "2020-10-03T11:02:19.428741Z",
     "shell.execute_reply.started": "2020-10-03T11:02:19.425984Z"
    }
   },
   "outputs": [],
   "source": [
    "def plot_performances(performances):\n",
    "    plt.plot(performances[:,0], performances[:,1])\n",
    "    plt.plot(performances[:,0], performances[:,2])\n",
    "    plt.plot(performances[:,0], performances[:,3])\n",
    "    plt.plot(performances[:,0], confidencess)\n",
    "    plt.xlabel(\"k\")\n",
    "    plt.legend(['Accuracy', 'Recall', \"Precision\", \"Confidence\"], loc=4)\n",
    "    plt.savefig(\"performances.png\")\n",
    "    plt.show()"
   ]
  },
  {
   "cell_type": "code",
   "execution_count": 74,
   "metadata": {
    "execution": {
     "iopub.execute_input": "2020-10-03T11:02:19.854699Z",
     "iopub.status.busy": "2020-10-03T11:02:19.854502Z",
     "iopub.status.idle": "2020-10-03T11:02:20.020843Z",
     "shell.execute_reply": "2020-10-03T11:02:20.020246Z",
     "shell.execute_reply.started": "2020-10-03T11:02:19.854681Z"
    }
   },
   "outputs": [
    {
     "data": {
      "image/png": "[encoded data removed]",
      "text/plain": [
       "<Figure size 432x288 with 1 Axes>"
      ]
     },
     "metadata": {
      "image/png": {
       "height": 261,
       "width": 372
      },
      "needs_background": "light"
     },
     "output_type": "display_data"
    }
   ],
   "source": [
    "plot_performances(np.array(performances))"
   ]
  },
  {
   "cell_type": "code",
   "execution_count": 83,
   "metadata": {
    "execution": {
     "iopub.execute_input": "2020-10-03T11:05:57.490109Z",
     "iopub.status.busy": "2020-10-03T11:05:57.489967Z",
     "iopub.status.idle": "2020-10-03T11:05:57.492540Z",
     "shell.execute_reply": "2020-10-03T11:05:57.492236Z",
     "shell.execute_reply.started": "2020-10-03T11:05:57.490096Z"
    }
   },
   "outputs": [],
   "source": [
    "predictionfourlasts = np.array(predictionfourlasts).reshape(11,19,4,333)"
   ]
  },
  {
   "cell_type": "code",
   "execution_count": 87,
   "metadata": {
    "execution": {
     "iopub.execute_input": "2020-10-03T11:06:25.957065Z",
     "iopub.status.busy": "2020-10-03T11:06:25.956878Z",
     "iopub.status.idle": "2020-10-03T11:06:25.963573Z",
     "shell.execute_reply": "2020-10-03T11:06:25.963237Z",
     "shell.execute_reply.started": "2020-10-03T11:06:25.957050Z"
    }
   },
   "outputs": [],
   "source": [
    "def plotForK(k):\n",
    "    f, axes = plt.subplots(19, 5, figsize=(8, 12))\n",
    "    X1 = np.linspace(0, 5, 5)\n",
    "    X2 = np.linspace(0, 4, 4)\n",
    "    X3 = np.linspace(3, 5, 2)\n",
    "    X4 = np.linspace(0,5,5)\n",
    "    for user in range(19):\n",
    "        summ = np.sum(np.round(predictionfourlasts[k][user]), axis=0)\n",
    "        interests = np.where(summ > 0)\n",
    "        for j in range(5):\n",
    "            future = predictions[k][user][j]\n",
    "            if len(interests[0]) >= 5:\n",
    "                predictionsFour = np.append(predictionfourlasts[k][user][:,interests[0][j]], future)\n",
    "                gt = vectors[user][-8:-3,interests[0][j]]\n",
    "            else:\n",
    "                predictionsFour = np.append(predictionfourlasts[k][user][:,j], future)\n",
    "                gt = vectors[user][-8:-3,j]\n",
    "\n",
    "\n",
    "\n",
    "            axes[user][j].plot(X1, predictionsFour, c=\"green\")\n",
    "            axes[user][j].plot(X1, gt, c=\"red\")\n",
    "            axes[user][j].axvline(4, 0, 1)\n",
    "            axes[user][j].plot(X1, np.round(predictionsFour), c=\"purple\")\n",
    "    f.legend(['Predictions', 'Ground truth', 'End of training dataset', 'Rounded prediction'], bbox_to_anchor=(0., 0, 1, .102), loc='lower left',\n",
    "               ncol=2, mode=\"expand\", borderaxespad=0.)\n",
    "    \n",
    "    f.savefig(str(k) + \"_plot.png\")\n",
    "        "
   ]
  },
  {
   "cell_type": "code",
   "execution_count": null,
   "metadata": {},
   "outputs": [],
   "source": [
    "for k in range(11):\n",
    "    plotForK(k)"
   ]
  },
  {
   "cell_type": "markdown",
   "metadata": {},
   "source": [
    "## Testing KNetworks using cross-validation (KFold) (TODO)"
   ]
  },
  {
   "cell_type": "code",
   "execution_count": 7,
   "metadata": {
    "execution": {
     "iopub.execute_input": "2020-10-03T13:04:01.491206Z",
     "iopub.status.busy": "2020-10-03T13:04:01.491049Z",
     "iopub.status.idle": "2020-10-03T13:04:01.493546Z",
     "shell.execute_reply": "2020-10-03T13:04:01.493231Z",
     "shell.execute_reply.started": "2020-10-03T13:04:01.491193Z"
    }
   },
   "outputs": [],
   "source": [
    "X = [0,1,2,3,4,5,6,7,8,9,10,11,12,14,15,16,17,18,19]\n",
    "kf = KFold(n_splits=8, random_state=None, shuffle=False)"
   ]
  },
  {
   "cell_type": "code",
   "execution_count": 8,
   "metadata": {
    "execution": {
     "iopub.execute_input": "2020-10-03T13:04:01.670805Z",
     "iopub.status.busy": "2020-10-03T13:04:01.670645Z",
     "iopub.status.idle": "2020-10-03T13:04:01.672701Z",
     "shell.execute_reply": "2020-10-03T13:04:01.672371Z",
     "shell.execute_reply.started": "2020-10-03T13:04:01.670790Z"
    }
   },
   "outputs": [],
   "source": [
    "folds = []\n",
    "tests = []"
   ]
  },
  {
   "cell_type": "code",
   "execution_count": 9,
   "metadata": {
    "execution": {
     "iopub.execute_input": "2020-10-03T13:04:01.985544Z",
     "iopub.status.busy": "2020-10-03T13:04:01.985358Z",
     "iopub.status.idle": "2020-10-03T13:04:01.991814Z",
     "shell.execute_reply": "2020-10-03T13:04:01.991480Z",
     "shell.execute_reply.started": "2020-10-03T13:04:01.985527Z"
    }
   },
   "outputs": [
    {
     "name": "stdout",
     "output_type": "stream",
     "text": [
      "TRAIN: [ 3  4  5  6  7  8  9 10 11 12 13 14 15 16 17 18] TEST: [0 1 2]\n",
      "TRAIN: [ 0  1  2  6  7  8  9 10 11 12 13 14 15 16 17 18] TEST: [3 4 5]\n",
      "TRAIN: [ 0  1  2  3  4  5  9 10 11 12 13 14 15 16 17 18] TEST: [6 7 8]\n",
      "TRAIN: [ 0  1  2  3  4  5  6  7  8 11 12 13 14 15 16 17 18] TEST: [ 9 10]\n",
      "TRAIN: [ 0  1  2  3  4  5  6  7  8  9 10 13 14 15 16 17 18] TEST: [11 12]\n",
      "TRAIN: [ 0  1  2  3  4  5  6  7  8  9 10 11 12 15 16 17 18] TEST: [13 14]\n",
      "TRAIN: [ 0  1  2  3  4  5  6  7  8  9 10 11 12 13 14 17 18] TEST: [15 16]\n",
      "TRAIN: [ 0  1  2  3  4  5  6  7  8  9 10 11 12 13 14 15 16] TEST: [17 18]\n"
     ]
    }
   ],
   "source": [
    "for train_index, test_index in kf.split(X):\n",
    "    folds.append(train_index)\n",
    "    tests.append(test_index)\n",
    "    print(\"TRAIN:\", train_index, \"TEST:\", test_index)"
   ]
  },
  {
   "cell_type": "code",
   "execution_count": null,
   "metadata": {},
   "outputs": [],
   "source": [
    "for fold, test in zip(folds, tests):\n",
    "    print(\"test:\", test[0], \"-\" , test[-1])\n",
    "    knet = knetworks(8, vectors[:test[0]][:-4], len(products), device)\n",
    "    knet.fit()\n",
    "    knet.train(500,1)\n",
    "    for t in test:\n",
    "        eval2(knet, t, t+1)\n",
    "        print(\"\\n\")\n",
    "    eval1(knet)\n",
    "#knet.save(\"saves\")"
   ]
  },
  {
   "cell_type": "markdown",
   "metadata": {},
   "source": [
    "# Training a good model for the webapp"
   ]
  },
  {
   "cell_type": "code",
   "execution_count": 5,
   "metadata": {
    "execution": {
     "iopub.execute_input": "2020-10-03T13:54:00.908004Z",
     "iopub.status.busy": "2020-10-03T13:54:00.907853Z",
     "iopub.status.idle": "2020-10-03T13:57:41.762284Z",
     "shell.execute_reply": "2020-10-03T13:57:41.761967Z",
     "shell.execute_reply.started": "2020-10-03T13:54:00.907991Z"
    }
   },
   "outputs": [
    {
     "name": "stdout",
     "output_type": "stream",
     "text": [
      "[6][499->0] Training....\n",
      "\n"
     ]
    }
   ],
   "source": [
    "knet = knetworks(7, vectors, len(products), device)\n",
    "knet.fit()\n",
    "knet.train(500,1)\n",
    "knet.save(\"saves\")"
   ]
  },
  {
   "cell_type": "code",
   "execution_count": null,
   "metadata": {},
   "outputs": [],
   "source": []
  }
 ],
 "metadata": {
  "kernelspec": {
   "display_name": "Python 3",
   "language": "python",
   "name": "python3"
  },
  "language_info": {
   "codemirror_mode": {
    "name": "ipython",
    "version": 3
   },
   "file_extension": ".py",
   "mimetype": "text/x-python",
   "name": "python",
   "nbconvert_exporter": "python",
   "pygments_lexer": "ipython3",
   "version": "3.8.5"
  }
 },
 "nbformat": 4,
 "nbformat_minor": 4
}
