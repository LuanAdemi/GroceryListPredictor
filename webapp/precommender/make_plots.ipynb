{
 "cells": [
  {
   "cell_type": "code",
   "execution_count": 1,
   "metadata": {},
   "outputs": [],
   "source": [
    "import matplotlib.pyplot as plt\n",
    "\n",
    "from knetworks import knetworks, Network\n",
    "import numpy as np\n",
    "from testdata.generator import generateFromGenFile\n",
    "import torch\n",
    "import os\n",
    "%matplotlib inline\n",
    "\n",
    "%config InlineBackend.figure_format='retina'\n",
    "if torch.cuda.is_available():\n",
    "\ttrain_on = \"cuda\"\n",
    "else:\n",
    "\ttrain_on = \"cpu\"\n",
    "device = torch.device(train_on)"
   ]
  },
  {
   "cell_type": "code",
   "execution_count": 5,
   "metadata": {},
   "outputs": [],
   "source": [
    "filename = os.getcwd() + \"/../\" + \"allproducts.txt\" #may not work for windows\n",
    "with open(filename, \"r\") as file:\n",
    "    f = file.read()\n",
    "    products = f.split(\"\\n\")\n",
    "\n",
    "products = [p.upper() for p in products]\n",
    "\n",
    "features = []\n",
    "vectors = []\n",
    "data = [[] for i in range(19)] # warning #cleancode\n",
    "for f in range(1, 20):\n",
    "    file = open(\"testdata/gu_\" + str(f) + \".txt\", \"r\") \n",
    "    lines = file.readlines()\n",
    "    features = sorted(str(lines[0]).replace(\" \", \"\").upper().strip().split(\",\"))\n",
    "    vect = []\n",
    "    for l in range(len(lines)-1):\n",
    "        data[f-1].append([])\n",
    "        vec = lines[l+1].upper().split(\",\")\n",
    "        for i in range(len(vec)):\n",
    "            if int(float(vec[i])) == 1:\n",
    "                data[f-1][l].append(features[i])\n",
    "    vectors.append(np.array(vect))\n",
    "    \n",
    "vectors = np.array([np.array([np.zeros(len(products), dtype=np.int) for gr_list in range(len(data[user]))]) for user in range(len(data))])\n",
    "for i,x in enumerate(data):\n",
    "    for j,y in enumerate(x):\n",
    "        for k,f in enumerate(products):\n",
    "            if f in y:\n",
    "                vectors[i][j][k] = 1"
   ]
  },
  {
   "cell_type": "code",
   "execution_count": 30,
   "metadata": {},
   "outputs": [],
   "source": [
    "knet = knetworks(6, vectors, len(products), device)\n",
    "knet.fit()"
   ]
  },
  {
   "cell_type": "code",
   "execution_count": 34,
   "metadata": {},
   "outputs": [
    {
     "data": {
      "text/plain": [
       "<matplotlib.collections.PathCollection at 0x7f957c923f70>"
      ]
     },
     "execution_count": 34,
     "metadata": {},
     "output_type": "execute_result"
    },
    {
     "data": {
      "image/png": "[encoded data removed]",
      "text/plain": [
       "<Figure size 432x288 with 1 Axes>"
      ]
     },
     "metadata": {
      "image/png": {
       "height": 261,
       "width": 385
      },
      "needs_background": "light"
     },
     "output_type": "display_data"
    }
   ],
   "source": [
    "i_butter = products.index(\"BUTTER\")\n",
    "i_apple = products.index(\"APFEL\")\n",
    "meanVecs = []\n",
    "for u in vectors:\n",
    "    meanVec = np.mean(u, axis=0)\n",
    "    meanVecs.append(meanVec)\n",
    "meanVecs = np.array(meanVecs)\n",
    "meanVecs.shape\n",
    "plt.scatter(meanVecs[:,i_butter], meanVecs[:,i_apple], marker=\"x\", s=90, c=knet.km.affiliations)\n",
    "plt.xlabel(\"bought butter\")\n",
    "plt.ylabel(\"bought apple(s)\")\n",
    "plt.scatter(knet.km.centroids[:,i_butter], knet.km.centroids[:,i_apple], c=[0,1,2,3,4,5])#why is the purple dot not in the middle of the purple crosses?"
   ]
  },
  {
   "cell_type": "code",
   "execution_count": null,
   "metadata": {},
   "outputs": [],
   "source": []
  },
  {
   "cell_type": "code",
   "execution_count": null,
   "metadata": {},
   "outputs": [],
   "source": []
  },
  {
   "cell_type": "code",
   "execution_count": null,
   "metadata": {},
   "outputs": [],
   "source": [
    "def eval(knet):\n",
    "    r_gs = []\n",
    "    f_ps = []\n",
    "    f_ns = []\n",
    "    t_ps = []\n",
    "    n = len(products)\n",
    "    for user in range(19):\n",
    "        prediction = np.array(np.squeeze(knet.predict(vectors[user][:-4,:], future=1))) # the prediction for user\n",
    "        wrong_guesses = np.sum(np.absolute((np.absolute(np.round(prediction)) - vectors[user][-4,:]))) # the right guessed features for one receipt into the future\n",
    "        false_postives = np.sum(np.maximum((np.absolute(np.round(prediction)) - vectors[user][-4,:]), 0))\n",
    "        false_negatives = np.sum(np.maximum((vectors[user][-4,:] - np.absolute(np.round(prediction))), 0))\n",
    "        true_positives = np.sum((np.round(prediction) + vectors[user][-4,:])//2)\n",
    "        right_guesses = n - wrong_guesses\n",
    "        true_negatives = right_guesses - true_positives\n",
    "        r_gs.append(right_guesses)\n",
    "        f_ps.append(false_postives)\n",
    "        f_ns.append(false_negatives)\n",
    "        t_ps.append(true_positives)\n",
    "        #print(false_postives, false_negatives)\n",
    "        #print(\"[\"+ str(user) + \"] Accuracy: \" + str(len(products)-int(wrong_guesses)) + \"/\" + str(len(products)) + \" (\" + str((len(products)-int(wrong_guesses))/len(products)) + \")\")\n",
    "    m_r_gs = np.mean(r_gs)\n",
    "    m_f_ps = np.mean(f_ps)\n",
    "    m_f_ns = np.mean(f_ns)\n",
    "    m_t_ps = np.mean(t_ps)\n",
    "    acc = m_r_gs / n\n",
    "    recall = m_t_ps / (m_t_ps + m_f_ns)\n",
    "    precision = m_t_ps / (m_t_ps + m_f_ps)\n",
    "    print(\"TP,FP,FN: \", m_t_ps, m_f_ps, m_f_ns)\n",
    "    #print(\"Accuracy: \", acc)\n",
    "    #print(\"True positive rate (recall) (correctly predicted of all YES values): \", recall)\n",
    "    #print(\"Precision (correctly predicted of all YES predicted): \", precision)\n",
    "    return acc, recall, precision"
   ]
  },
  {
   "cell_type": "code",
   "execution_count": null,
   "metadata": {},
   "outputs": [],
   "source": [
    "def test_diffrent_ks():\n",
    "    performances = []\n",
    "    for i in [1,2,3,4,5,6,8,10,12,15,19]:\n",
    "        knet = knetworks(i, vectors[:-4], len(products), device)\n",
    "        knet.fit()\n",
    "        knet.train(round(500/np.sqrt(i)),1)#not the same amount for every network, to be a little more fair\n",
    "        #training time is now O(sqrt(k))\n",
    "        print(\"k: \", i)\n",
    "        acc, rec, prec = eval(knet)\n",
    "        print(\"\\n\")\n",
    "        performances.append([i,acc,rec,prec])\n",
    "    return np.array(performances)\n",
    "\n",
    "def plot_performances(performances):\n",
    "    plt.plot(performances[:,0], performances[:,1])\n",
    "    plt.plot(performances[:,0], performances[:,2])\n",
    "    plt.plot(performances[:,0], performances[:,3])\n",
    "    plt.savefig(\"performances.png\")\n",
    "    plt.show()"
   ]
  },
  {
   "cell_type": "code",
   "execution_count": 4,
   "metadata": {},
   "outputs": [],
   "source": [
    "#performances = test_diffrent_ks() #Luan kannst du das hier mal bitte ausführen\n",
    "#plot_performances(performances) #und das hier\n",
    "print(performances)#wäre gut, wenn du den Output rauskopieren und mir schicken könntest"
   ]
  },
  {
   "cell_type": "code",
   "execution_count": null,
   "metadata": {},
   "outputs": [],
   "source": [
    "#after you have finished that, I will take as many centroids as I think it makes sense and test it even more (how well it does with how many training iterations)\n",
    "##maybe one could use a batch to train the networks, or do we?"
   ]
  }
 ],
 "metadata": {
  "kernelspec": {
   "display_name": "Python 3",
   "language": "python",
   "name": "python3"
  },
  "language_info": {
   "codemirror_mode": {
    "name": "ipython",
    "version": 3
   },
   "file_extension": ".py",
   "mimetype": "text/x-python",
   "name": "python",
   "nbconvert_exporter": "python",
   "pygments_lexer": "ipython3",
   "version": "3.8.5"
  }
 },
 "nbformat": 4,
 "nbformat_minor": 4
}
