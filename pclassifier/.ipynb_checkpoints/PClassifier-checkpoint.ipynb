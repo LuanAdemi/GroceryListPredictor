{
 "cells": [
  {
   "cell_type": "markdown",
   "metadata": {},
   "source": [
    "# PClassifier - A NLP approach for classifying grocery products\n",
    "This notebook implements a basic model for classifying grocery products for the GroceryListPredictor project, written by David Hahnemann, Simon Skade und Luan Ademi for the german national artifical intelligence contest <a href=\"https://bw-ki.de/app/entry-page\">BwKI</a>"
   ]
  },
  {
   "cell_type": "code",
   "execution_count": 1,
   "metadata": {},
   "outputs": [],
   "source": [
    "# import the libraries needed for the RNN model\n",
    "import torch\n",
    "import torch.nn as nn\n",
    "import torch.nn.functional as F\n",
    "import numpy as np\n",
    "\n",
    "# some helper classes (see util.py)\n",
    "from util import randomChoice, lineToTensor, readFile\n",
    "\n",
    "# for debugging\n",
    "from IPython.core.debugger import set_trace\n",
    "\n",
    "# import matplotlib for plotting \n",
    "import matplotlib.pyplot as plt\n",
    "import matplotlib.ticker as ticker\n",
    "\n",
    "# other libraries required by this notebook\n",
    "import string\n",
    "import time\n",
    "import math\n",
    "import random\n",
    "import glob\n",
    "import os\n",
    "\n",
    "# the number of hidden neurons of the RNN\n",
    "n_hidden = 128\n",
    "\n",
    "# the learning rate\n",
    "learning_rate = 0.0005\n",
    "\n",
    "# a list containing all ascii caracters and some german exclusive ones\n",
    "all_letters = string.ascii_letters + \" .,;'\" + \"äÄüÜöÖß\"\n",
    "n_letters = len(all_letters)\n",
    "\n",
    "# define the device for the training (Due to a small number of neurons, training on the cpu actually is faster)\n",
    "device = torch.device(\"cpu\")"
   ]
  },
  {
   "cell_type": "markdown",
   "metadata": {},
   "source": [
    "## The RNN model\n",
    "We initialize a simple self feeding network, which consists of two linear layers. The input and the hidden state are passed through **i2h** and **i2o** and the network returns a new hidden state and a normalized probability distribution consisting of a probability for every category defined."
   ]
  },
  {
   "cell_type": "code",
   "execution_count": 2,
   "metadata": {},
   "outputs": [],
   "source": [
    "class RNN(nn.Module):\n",
    "    def __init__(self, input_size, hidden_size, output_size):\n",
    "        super(RNN, self).__init__()\n",
    "\n",
    "        self.hidden_size = hidden_size\n",
    "\n",
    "        self.i2h = nn.Linear(input_size + hidden_size, hidden_size)\n",
    "        self.i2o = nn.Linear(input_size + hidden_size, output_size)\n",
    "        self.softmax = nn.LogSoftmax(dim=1) # softmax_i(x) = log( exp(x_i) / sum(x_z) )  \n",
    "\n",
    "    def forward(self, input, hidden):\n",
    "        combined = torch.cat((input, hidden), 1)\n",
    "        hidden = self.i2h(combined)\n",
    "        output = self.i2o(combined)\n",
    "        output = self.softmax(output)\n",
    "        return output, hidden\n",
    "\n",
    "    def initHidden(self):\n",
    "        return torch.zeros(1, self.hidden_size)"
   ]
  },
  {
   "cell_type": "markdown",
   "metadata": {},
   "source": [
    "## Retrieve the data from the word lists\n",
    "We read in all the text files from the directory and create the classes and their corresponding elements"
   ]
  },
  {
   "cell_type": "code",
   "execution_count": 3,
   "metadata": {},
   "outputs": [],
   "source": [
    "category_lines = {}\n",
    "categories = []"
   ]
  },
  {
   "cell_type": "code",
   "execution_count": 4,
   "metadata": {},
   "outputs": [],
   "source": [
    "for filename in glob.glob('../Produktlisten/*.txt'):\n",
    "    # create the catergories from the filenames\n",
    "    category = os.path.splitext(os.path.basename(filename))[0] \n",
    "    categories.append(category)\n",
    "    # assign the lines from the file to that category\n",
    "    lines = readFile(filename) \n",
    "    category_lines[category] = lines"
   ]
  },
  {
   "cell_type": "code",
   "execution_count": 5,
   "metadata": {},
   "outputs": [],
   "source": [
    "n_categories = len(categories)"
   ]
  },
  {
   "cell_type": "code",
   "execution_count": 6,
   "metadata": {},
   "outputs": [],
   "source": [
    "rnn = RNN(n_letters, n_hidden, n_categories).to(device) # out model\n",
    "criterion = nn.NLLLoss() # the negative log likelihood loss"
   ]
  },
  {
   "cell_type": "code",
   "execution_count": 7,
   "metadata": {},
   "outputs": [],
   "source": [
    "# returns the prediction of the network by passing every letterTensor through the network\n",
    "def evaluate(line_tensor):\n",
    "    hidden = rnn.initHidden() # initialize a hidden tensor for the first feed\n",
    "    \n",
    "    # pass every letter tensor through the network\n",
    "    for i in range(line_tensor.size()[0]):\n",
    "        output, hidden = rnn(line_tensor[i], hidden)\n",
    "\n",
    "    return output"
   ]
  },
  {
   "cell_type": "code",
   "execution_count": 8,
   "metadata": {},
   "outputs": [
    {
     "data": {
      "text/plain": [
       "<All keys matched successfully>"
      ]
     },
     "execution_count": 8,
     "metadata": {},
     "output_type": "execute_result"
    }
   ],
   "source": [
    "rnn.load_state_dict(torch.load(\"state_dicts/model.pt\")) # loads a prtrained model"
   ]
  },
  {
   "cell_type": "code",
   "execution_count": 9,
   "metadata": {},
   "outputs": [],
   "source": [
    "# returns a random training example\n",
    "def randomTrainingExample():\n",
    "    category = randomChoice(categories)\n",
    "    line = randomChoice(category_lines[category])\n",
    "\n",
    "    category_tensor = torch.tensor([categories.index(category)], dtype=torch.long)\n",
    "\n",
    "    line_tensor = lineToTensor(line)\n",
    "    return category, line, category_tensor, line_tensor"
   ]
  },
  {
   "cell_type": "markdown",
   "metadata": {},
   "source": [
    "## Train the network"
   ]
  },
  {
   "cell_type": "code",
   "execution_count": 10,
   "metadata": {},
   "outputs": [],
   "source": [
    "# performs a training step with the given line and category tensor\n",
    "def train(category_tensor, line_tensor):\n",
    "    \n",
    "    hidden = rnn.initHidden() # initialize a hidden tensor for the first feed\n",
    "\n",
    "    rnn.zero_grad() # reset the current gradients \n",
    "    \n",
    "    # pass every letter tensor through the network\n",
    "    for i in range(line_tensor.size()[0]):\n",
    "        output, hidden = rnn(line_tensor[i], hidden)\n",
    "    \n",
    "    # define our loss criterion\n",
    "    loss = criterion(output, category_tensor)\n",
    "    loss.backward()\n",
    "\n",
    "    print(output)\n",
    "    # Add parameters gradients to their values, multiplied by learning rate (Gradient Descent)\n",
    "    for p in rnn.parameters():\n",
    "        p.data.add_(p.grad.data, alpha=-learning_rate)\n",
    "\n",
    "    return output, loss.item()"
   ]
  },
  {
   "cell_type": "code",
   "execution_count": 11,
   "metadata": {},
   "outputs": [],
   "source": [
    "# retieves the category of an output by the network\n",
    "def categoryFromOutput(output):\n",
    "    top_n, top_i = output.topk(1)\n",
    "    category_i = top_i[0].item()\n",
    "    return categories[category_i], category_i"
   ]
  },
  {
   "cell_type": "markdown",
   "metadata": {},
   "source": [
    "## Main Loop"
   ]
  },
  {
   "cell_type": "code",
   "execution_count": 12,
   "metadata": {},
   "outputs": [
    {
     "name": "stdout",
     "output_type": "stream",
     "text": [
      "5000 3% (0m 4s) 0.5995 ANIS / gewuerze ✓\n",
      "10000 6% (0m 8s) 0.0031 SPRUDELWASSER / getraenke ✓\n",
      "15000 10% (0m 12s) 0.0797 SPRITE / getraenke ✓\n",
      "20000 13% (0m 17s) 0.0045 BLAUBEERE / obst ✓\n",
      "25000 16% (0m 21s) 0.0081 NAN / sonstiges ✓\n",
      "30000 20% (0m 25s) 0.0006 TOASTBROT / brot ✓\n",
      "35000 23% (0m 29s) 0.1234 NUTELLA / aufstriche ✓\n",
      "40000 26% (0m 34s) 0.1021 SAFRAN / gewuerze ✓\n",
      "45000 30% (0m 38s) 0.0027 SCHOKOLADE / suesigkeiten ✓\n",
      "50000 33% (0m 42s) 0.0063 NAN / sonstiges ✓\n",
      "55000 36% (0m 46s) 0.0005 SCHLAGSAHNE / milchprodukte ✓\n",
      "60000 40% (0m 51s) 0.2727 AVOCADO / gemuese ✓\n",
      "65000 43% (0m 55s) 0.0214 WEIZENBROT / brot ✓\n",
      "70000 46% (0m 59s) 0.0001 HÄNCHENBRUSTFILET / fleisch_und_fisch ✓\n",
      "75000 50% (1m 4s) 0.0307 LASAGNE / nudeln_und_so ✓\n",
      "80000 53% (1m 8s) 0.0130 MILCHPULVER / milchprodukte ✓\n",
      "85000 56% (1m 12s) 0.0304 PAMPELMUSE / obst ✓\n",
      "90000 60% (1m 16s) 0.0000 HÄNCHENBRUSTFILET / fleisch_und_fisch ✓\n",
      "95000 63% (1m 21s) 0.0000 DAUERMILCHERZEUGNIS / milchprodukte ✓\n",
      "100000 66% (1m 25s) 0.0003 SPRUDELWASSER / getraenke ✓\n",
      "105000 70% (1m 29s) 0.0041 NAN / sonstiges ✓\n",
      "110000 73% (1m 33s) 0.0056 SANDDORNBEERE / obst ✓\n",
      "115000 76% (1m 38s) 0.0062 WEIZENBROT / brot ✓\n",
      "120000 80% (1m 42s) 0.0011 FLADENBROT / brot ✓\n",
      "125000 83% (1m 47s) 0.0000 TASCHENTÜCHER / nichtlebensmittel ✓\n",
      "130000 86% (1m 51s) 0.3422 JOGHURT / milchprodukte ✓\n",
      "135000 90% (1m 55s) 0.1766 ZUCKER / gewuerze ✓\n",
      "140000 93% (2m 0s) 0.0172 GUACAMOLE / aufstriche ✓\n",
      "145000 96% (2m 4s) 0.1922 QUARK / milchprodukte ✓\n",
      "150000 100% (2m 8s) 0.0012 HÄNCHENBRUSTFILET / fleisch_und_fisch ✓\n"
     ]
    },
    {
     "data": {
      "text/plain": [
       "[<matplotlib.lines.Line2D at 0x7fa09019fbe0>]"
      ]
     },
     "execution_count": 12,
     "metadata": {},
     "output_type": "execute_result"
    },
    {
     "data": {
      "image/png": "[encoded data removed]",
      "text/plain": [
       "<Figure size 432x288 with 1 Axes>"
      ]
     },
     "metadata": {
      "needs_background": "light"
     },
     "output_type": "display_data"
    }
   ],
   "source": [
    "n_iters = 150000\n",
    "print_every = 5000\n",
    "plot_every = 1000\n",
    "\n",
    "current_loss = 0\n",
    "all_losses = []\n",
    "\n",
    "def timeSince(since):\n",
    "    now = time.time()\n",
    "    s = now - since\n",
    "    m = math.floor(s / 60)\n",
    "    s -= m * 60\n",
    "    return '%dm %ds' % (m, s)\n",
    "\n",
    "start = time.time()\n",
    "\n",
    "for iter in range(1, n_iters + 1):\n",
    "    category, line, category_tensor, line_tensor = randomTrainingExample()\n",
    "    output, loss = train(category_tensor, line_tensor)\n",
    "    current_loss += loss\n",
    "    \n",
    "    # the logSoftmax function sometimes returns nan, hence the loss is nan. Still haven't found the cause :/\n",
    "    if np.isnan(loss):\n",
    "        print(\"Got NaN at iteration \" + str(iter))\n",
    "        set_trace()\n",
    "        break\n",
    "\n",
    "    # Print iter number, loss, name and guess\n",
    "    if iter % print_every == 0:\n",
    "        guess, guess_i = categoryFromOutput(output)\n",
    "        correct = '✓' if guess == category else '✗ (%s)' % category\n",
    "        print('%d %d%% (%s) %.4f %s / %s %s' % (iter, iter / n_iters * 100, timeSince(start), loss, line, guess, correct))\n",
    "\n",
    "    # Add current loss avg to list of losses\n",
    "    if iter % plot_every == 0:\n",
    "        all_losses.append(current_loss / plot_every)\n",
    "        current_loss = 0\n",
    "\n",
    "# plot the graph of the losses returned during training\n",
    "plt.figure()\n",
    "plt.plot(all_losses)"
   ]
  },
  {
   "cell_type": "markdown",
   "metadata": {},
   "source": [
    "## Evaluate the result"
   ]
  },
  {
   "cell_type": "code",
   "execution_count": 13,
   "metadata": {},
   "outputs": [],
   "source": [
    "def predict(input_line, n_predictions=3):\n",
    "    print('\\n> %s' % input_line)\n",
    "    with torch.no_grad():\n",
    "        output = evaluate(lineToTensor(input_line))\n",
    "\n",
    "        # Get top N categories\n",
    "        topv, topi = output.topk(n_predictions, 1, True)\n",
    "        predictions = []\n",
    "\n",
    "        for i in range(n_predictions):\n",
    "            value = topv[0][i].item()\n",
    "            category_index = topi[0][i].item()\n",
    "            print('(%.2f) %s' % (value, categories[category_index]))\n",
    "            predictions.append([value, categories[category_index]])"
   ]
  },
  {
   "cell_type": "code",
   "execution_count": 23,
   "metadata": {},
   "outputs": [
    {
     "name": "stdout",
     "output_type": "stream",
     "text": [
      "\n",
      "> MILCHSHAKE\n",
      "(-0.16) milchprodukte\n",
      "(-2.49) aufstriche\n",
      "(-2.87) gemuese\n"
     ]
    }
   ],
   "source": [
    "predict(\"Milchshake\".upper())"
   ]
  },
  {
   "cell_type": "code",
   "execution_count": 25,
   "metadata": {},
   "outputs": [],
   "source": [
    "torch.save(rnn.state_dict(), \"state_dicts/model.pt\") # save the trained model"
   ]
  }
 ],
 "metadata": {
  "kernelspec": {
   "display_name": "Python 3",
   "language": "python",
   "name": "python3"
  },
  "language_info": {
   "codemirror_mode": {
    "name": "ipython",
    "version": 3
   },
   "file_extension": ".py",
   "mimetype": "text/x-python",
   "name": "python",
   "nbconvert_exporter": "python",
   "pygments_lexer": "ipython3",
   "version": "3.6.9"
  }
 },
 "nbformat": 4,
 "nbformat_minor": 4
}
