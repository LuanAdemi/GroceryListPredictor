{
 "cells": [
  {
   "cell_type": "markdown",
   "metadata": {},
   "source": [
    "# PClassifier - A NLP approach for classifying grocery products\n",
    "This notebook implements a basic model for classifying grocery products for the GroceryListPredictor project, written by David Hahnemann, Simon Skade und Luan Ademi for the german national artifical intelligence contest <a href=\"https://bw-ki.de/app/entry-page\">BwKI</a>"
   ]
  },
  {
   "cell_type": "code",
   "execution_count": 38,
   "metadata": {},
   "outputs": [],
   "source": [
    "# import the libraries needed for the RNN model\n",
    "import torch\n",
    "import torch.nn as nn\n",
    "import torch.nn.functional as F\n",
    "import numpy as np\n",
    "\n",
    "# some helper classes (see util.py)\n",
    "from util import randomChoice, lineToTensor, readFile\n",
    "\n",
    "# for debugging\n",
    "from IPython.core.debugger import set_trace\n",
    "\n",
    "# import matplotlib for plotting \n",
    "import matplotlib.pyplot as plt\n",
    "import matplotlib.ticker as ticker\n",
    "\n",
    "# other libraries required by this notebook\n",
    "import string\n",
    "import time\n",
    "import math\n",
    "import random\n",
    "import glob\n",
    "import os\n",
    "\n",
    "# the number of hidden neurons of the RNN\n",
    "n_hidden = 128\n",
    "\n",
    "# the learning rate\n",
    "learning_rate = 0.0005\n",
    "\n",
    "# a list containing all ascii caracters and some german exclusive ones\n",
    "all_letters = string.ascii_letters + \" .,;'\" + \"äÄüÜöÖß\"\n",
    "n_letters = len(all_letters)\n",
    "\n",
    "# define the device for the training (Due to a small number of neurons, training on the cpu actually is faster)\n",
    "device = torch.device(\"cpu\")"
   ]
  },
  {
   "cell_type": "markdown",
   "metadata": {},
   "source": [
    "## The RNN model\n",
    "We initialize a simple self feeding network, which consists of two linear layers. The input and the hidden state are passed through **i2h** and **i2o** and the network returns a new hidden state and a normalized probability distribution consisting of a probability for every category defined."
   ]
  },
  {
   "cell_type": "code",
   "execution_count": 39,
   "metadata": {},
   "outputs": [],
   "source": [
    "class RNN(nn.Module):\n",
    "    def __init__(self, input_size, hidden_size, output_size):\n",
    "        super(RNN, self).__init__()\n",
    "\n",
    "        self.hidden_size = hidden_size\n",
    "\n",
    "        self.i2h = nn.Linear(input_size + hidden_size, hidden_size)\n",
    "        self.i2o = nn.Linear(input_size + hidden_size, output_size)\n",
    "        self.softmax = nn.LogSoftmax(dim=1) # softmax_i(x) = log( exp(x_i) / sum(x_z) )  \n",
    "\n",
    "    def forward(self, input, hidden):\n",
    "        combined = torch.cat((input, hidden), 1)\n",
    "        hidden = self.i2h(combined)\n",
    "        output = self.i2o(combined)\n",
    "        output = self.softmax(output)\n",
    "        return output, hidden\n",
    "\n",
    "    def initHidden(self):\n",
    "        return torch.zeros(1, self.hidden_size)"
   ]
  },
  {
   "cell_type": "markdown",
   "metadata": {},
   "source": [
    "## Retrieve the data from the word lists\n",
    "We read in all the text files from the directory and create the classes and their corresponding elements"
   ]
  },
  {
   "cell_type": "code",
   "execution_count": 40,
   "metadata": {},
   "outputs": [],
   "source": [
    "category_lines = {}\n",
    "categories = []"
   ]
  },
  {
   "cell_type": "code",
   "execution_count": 41,
   "metadata": {},
   "outputs": [],
   "source": [
    "for filename in glob.glob('../Produktlisten/*.txt'):\n",
    "    # create the catergories from the filenames\n",
    "    category = os.path.splitext(os.path.basename(filename))[0] \n",
    "    categories.append(category)\n",
    "    # assign the lines from the file to that category\n",
    "    lines = readFile(filename) \n",
    "    category_lines[category] = lines"
   ]
  },
  {
   "cell_type": "code",
   "execution_count": 42,
   "metadata": {},
   "outputs": [],
   "source": [
    "n_categories = len(categories)"
   ]
  },
  {
   "cell_type": "code",
   "execution_count": 43,
   "metadata": {},
   "outputs": [],
   "source": [
    "rnn = RNN(n_letters, n_hidden, n_categories).to(device) # out model\n",
    "criterion = nn.NLLLoss() # the negative log likelihood loss"
   ]
  },
  {
   "cell_type": "code",
   "execution_count": 44,
   "metadata": {},
   "outputs": [],
   "source": [
    "# returns the prediction of the network by passing every letterTensor through the network\n",
    "def evaluate(line_tensor):\n",
    "    hidden = rnn.initHidden()\n",
    "\n",
    "    for i in range(line_tensor.size()[0]):\n",
    "        output, hidden = rnn(line_tensor[i], hidden)\n",
    "\n",
    "    return output"
   ]
  },
  {
   "cell_type": "code",
   "execution_count": 45,
   "metadata": {},
   "outputs": [
    {
     "data": {
      "text/plain": [
       "<All keys matched successfully>"
      ]
     },
     "execution_count": 45,
     "metadata": {},
     "output_type": "execute_result"
    }
   ],
   "source": [
    "rnn.load_state_dict(torch.load(\"state_dicts/model.pt\")) # loads a prtrained model"
   ]
  },
  {
   "cell_type": "code",
   "execution_count": 34,
   "metadata": {},
   "outputs": [],
   "source": [
    "# returns a random training example\n",
    "def randomTrainingExample():\n",
    "    category = randomChoice(categories)\n",
    "    line = randomChoice(category_lines[category])\n",
    "\n",
    "    category_tensor = torch.tensor([categories.index(category)], dtype=torch.long)\n",
    "\n",
    "    line_tensor = lineToTensor(line)\n",
    "    return category, line, category_tensor, line_tensor"
   ]
  },
  {
   "cell_type": "markdown",
   "metadata": {},
   "source": [
    "## Train the network"
   ]
  },
  {
   "cell_type": "code",
   "execution_count": 35,
   "metadata": {},
   "outputs": [],
   "source": [
    "# performs a training step with the given line and category tensor\n",
    "def train(category_tensor, line_tensor):\n",
    "    hidden = rnn.initHidden()\n",
    "\n",
    "    rnn.zero_grad()\n",
    "\n",
    "    for i in range(line_tensor.size()[0]):\n",
    "        output, hidden = rnn(line_tensor[i], hidden)\n",
    "\n",
    "    loss = criterion(output, category_tensor)\n",
    "    loss.backward()\n",
    "\n",
    "    # Add parameters gradients to their values, multiplied by learning rate (Gradient Descent)\n",
    "    for p in rnn.parameters():\n",
    "        p.data.add_(p.grad.data, alpha=-learning_rate)\n",
    "\n",
    "    return output, loss.item()"
   ]
  },
  {
   "cell_type": "code",
   "execution_count": 37,
   "metadata": {},
   "outputs": [],
   "source": [
    "# retieves the category of an output by the network\n",
    "def categoryFromOutput(output):\n",
    "    top_n, top_i = output.topk(1)\n",
    "    category_i = top_i[0].item()\n",
    "    return categories[category_i], category_i"
   ]
  },
  {
   "cell_type": "markdown",
   "metadata": {},
   "source": [
    "## Main Loop"
   ]
  },
  {
   "cell_type": "code",
   "execution_count": 11,
   "metadata": {},
   "outputs": [
    {
     "name": "stdout",
     "output_type": "stream",
     "text": [
      "5000 3% (0m 4s) 2.4421 SPRUDELWASSER / nichtlebensmittel ✗ (getraenke)\n",
      "10000 6% (0m 9s) 2.5346 BAGUETTE / obst ✗ (brot)\n",
      "15000 10% (0m 13s) 1.5210 NAN / sonstiges ✓\n",
      "20000 13% (0m 18s) 1.6906 GUMMIBÄRCHEN / suesigkeiten ✓\n",
      "25000 16% (0m 23s) 0.9104 FLADENBROT / brot ✓\n",
      "30000 20% (0m 27s) 0.4804 ROGGENBROT / brot ✓\n",
      "35000 23% (0m 32s) 2.1626 ZIMT / getraenke ✗ (gewuerze)\n",
      "40000 26% (0m 36s) 1.3860 ZUCKERRÜBENSIRUP / milchprodukte ✗ (aufstriche)\n",
      "45000 30% (0m 41s) 0.6434 APFELSAFT / getraenke ✓\n",
      "50000 33% (0m 45s) 0.0195 TASCHENTÜCHER / nichtlebensmittel ✓\n",
      "55000 36% (0m 50s) 0.0525 NAN / sonstiges ✓\n",
      "60000 40% (0m 54s) 0.9560 BIRNE / obst ✓\n",
      "65000 43% (0m 59s) 0.0580 KNÄCKEBROT / brot ✓\n",
      "70000 46% (1m 3s) 1.6495 CURCUMA / getraenke ✗ (gewuerze)\n",
      "75000 50% (1m 8s) 0.0141 TASCHENTÜCHER / nichtlebensmittel ✓\n",
      "80000 53% (1m 12s) 0.7601 STERNANIS / gewuerze ✓\n",
      "85000 56% (1m 17s) 1.2591 CHAMPIGNON / aufstriche ✗ (gemuese)\n",
      "90000 60% (1m 21s) 0.2856 RAVIOLI / nudeln_und_so ✓\n",
      "95000 63% (1m 26s) 0.0020 HÄNCHENBRUSTFILET / fleisch_und_fisch ✓\n",
      "100000 66% (1m 30s) 0.0104 CANNELLONI / nudeln_und_so ✓\n",
      "105000 70% (1m 35s) 1.6108 CHILI / gewuerze ✗ (gemuese)\n",
      "110000 73% (1m 39s) 1.2563 GRANATAPFEL / obst ✓\n",
      "115000 76% (1m 44s) 0.0202 NAN / sonstiges ✓\n",
      "120000 80% (1m 49s) 0.0027 HÄNCHENBRUSTFILET / fleisch_und_fisch ✓\n",
      "125000 83% (1m 53s) 0.0159 NAN / sonstiges ✓\n",
      "130000 86% (1m 58s) 0.4766 KOPFSALAT / gemuese ✓\n",
      "135000 90% (2m 2s) 0.4423 MOLKENPULVER / milchprodukte ✓\n",
      "140000 93% (2m 7s) 0.0153 NAN / sonstiges ✓\n",
      "145000 96% (2m 11s) 0.1468 BROMBEERE / obst ✓\n",
      "150000 100% (2m 16s) 0.0238 SPRUDELWASSER / getraenke ✓\n"
     ]
    }
   ],
   "source": [
    "n_iters = 150000\n",
    "print_every = 5000\n",
    "plot_every = 1000\n",
    "\n",
    "current_loss = 0\n",
    "all_losses = []\n",
    "\n",
    "def timeSince(since):\n",
    "    now = time.time()\n",
    "    s = now - since\n",
    "    m = math.floor(s / 60)\n",
    "    s -= m * 60\n",
    "    return '%dm %ds' % (m, s)\n",
    "\n",
    "start = time.time()\n",
    "\n",
    "for iter in range(1, n_iters + 1):\n",
    "    category, line, category_tensor, line_tensor = randomTrainingExample()\n",
    "    output, loss = train(category_tensor, line_tensor)\n",
    "    current_loss += loss\n",
    "    \n",
    "    if np.isnan(loss):\n",
    "        print(\"Got NaN at iteration \" + str(iter))\n",
    "        set_trace()\n",
    "        break\n",
    "\n",
    "    # Print iter number, loss, name and guess\n",
    "    if iter % print_every == 0:\n",
    "        guess, guess_i = categoryFromOutput(output)\n",
    "        correct = '✓' if guess == category else '✗ (%s)' % category\n",
    "        print('%d %d%% (%s) %.4f %s / %s %s' % (iter, iter / n_iters * 100, timeSince(start), loss, line, guess, correct))\n",
    "\n",
    "    # Add current loss avg to list of losses\n",
    "    if iter % plot_every == 0:\n",
    "        all_losses.append(current_loss / plot_every)\n",
    "        current_loss = 0\n",
    "\n",
    "plt.figure()\n",
    "plt.plot(all_losses)"
   ]
  },
  {
   "cell_type": "markdown",
   "metadata": {},
   "source": [
    "## Evaluate the result"
   ]
  },
  {
   "cell_type": "code",
   "execution_count": 48,
   "metadata": {},
   "outputs": [],
   "source": [
    "def predict(input_line, n_predictions=3):\n",
    "    print('\\n> %s' % input_line)\n",
    "    with torch.no_grad():\n",
    "        output = evaluate(lineToTensor(input_line))\n",
    "\n",
    "        # Get top N categories\n",
    "        topv, topi = output.topk(n_predictions, 1, True)\n",
    "        predictions = []\n",
    "\n",
    "        for i in range(n_predictions):\n",
    "            value = topv[0][i].item()\n",
    "            category_index = topi[0][i].item()\n",
    "            print('(%.2f) %s' % (value, categories[category_index]))\n",
    "            predictions.append([value, categories[category_index]])"
   ]
  },
  {
   "cell_type": "code",
   "execution_count": 52,
   "metadata": {},
   "outputs": [
    {
     "name": "stdout",
     "output_type": "stream",
     "text": [
      "\n",
      "> BIER\n",
      "(-0.40) gewuerze\n",
      "(-1.92) gemuese\n",
      "(-2.33) aufstriche\n"
     ]
    }
   ],
   "source": [
    "predict(\"Bier\".upper())"
   ]
  },
  {
   "cell_type": "code",
   "execution_count": 25,
   "metadata": {},
   "outputs": [],
   "source": [
    "torch.save(rnn.state_dict(), \"state_dicts/model.pt\") # save the trained model"
   ]
  }
 ],
 "metadata": {
  "kernelspec": {
   "display_name": "Python 3",
   "language": "python",
   "name": "python3"
  },
  "language_info": {
   "codemirror_mode": {
    "name": "ipython",
    "version": 3
   },
   "file_extension": ".py",
   "mimetype": "text/x-python",
   "name": "python",
   "nbconvert_exporter": "python",
   "pygments_lexer": "ipython3",
   "version": "3.6.9"
  }
 },
 "nbformat": 4,
 "nbformat_minor": 4
}
