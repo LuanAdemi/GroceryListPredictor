{
 "cells": [
  {
   "cell_type": "code",
   "execution_count": 118,
   "metadata": {},
   "outputs": [],
   "source": [
    "import torch\n",
    "import torch.nn as nn\n",
    "import torch.nn.functional as F\n",
    "import numpy as np\n",
    "\n",
    "from util import randomChoice, lineToTensor\n",
    "from util import categoryFromOutput\n",
    "\n",
    "import string\n",
    "import time\n",
    "import math\n",
    "import random\n",
    "\n",
    "\n",
    "class RNN(nn.Module):\n",
    "    def __init__(self, input_size, hidden_size, output_size):\n",
    "        super(RNN, self).__init__()\n",
    "\n",
    "        self.hidden_size = hidden_size\n",
    "\n",
    "        self.i2h = nn.Linear(input_size + hidden_size, hidden_size)\n",
    "        self.i2o = nn.Linear(input_size + hidden_size, output_size)\n",
    "        self.softmax = nn.LogSoftmax(dim=1)\n",
    "\n",
    "    def forward(self, input, hidden):\n",
    "        combined = torch.cat((input, hidden), 1)\n",
    "        hidden = self.i2h(combined)\n",
    "        output = self.i2o(combined)\n",
    "        output = self.softmax(output)\n",
    "        return output, hidden\n",
    "\n",
    "    def initHidden(self):\n",
    "        return torch.zeros(1, self.hidden_size)\n",
    "    \n",
    "    def getCategory(self, word):\n",
    "        lineTensor = lineToTensor(word)\n",
    "        hidden = rnn.initHidden()\n",
    "        \n",
    "        for i in range(lineTensor.size()[0]):\n",
    "            output, hidden = rnn(lineTensor[i], hidden)\n",
    "            \n",
    "        category = categoryFromOutput(output)\n",
    "        return category"
   ]
  },
  {
   "cell_type": "code",
   "execution_count": 119,
   "metadata": {},
   "outputs": [],
   "source": [
    "n_hidden = 128\n",
    "\n",
    "all_letters = string.ascii_letters + \" .,;'\" + \"äÄüÜöÖ\"\n",
    "n_letters = len(all_letters)\n",
    "\n",
    "rnn = RNN(n_letters, n_hidden, 3)\n",
    "\n",
    "learning_rate = 0.005\n",
    "\n",
    "criterion = nn.NLLLoss()"
   ]
  },
  {
   "cell_type": "code",
   "execution_count": 120,
   "metadata": {},
   "outputs": [],
   "source": [
    "training_data = [\"Käse Butter Milch Joghurt Buttermilch Erdbeermilch Schokomilch\".upper().split(), \"Schokolade Eis Schokocreme Gummibärchen\".upper().split()]"
   ]
  },
  {
   "cell_type": "code",
   "execution_count": 121,
   "metadata": {},
   "outputs": [],
   "source": [
    "catergories = [\"Milchprodukte\", \"Süßwaren\"]"
   ]
  },
  {
   "cell_type": "code",
   "execution_count": 122,
   "metadata": {},
   "outputs": [],
   "source": [
    "def randomTrainingExample():\n",
    "    category = random.randint(0,1)\n",
    "    line = randomChoice(training_data[category])\n",
    "\n",
    "    category_tensor = torch.tensor([category], dtype=torch.long)\n",
    "\n",
    "    line_tensor = lineToTensor(line)\n",
    "    return category, line, category_tensor, line_tensor"
   ]
  },
  {
   "cell_type": "code",
   "execution_count": 123,
   "metadata": {},
   "outputs": [],
   "source": [
    "def train(category_tensor, line_tensor):\n",
    "    hidden = rnn.initHidden()\n",
    "    rnn.zero_grad()\n",
    "\n",
    "    for i in range(line_tensor.size()[0]):\n",
    "        output, hidden = rnn(line_tensor[i], hidden)\n",
    "        \n",
    "    loss = criterion(output, category_tensor)\n",
    "    loss.backward()\n",
    "\n",
    "    # Add parameters' gradients to their values, multiplied by learning rate\n",
    "    for p in rnn.parameters():\n",
    "        p.data.add_(p.grad.data, alpha=-learning_rate)\n",
    "\n",
    "    return output, loss.item()"
   ]
  },
  {
   "cell_type": "code",
   "execution_count": 124,
   "metadata": {},
   "outputs": [],
   "source": [
    "def evaluate(line_tensor):\n",
    "    hidden = rnn.initHidden()\n",
    "\n",
    "    for i in range(line_tensor.size()[0]):\n",
    "        output, hidden = rnn(line_tensor[i], hidden)\n",
    "\n",
    "    return output"
   ]
  },
  {
   "cell_type": "code",
   "execution_count": 125,
   "metadata": {},
   "outputs": [
    {
     "name": "stdout",
     "output_type": "stream",
     "text": [
      "5000 5% (0m 4s) 0.0100 EIS / 1 ✓\n",
      "10000 10% (0m 8s) 0.0038 EIS / 1 ✓\n",
      "15000 15% (0m 12s) 0.0002 JOGHURT / 0 ✓\n",
      "20000 20% (0m 17s) 0.0016 EIS / 1 ✓\n",
      "25000 25% (0m 21s) 0.0001 SCHOKOLADE / 1 ✓\n",
      "30000 30% (0m 25s) 0.0001 GUMMIBÄRCHEN / 1 ✓\n",
      "35000 35% (0m 30s) 0.0000 SCHOKOLADE / 1 ✓\n",
      "40000 40% (0m 34s) 0.0000 SCHOKOCREME / 1 ✓\n",
      "45000 45% (0m 38s) 0.0001 SCHOKOMILCH / 0 ✓\n",
      "50000 50% (0m 43s) 0.0000 SCHOKOLADE / 1 ✓\n",
      "55000 55% (0m 47s) 0.0000 BUTTERMILCH / 0 ✓\n",
      "60000 60% (0m 50s) 0.0000 ERDBEERMILCH / 0 ✓\n",
      "65000 65% (0m 54s) 0.0002 KÄSE / 0 ✓\n",
      "70000 70% (0m 58s) 0.0000 GUMMIBÄRCHEN / 1 ✓\n",
      "75000 75% (1m 2s) 0.0000 MILCH / 0 ✓\n",
      "80000 80% (1m 6s) 0.0003 EIS / 1 ✓\n",
      "85000 85% (1m 10s) 0.0000 SCHOKOLADE / 1 ✓\n",
      "90000 90% (1m 14s) 0.0000 BUTTERMILCH / 0 ✓\n",
      "95000 95% (1m 18s) 0.0000 MILCH / 0 ✓\n",
      "100000 100% (1m 22s) 0.0000 BUTTER / 0 ✓\n"
     ]
    }
   ],
   "source": [
    "n_iters = 100000\n",
    "print_every = 5000\n",
    "plot_every = 1000\n",
    "\n",
    "current_loss = 0\n",
    "all_losses = []\n",
    "\n",
    "def timeSince(since):\n",
    "    now = time.time()\n",
    "    s = now - since\n",
    "    m = math.floor(s / 60)\n",
    "    s -= m * 60\n",
    "    return '%dm %ds' % (m, s)\n",
    "\n",
    "start = time.time()\n",
    "\n",
    "for iter in range(1, n_iters + 1):\n",
    "    category, line, category_tensor, line_tensor = randomTrainingExample()\n",
    "    output, loss = train(category_tensor, line_tensor)\n",
    "    current_loss += loss\n",
    "\n",
    "    # Print iter number, loss, name and guess\n",
    "    if iter % print_every == 0:\n",
    "        guess_i = categoryFromOutput(output)\n",
    "        correct = '✓' if guess_i == category else '✗ (%s)' % category\n",
    "        print('%d %d%% (%s) %.4f %s / %s %s' % (iter, iter / n_iters * 100, timeSince(start), loss, line, guess_i, correct))\n",
    "\n",
    "    # Add current loss avg to list of losses\n",
    "    if iter % plot_every == 0:\n",
    "        all_losses.append(current_loss / plot_every)\n",
    "        current_loss = 0"
   ]
  },
  {
   "cell_type": "code",
   "execution_count": 138,
   "metadata": {},
   "outputs": [
    {
     "name": "stdout",
     "output_type": "stream",
     "text": [
      "Schokoladenmilch is in catergory 0 (Milchprodukte)\n"
     ]
    }
   ],
   "source": [
    "word = \"Schokoladenmilch\"\n",
    "cat = rnn.getCategory(word.upper())\n",
    "print(word + \" is in catergory \" + str(cat) + \" (\" + str(catergories[cat]) + \")\")"
   ]
  },
  {
   "cell_type": "code",
   "execution_count": null,
   "metadata": {},
   "outputs": [],
   "source": []
  }
 ],
 "metadata": {
  "kernelspec": {
   "display_name": "Python 3",
   "language": "python",
   "name": "python3"
  },
  "language_info": {
   "codemirror_mode": {
    "name": "ipython",
    "version": 3
   },
   "file_extension": ".py",
   "mimetype": "text/x-python",
   "name": "python",
   "nbconvert_exporter": "python",
   "pygments_lexer": "ipython3",
   "version": "3.6.9"
  }
 },
 "nbformat": 4,
 "nbformat_minor": 4
}
