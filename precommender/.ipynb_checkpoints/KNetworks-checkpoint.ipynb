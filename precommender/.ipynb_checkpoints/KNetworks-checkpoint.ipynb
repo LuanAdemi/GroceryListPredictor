{
 "cells": [
  {
   "cell_type": "code",
   "execution_count": 136,
   "metadata": {
    "execution": {
     "iopub.execute_input": "2020-08-24T18:20:19.946213Z",
     "iopub.status.busy": "2020-08-24T18:20:19.946051Z",
     "iopub.status.idle": "2020-08-24T18:20:19.948956Z",
     "shell.execute_reply": "2020-08-24T18:20:19.948608Z",
     "shell.execute_reply.started": "2020-08-24T18:20:19.946200Z"
    }
   },
   "outputs": [],
   "source": [
    "import matplotlib.pyplot as plt\n",
    "from mpl_toolkits.mplot3d import Axes3D\n",
    "from matplotlib import animation\n",
    "from celluloid import Camera\n",
    "from sklearn.datasets import make_blobs\n",
    "from kmeans import kmeans\n",
    "from sklearn.preprocessing import StandardScaler\n",
    "\n",
    "from sklearn.preprocessing import StandardScaler\n",
    "from sklearn.metrics import silhouette_score\n",
    "import numpy as np\n",
    "import random\n",
    "\n",
    "from scipy.special import softmax"
   ]
  },
  {
   "cell_type": "code",
   "execution_count": 8,
   "metadata": {
    "execution": {
     "iopub.execute_input": "2020-08-24T17:42:00.889393Z",
     "iopub.status.busy": "2020-08-24T17:42:00.889252Z",
     "iopub.status.idle": "2020-08-24T17:42:00.892759Z",
     "shell.execute_reply": "2020-08-24T17:42:00.892467Z",
     "shell.execute_reply.started": "2020-08-24T17:42:00.889380Z"
    }
   },
   "outputs": [],
   "source": [
    "centers = 10\n",
    "samples = 200\n",
    "X, _ = make_blobs(n_samples=samples, centers=centers, n_features=2, cluster_std=0.9, random_state=2)\n",
    "scaler = StandardScaler()\n",
    "X = scaler.fit_transform(X)"
   ]
  },
  {
   "cell_type": "code",
   "execution_count": 9,
   "metadata": {
    "execution": {
     "iopub.execute_input": "2020-08-24T17:42:01.119127Z",
     "iopub.status.busy": "2020-08-24T17:42:01.118984Z",
     "iopub.status.idle": "2020-08-24T17:42:01.205190Z",
     "shell.execute_reply": "2020-08-24T17:42:01.204830Z",
     "shell.execute_reply.started": "2020-08-24T17:42:01.119114Z"
    }
   },
   "outputs": [
    {
     "data": {
      "text/plain": [
       "<matplotlib.collections.PathCollection at 0x7f3faa118fd0>"
      ]
     },
     "execution_count": 9,
     "metadata": {},
     "output_type": "execute_result"
    },
    {
     "data": {
      "image/png": "[encoded data removed]",
      "text/plain": [
       "<Figure size 432x288 with 1 Axes>"
      ]
     },
     "metadata": {
      "needs_background": "light"
     },
     "output_type": "display_data"
    }
   ],
   "source": [
    "plt.scatter(X[:, 0], X[:,-1])"
   ]
  },
  {
   "cell_type": "code",
   "execution_count": 11,
   "metadata": {
    "execution": {
     "iopub.execute_input": "2020-08-24T17:42:17.985949Z",
     "iopub.status.busy": "2020-08-24T17:42:17.985791Z",
     "iopub.status.idle": "2020-08-24T17:42:18.030323Z",
     "shell.execute_reply": "2020-08-24T17:42:18.029955Z",
     "shell.execute_reply.started": "2020-08-24T17:42:17.985933Z"
    }
   },
   "outputs": [],
   "source": [
    "kmean = kmeans(10)\n",
    "kmean.fit(X, max_iters=1)"
   ]
  },
  {
   "cell_type": "code",
   "execution_count": 14,
   "metadata": {
    "execution": {
     "iopub.execute_input": "2020-08-24T17:43:07.603310Z",
     "iopub.status.busy": "2020-08-24T17:43:07.603109Z",
     "iopub.status.idle": "2020-08-24T17:43:07.691548Z",
     "shell.execute_reply": "2020-08-24T17:43:07.691169Z",
     "shell.execute_reply.started": "2020-08-24T17:43:07.603295Z"
    }
   },
   "outputs": [
    {
     "data": {
      "text/plain": [
       "<matplotlib.collections.PathCollection at 0x7f3fa98cb220>"
      ]
     },
     "execution_count": 14,
     "metadata": {},
     "output_type": "execute_result"
    },
    {
     "data": {
      "image/png": "[encoded data removed]",
      "text/plain": [
       "<Figure size 432x288 with 1 Axes>"
      ]
     },
     "metadata": {
      "needs_background": "light"
     },
     "output_type": "display_data"
    }
   ],
   "source": [
    "plt.scatter(X[:, 0], X[:,-1])\n",
    "plt.scatter(kmean.centroids[:,0], kmean.centroids[:,-1])"
   ]
  },
  {
   "cell_type": "code",
   "execution_count": 76,
   "metadata": {
    "execution": {
     "iopub.execute_input": "2020-08-24T18:00:19.437384Z",
     "iopub.status.busy": "2020-08-24T18:00:19.437223Z",
     "iopub.status.idle": "2020-08-24T18:00:19.439684Z",
     "shell.execute_reply": "2020-08-24T18:00:19.439250Z",
     "shell.execute_reply.started": "2020-08-24T18:00:19.437367Z"
    }
   },
   "outputs": [],
   "source": [
    "D = kmean.calcDistances(kmean.centroids, X)"
   ]
  },
  {
   "cell_type": "code",
   "execution_count": 77,
   "metadata": {
    "execution": {
     "iopub.execute_input": "2020-08-24T18:00:19.808843Z",
     "iopub.status.busy": "2020-08-24T18:00:19.808674Z",
     "iopub.status.idle": "2020-08-24T18:00:19.811156Z",
     "shell.execute_reply": "2020-08-24T18:00:19.810905Z",
     "shell.execute_reply.started": "2020-08-24T18:00:19.808827Z"
    }
   },
   "outputs": [
    {
     "data": {
      "text/plain": [
       "(10, 200)"
      ]
     },
     "execution_count": 77,
     "metadata": {},
     "output_type": "execute_result"
    }
   ],
   "source": [
    "D.shape"
   ]
  },
  {
   "cell_type": "code",
   "execution_count": 78,
   "metadata": {
    "execution": {
     "iopub.execute_input": "2020-08-24T18:00:20.270867Z",
     "iopub.status.busy": "2020-08-24T18:00:20.270708Z",
     "iopub.status.idle": "2020-08-24T18:00:20.273697Z",
     "shell.execute_reply": "2020-08-24T18:00:20.273366Z",
     "shell.execute_reply.started": "2020-08-24T18:00:20.270852Z"
    }
   },
   "outputs": [
    {
     "data": {
      "text/plain": [
       "array([5, 7, 6, 1, 6, 4, 2, 7, 5, 0, 5, 6, 5, 2, 2, 0, 2, 4, 4, 4, 0, 2,\n",
       "       2, 4, 6, 0, 1, 0, 5, 0, 3, 4, 6, 0, 9, 0, 7, 2, 2, 2, 1, 4, 0, 7,\n",
       "       0, 4, 6, 9, 6, 0, 2, 4, 2, 4, 4, 4, 2, 4, 7, 0, 2, 0, 3, 4, 8, 4,\n",
       "       7, 5, 6, 1, 5, 3, 3, 4, 1, 7, 5, 9, 0, 5, 5, 4, 0, 4, 3, 4, 0, 0,\n",
       "       2, 7, 8, 3, 4, 9, 4, 5, 3, 4, 0, 4, 2, 7, 5, 9, 3, 5, 0, 6, 1, 2,\n",
       "       0, 5, 6, 3, 3, 3, 4, 3, 2, 0, 3, 2, 5, 3, 4, 6, 6, 6, 5, 4, 5, 0,\n",
       "       4, 7, 5, 5, 6, 6, 5, 0, 7, 0, 4, 0, 0, 3, 1, 1, 4, 0, 4, 5, 7, 5,\n",
       "       4, 0, 3, 0, 1, 7, 9, 4, 3, 5, 6, 6, 4, 4, 3, 0, 9, 4, 4, 4, 3, 0,\n",
       "       0, 1, 6, 0, 4, 4, 9, 2, 3, 3, 0, 2, 3, 3, 3, 5, 3, 7, 6, 3, 1, 3,\n",
       "       1, 0])"
      ]
     },
     "execution_count": 78,
     "metadata": {},
     "output_type": "execute_result"
    }
   ],
   "source": [
    "kmean.affiliations"
   ]
  },
  {
   "cell_type": "code",
   "execution_count": 131,
   "metadata": {
    "execution": {
     "iopub.execute_input": "2020-08-24T18:13:19.737527Z",
     "iopub.status.busy": "2020-08-24T18:13:19.737357Z",
     "iopub.status.idle": "2020-08-24T18:13:19.740307Z",
     "shell.execute_reply": "2020-08-24T18:13:19.740057Z",
     "shell.execute_reply.started": "2020-08-24T18:13:19.737512Z"
    }
   },
   "outputs": [
    {
     "data": {
      "text/plain": [
       "array([[1.19866161, 1.8975902 , 3.08891881, ..., 1.85433331, 3.90294794,\n",
       "        0.03209892],\n",
       "       [3.36713709, 1.97885813, 1.87124756, ..., 2.35411619, 0.10452609,\n",
       "        3.88636089],\n",
       "       [2.89598687, 1.50154867, 2.81928284, ..., 2.26057862, 1.95677705,\n",
       "        2.7217984 ],\n",
       "       ...,\n",
       "       [1.46239669, 0.28517061, 1.32879871, ..., 0.5464288 , 1.98265712,\n",
       "        2.02880697],\n",
       "       [2.01843521, 2.7177549 , 3.96951852, ..., 2.73438908, 4.68572788,\n",
       "        0.85439851],\n",
       "       [3.14357236, 1.69806856, 1.85686246, ..., 2.15079508, 0.33883118,\n",
       "        3.58899971]])"
      ]
     },
     "execution_count": 131,
     "metadata": {},
     "output_type": "execute_result"
    }
   ],
   "source": [
    "D"
   ]
  },
  {
   "cell_type": "code",
   "execution_count": 169,
   "metadata": {
    "execution": {
     "iopub.execute_input": "2020-08-24T18:24:54.949323Z",
     "iopub.status.busy": "2020-08-24T18:24:54.949169Z",
     "iopub.status.idle": "2020-08-24T18:24:54.951492Z",
     "shell.execute_reply": "2020-08-24T18:24:54.951244Z",
     "shell.execute_reply.started": "2020-08-24T18:24:54.949307Z"
    }
   },
   "outputs": [],
   "source": [
    "W = np.minimum((1/D)**2, np.full(D.shape, 100))"
   ]
  },
  {
   "cell_type": "code",
   "execution_count": 170,
   "metadata": {
    "execution": {
     "iopub.execute_input": "2020-08-24T18:24:55.218382Z",
     "iopub.status.busy": "2020-08-24T18:24:55.218221Z",
     "iopub.status.idle": "2020-08-24T18:24:55.220938Z",
     "shell.execute_reply": "2020-08-24T18:24:55.220673Z",
     "shell.execute_reply.started": "2020-08-24T18:24:55.218365Z"
    }
   },
   "outputs": [],
   "source": [
    "W = [W[i]/sum(W[i]) for i in range(kmean.k)]\n",
    "W = np.array(W)"
   ]
  },
  {
   "cell_type": "code",
   "execution_count": 171,
   "metadata": {
    "execution": {
     "iopub.execute_input": "2020-08-24T18:24:55.442109Z",
     "iopub.status.busy": "2020-08-24T18:24:55.441956Z",
     "iopub.status.idle": "2020-08-24T18:24:55.444532Z",
     "shell.execute_reply": "2020-08-24T18:24:55.444303Z",
     "shell.execute_reply.started": "2020-08-24T18:24:55.442093Z"
    }
   },
   "outputs": [
    {
     "data": {
      "text/plain": [
       "0.9999999999999992"
      ]
     },
     "execution_count": 171,
     "metadata": {},
     "output_type": "execute_result"
    }
   ],
   "source": [
    "sum(W[0])"
   ]
  },
  {
   "cell_type": "code",
   "execution_count": 172,
   "metadata": {
    "execution": {
     "iopub.execute_input": "2020-08-24T18:24:55.788026Z",
     "iopub.status.busy": "2020-08-24T18:24:55.787866Z",
     "iopub.status.idle": "2020-08-24T18:24:55.792020Z",
     "shell.execute_reply": "2020-08-24T18:24:55.791678Z",
     "shell.execute_reply.started": "2020-08-24T18:24:55.788011Z"
    }
   },
   "outputs": [
    {
     "data": {
      "text/plain": [
       "array([9.97853145e-04, 3.98157562e-04, 1.50261195e-04, 9.61132636e-05,\n",
       "       1.27923211e-04, 5.75974656e-04, 1.92537979e-04, 3.36482004e-04,\n",
       "       1.37471476e-03, 9.45087969e-03, 4.49707135e-03, 1.48442581e-04,\n",
       "       1.26973596e-03, 1.86457474e-04, 1.73473113e-04, 2.73590158e-02,\n",
       "       2.44702031e-04, 3.87125724e-04, 5.43795215e-04, 4.65433434e-04,\n",
       "       1.18674858e-02, 1.98292064e-04, 1.85667912e-04, 7.35723818e-04,\n",
       "       1.42339046e-04, 3.54739258e-03, 1.05781441e-04, 1.87546199e-02,\n",
       "       1.10659958e-03, 7.60391789e-03, 3.98294713e-04, 6.26628833e-04,\n",
       "       1.34071287e-04, 4.47270607e-03, 1.14950208e-04, 8.92204348e-03,\n",
       "       2.83964625e-04, 2.00275722e-04, 1.67091817e-04, 2.01078334e-04,\n",
       "       8.36769978e-05, 5.01941477e-04, 1.55496387e-02, 2.58049699e-04,\n",
       "       1.11358204e-02, 4.43790970e-04, 1.56185312e-04, 9.83430275e-05,\n",
       "       1.29095595e-04, 5.61180770e-03, 1.60287998e-04, 4.10867436e-04,\n",
       "       1.89232609e-04, 4.90038202e-04, 7.30442135e-04, 4.69394962e-04,\n",
       "       2.70631343e-04, 3.83359895e-04, 3.88899972e-04, 1.43370508e-01,\n",
       "       1.89904504e-04, 1.36003348e-02, 4.00653935e-04, 4.22795348e-04,\n",
       "       2.78896684e-03, 4.77192778e-04, 4.08594453e-04, 1.22635232e-03,\n",
       "       1.45372897e-04, 9.45008922e-05, 1.17088170e-03, 3.34603863e-04,\n",
       "       3.71432074e-04, 4.62972602e-04, 9.12447633e-05, 2.65858346e-04,\n",
       "       1.31368101e-03, 9.81159759e-05, 5.29913293e-03, 3.75985528e-03,\n",
       "       1.11008810e-03, 4.69196201e-04, 1.99157996e-02, 4.60056877e-04,\n",
       "       4.02519279e-04, 3.92838341e-04, 5.26659572e-03, 2.80213355e-03,\n",
       "       1.89974298e-04, 4.74657614e-04, 1.30226860e-03, 4.09944537e-04,\n",
       "       5.34143585e-04, 1.11360355e-04, 4.05188611e-04, 2.29662216e-03,\n",
       "       5.24040528e-04, 4.33810252e-04, 2.26012717e-02, 5.31899436e-04,\n",
       "       1.68370328e-04, 3.91147381e-04, 2.52854364e-03, 1.19989324e-04,\n",
       "       3.55938757e-04, 1.18348226e-03, 5.39102760e-03, 1.61616903e-04,\n",
       "       9.69088737e-05, 2.11971695e-04, 1.55939808e-02, 2.38859566e-03,\n",
       "       1.43027499e-04, 2.88817693e-04, 4.21045161e-04, 4.08647951e-04,\n",
       "       7.15802930e-04, 3.72632738e-04, 2.16851800e-04, 3.59382526e-02,\n",
       "       5.75026594e-04, 1.84073274e-04, 1.04905018e-03, 5.04053909e-04,\n",
       "       4.19500696e-04, 1.47867795e-04, 1.96969465e-04, 1.45880204e-04,\n",
       "       1.73054266e-03, 9.62768453e-04, 5.76777713e-04, 5.55017371e-03,\n",
       "       4.77302681e-04, 3.87855682e-04, 1.45985172e-03, 2.39706404e-03,\n",
       "       1.32544695e-04, 1.57746405e-04, 1.88884856e-03, 1.43370508e-01,\n",
       "       3.31613295e-04, 3.65699518e-02, 4.50479349e-04, 1.19798492e-02,\n",
       "       7.43699481e-03, 2.92970698e-04, 1.02876957e-04, 9.90534705e-05,\n",
       "       6.29097078e-04, 5.87428388e-03, 6.64889104e-04, 1.69965587e-03,\n",
       "       3.89258155e-04, 1.48669599e-03, 7.75981199e-04, 4.93849441e-03,\n",
       "       3.48695455e-04, 1.32389153e-02, 9.43878425e-05, 3.84342886e-04,\n",
       "       1.15218118e-04, 4.05349380e-04, 5.08515210e-04, 2.06747743e-03,\n",
       "       1.68144739e-04, 1.70373341e-04, 5.19558388e-04, 5.08249410e-04,\n",
       "       3.29919560e-04, 7.27973264e-03, 1.15605575e-04, 4.84231532e-04,\n",
       "       5.81276967e-04, 4.96725417e-04, 4.18494025e-04, 8.22450733e-03,\n",
       "       1.09166662e-01, 9.14298695e-05, 1.27873930e-04, 1.30801774e-02,\n",
       "       4.14133009e-04, 5.24799159e-04, 1.24678949e-04, 1.62337696e-04,\n",
       "       4.16652257e-04, 3.71728860e-04, 4.86560241e-03, 2.04140734e-04,\n",
       "       4.13472096e-04, 4.84483074e-04, 3.96914812e-04, 1.26873933e-03,\n",
       "       1.93154819e-04, 3.11076296e-04, 1.55302208e-04, 5.18617176e-04,\n",
       "       9.95793767e-05, 4.16950238e-04, 9.41183503e-05, 1.43370508e-01])"
      ]
     },
     "execution_count": 172,
     "metadata": {},
     "output_type": "execute_result"
    }
   ],
   "source": [
    "W[0]"
   ]
  },
  {
   "cell_type": "code",
   "execution_count": 255,
   "metadata": {
    "execution": {
     "iopub.execute_input": "2020-08-24T18:26:36.945876Z",
     "iopub.status.busy": "2020-08-24T18:26:36.945723Z",
     "iopub.status.idle": "2020-08-24T18:26:36.949393Z",
     "shell.execute_reply": "2020-08-24T18:26:36.949007Z",
     "shell.execute_reply.started": "2020-08-24T18:26:36.945861Z"
    }
   },
   "outputs": [
    {
     "data": {
      "text/plain": [
       "59"
      ]
     },
     "execution_count": 255,
     "metadata": {},
     "output_type": "execute_result"
    }
   ],
   "source": [
    "np.random.choice(np.array(range(200)),p=W[0])"
   ]
  }
 ],
 "metadata": {
  "kernelspec": {
   "display_name": "Python 3",
   "language": "python",
   "name": "python3"
  },
  "language_info": {
   "codemirror_mode": {
    "name": "ipython",
    "version": 3
   },
   "file_extension": ".py",
   "mimetype": "text/x-python",
   "name": "python",
   "nbconvert_exporter": "python",
   "pygments_lexer": "ipython3",
   "version": "3.8.5"
  }
 },
 "nbformat": 4,
 "nbformat_minor": 4
}
