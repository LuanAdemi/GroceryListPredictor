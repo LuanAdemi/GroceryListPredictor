{
 "cells": [
  {
   "cell_type": "code",
   "execution_count": 11,
   "metadata": {
    "execution": {
     "iopub.execute_input": "2020-08-16T16:57:32.685425Z",
     "iopub.status.busy": "2020-08-16T16:57:32.685234Z",
     "iopub.status.idle": "2020-08-16T16:57:32.690037Z",
     "shell.execute_reply": "2020-08-16T16:57:32.689673Z",
     "shell.execute_reply.started": "2020-08-16T16:57:32.685405Z"
    }
   },
   "outputs": [],
   "source": [
    "import matplotlib.pyplot as plt\n",
    "from mpl_toolkits.mplot3d import Axes3D\n",
    "from sklearn.datasets import make_blobs\n",
    "from kmeans import kmeans\n",
    "from sklearn.preprocessing import StandardScaler\n",
    "\n",
    "from sklearn.preprocessing import StandardScaler\n",
    "from sklearn.metrics import silhouette_score\n",
    "import numpy as np\n",
    "import random\n",
    "%matplotlib widget"
   ]
  },
  {
   "cell_type": "code",
   "execution_count": 15,
   "metadata": {
    "execution": {
     "iopub.execute_input": "2020-08-16T16:57:38.643108Z",
     "iopub.status.busy": "2020-08-16T16:57:38.642951Z",
     "iopub.status.idle": "2020-08-16T16:57:38.650952Z",
     "shell.execute_reply": "2020-08-16T16:57:38.650524Z",
     "shell.execute_reply.started": "2020-08-16T16:57:38.643093Z"
    }
   },
   "outputs": [],
   "source": [
    "centers = 20\n",
    "samples = 3000\n",
    "X, _ = make_blobs(n_samples=samples, centers=centers, n_features=3, cluster_std=0.5, random_state=0)\n",
    "scaler = StandardScaler()\n",
    "X = np.vstack(scaler.fit_transform(X))"
   ]
  },
  {
   "cell_type": "code",
   "execution_count": 16,
   "metadata": {
    "execution": {
     "iopub.execute_input": "2020-08-16T16:57:38.894507Z",
     "iopub.status.busy": "2020-08-16T16:57:38.894348Z",
     "iopub.status.idle": "2020-08-16T16:57:38.896379Z",
     "shell.execute_reply": "2020-08-16T16:57:38.896083Z",
     "shell.execute_reply.started": "2020-08-16T16:57:38.894491Z"
    }
   },
   "outputs": [],
   "source": [
    "kmean = kmeans(8)"
   ]
  },
  {
   "cell_type": "code",
   "execution_count": 17,
   "metadata": {
    "execution": {
     "iopub.execute_input": "2020-08-16T16:57:39.183172Z",
     "iopub.status.busy": "2020-08-16T16:57:39.183015Z",
     "iopub.status.idle": "2020-08-16T16:57:41.671725Z",
     "shell.execute_reply": "2020-08-16T16:57:41.671465Z",
     "shell.execute_reply.started": "2020-08-16T16:57:39.183157Z"
    }
   },
   "outputs": [
    {
     "name": "stdout",
     "output_type": "stream",
     "text": [
      "[8] Elbow'in... SilScore=0.492011\n",
      "[9] Elbow'in... SilScore=0.567564\n",
      "[10] Elbow'in... SilScore=0.552353\n",
      "[11] Elbow'in... SilScore=0.527114\n",
      "[12] Elbow'in... SilScore=0.585624\n",
      "[13] Elbow'in... SilScore=0.544517\n",
      "[14] Elbow'in... SilScore=0.605015\n",
      "[15] Elbow'in... SilScore=0.668946\n",
      "[16] Elbow'in... SilScore=0.510577\n",
      "[17] Elbow'in... SilScore=0.581494\n",
      "[18] Elbow'in... SilScore=0.525979\n",
      "[19] Elbow'in... SilScore=0.540486\n",
      "[20] Elbow'in... SilScore=0.516775\n",
      "[21] Elbow'in... SilScore=0.480660\n",
      "[22] Elbow'in... SilScore=0.535835\n",
      "[23] Elbow'in... SilScore=0.558279\n"
     ]
    }
   ],
   "source": [
    "kmean.fit(X, optimize=True, max_iters=30, verbose=True)"
   ]
  },
  {
   "cell_type": "code",
   "execution_count": 18,
   "metadata": {
    "execution": {
     "iopub.execute_input": "2020-08-16T16:57:43.788964Z",
     "iopub.status.busy": "2020-08-16T16:57:43.788821Z",
     "iopub.status.idle": "2020-08-16T16:57:43.843415Z",
     "shell.execute_reply": "2020-08-16T16:57:43.843136Z",
     "shell.execute_reply.started": "2020-08-16T16:57:43.788950Z"
    }
   },
   "outputs": [
    {
     "data": {
      "application/vnd.jupyter.widget-view+json": {
       "model_id": "7430c28985de45748b26f0547bb262ea",
       "version_major": 2,
       "version_minor": 0
      },
      "text/plain": [
       "Canvas(toolbar=Toolbar(toolitems=[('Home', 'Reset original view', 'home', 'home'), ('Back', 'Back to previous …"
      ]
     },
     "metadata": {},
     "output_type": "display_data"
    }
   ],
   "source": [
    "fig = plt.figure()\n",
    "ax = fig.add_subplot(111, projection='3d')\n",
    "ax.scatter(X[:,0], X[:,1], X[:,2], c='b', marker='.')\n",
    "ax.scatter(kmean.centroids[:,0], kmean.centroids[:,1], kmean.centroids[:,2], c='r', marker='o', s=[100 for _ in range(len(kmean.centroids))])\n",
    "\n",
    "ax.set_xlabel('X Label')\n",
    "ax.set_ylabel('Y Label')\n",
    "ax.set_zlabel('Z Label')\n",
    "\n",
    "plt.show()"
   ]
  },
  {
   "cell_type": "code",
   "execution_count": 6,
   "metadata": {
    "execution": {
     "iopub.execute_input": "2020-08-16T16:56:56.746457Z",
     "iopub.status.busy": "2020-08-16T16:56:56.746296Z",
     "iopub.status.idle": "2020-08-16T16:56:56.750776Z",
     "shell.execute_reply": "2020-08-16T16:56:56.750476Z",
     "shell.execute_reply.started": "2020-08-16T16:56:56.746444Z"
    }
   },
   "outputs": [
    {
     "data": {
      "text/plain": [
       "array([ 3, 16, 22,  6,  4,  0,  9, 17,  9, 13, 16, 19, 16, 17, 14, 17, 16,\n",
       "       19,  6,  5, 19, 16, 17, 16, 16, 14, 13,  9, 10,  4,  2, 17, 16, 17,\n",
       "       16, 11, 17, 19, 16, 15,  7,  6, 19, 19,  6, 17, 22,  8,  3, 16,  5,\n",
       "        8, 20, 16, 18, 16,  3,  3,  9, 19,  8, 16, 19, 13, 17, 14,  0, 14,\n",
       "       22, 16, 13,  7, 11, 13, 17, 12, 21, 17, 17,  0,  3, 17, 16, 12, 16,\n",
       "       16,  7, 15, 20, 16, 18,  7,  3,  7,  5,  5, 17,  8, 19, 19, 11, 16,\n",
       "       19,  8,  9,  9, 16, 17,  1,  7,  6,  1, 14, 22,  3,  3,  9,  8, 15,\n",
       "       16, 16,  6,  1,  8,  7,  6,  0,  2, 17, 16,  5, 20,  0, 20, 15, 19,\n",
       "        6, 13,  2, 20, 19,  2, 22,  6,  5, 20,  6, 16,  1, 22, 12,  7, 16,\n",
       "       22, 20, 15,  5, 10, 17,  5, 16, 18,  3, 16,  0, 17,  8, 16, 16, 17,\n",
       "        3,  9, 17, 19,  0,  9, 18,  4, 17, 16, 14,  5,  5, 10,  5, 19, 16,\n",
       "       16, 16, 14, 19, 17, 16,  1, 22, 17, 16,  1,  6, 12,  3, 16,  1, 12,\n",
       "        6, 22, 19, 13,  4, 12, 17, 16,  3, 12, 14, 21, 22, 20, 16, 17, 12,\n",
       "       19,  1, 22, 17, 19,  6,  2, 10, 16,  1, 11,  8, 14, 14,  2,  6,  8,\n",
       "        0,  3, 15,  6, 21,  1, 16, 15, 14, 14, 11,  1, 16, 17, 14, 16, 19,\n",
       "        5, 19,  8,  0, 17, 17,  0,  5,  4, 17,  6, 17, 12,  3,  7, 15, 16,\n",
       "       14, 10,  3, 16,  1, 16,  1, 12, 16,  8, 17,  8,  6,  7,  9, 19, 14,\n",
       "       17,  6, 16, 17, 14, 19,  3, 16,  6,  5, 21, 12, 14,  4, 20, 11, 13,\n",
       "       16,  3, 17,  7, 19,  6, 12,  8, 18, 14, 17, 15, 13,  0, 10, 14,  3,\n",
       "       19, 16,  7, 21,  7, 19, 16, 17, 12,  0,  5, 17, 14,  3, 17, 18, 19,\n",
       "       14,  3, 19, 15,  2, 17, 12,  7, 19, 14,  9,  0, 16, 16,  1, 14,  8,\n",
       "       17, 10,  8, 20,  3, 10, 12,  5, 18, 16, 12, 14, 18, 16, 19, 17,  6,\n",
       "        3, 14, 17, 12, 16, 16, 19,  0, 11,  6, 17, 17,  8,  5, 22, 17, 17,\n",
       "       19,  0, 17, 16, 17, 19, 16, 17,  0, 17, 16,  5,  7, 16, 15, 17, 15,\n",
       "        5,  5,  5,  3,  2, 18, 13,  3, 19,  6,  9, 22, 14, 14,  0, 17, 18,\n",
       "       17, 16, 17, 14, 20, 20, 10, 17, 17, 17,  3, 17, 16,  7,  5,  3, 17,\n",
       "       22,  0,  2,  8, 20, 11,  9, 17,  6,  7, 20, 16, 17, 17, 17, 22, 19,\n",
       "       17, 19,  6, 16, 14, 17, 12, 21, 17, 22, 21, 17, 14, 16, 11,  6,  2,\n",
       "       19,  7,  5,  8,  3, 12,  9, 17, 17, 16,  8,  8, 19,  3, 17, 14, 16,\n",
       "        9, 14,  7,  6, 16, 18,  7, 14, 17,  5, 12, 13, 16, 16, 12, 16, 10,\n",
       "       17, 17, 11,  4, 12,  6,  0,  3,  2,  4, 17,  9, 14, 14, 22, 12,  4,\n",
       "        0,  6,  5,  0, 12, 18, 12, 10,  3, 14,  8,  3, 12, 22, 17, 17, 16,\n",
       "       16,  2, 19, 19,  3, 17,  8,  1,  8, 19, 19,  2, 22, 19,  6,  2,  9,\n",
       "       13,  7, 19, 17, 12,  7,  7,  3, 14,  8, 19, 17,  3,  9,  7, 10, 10,\n",
       "       22,  6,  2,  3, 14,  8, 17, 16, 17, 11, 16,  6, 15, 19, 22,  6, 16,\n",
       "       22, 16,  3,  0, 17, 14, 16, 11,  8, 14,  4,  3, 16, 14,  8, 16, 17,\n",
       "        5, 19,  8,  7, 16, 14, 22, 17,  3, 13, 17, 15, 17,  0, 20,  8,  0,\n",
       "        6, 16, 16,  7, 19, 19, 22, 17, 14, 18, 14, 16,  6, 11,  3,  6, 16,\n",
       "       14, 17,  5,  3,  5, 12,  3, 15,  0, 17,  5,  3, 17, 20, 18, 15, 17,\n",
       "       21, 12, 18, 17, 22, 18, 11,  6, 15, 15, 12, 16, 16,  6, 17, 20, 13,\n",
       "       14, 22,  0,  9, 14,  2, 16,  6, 18, 12, 18,  8,  8, 16, 17, 11, 13,\n",
       "       19, 15,  0, 11, 16, 17,  3,  3, 22, 17,  6,  2, 16, 16, 16, 16,  3,\n",
       "        2, 16, 11, 11, 15,  3, 20,  0, 20, 17, 15,  5,  9, 12,  0, 11, 21,\n",
       "       17,  5,  8,  3,  3,  5, 12, 22,  2,  9,  0,  1,  7,  1,  3,  2,  1,\n",
       "       15, 10, 19,  8,  6, 16, 19, 13, 16,  3,  6, 21, 16,  6,  2, 22, 13,\n",
       "        0,  6,  5, 22, 10,  6, 14, 20, 11, 12, 17,  3,  6,  3,  7, 19,  7,\n",
       "       20, 16, 13, 13, 14, 21,  1,  5, 22, 17, 17, 12,  5, 10, 14,  7,  4,\n",
       "        0,  4, 18,  8,  3, 17,  5,  3, 20,  0,  0, 16, 17, 20, 16,  1, 16,\n",
       "        3, 14, 18, 12,  5,  6,  3, 12,  2,  1, 18,  2, 15,  5,  5, 22,  7,\n",
       "       21,  6, 17, 16, 18, 20,  2,  1, 16, 16, 16,  6,  6,  1,  3,  6,  7,\n",
       "       10, 17, 11,  1,  3,  5, 19,  1, 10, 16, 17,  1, 10, 17,  8,  6, 17,\n",
       "       17,  6,  9, 12, 16,  3, 12, 21,  3, 18, 22, 17, 19, 21, 14, 16, 17,\n",
       "        5,  7,  2,  5, 16, 14, 19, 22, 14, 10, 19,  0, 20, 14,  0, 17,  6,\n",
       "       17, 17,  6,  6,  3, 18,  7,  9, 17, 14, 15,  5, 17, 17, 14,  0,  7,\n",
       "        6, 17,  6, 22, 21, 16, 12,  9, 22, 13, 11, 17, 14, 12,  3, 11, 16,\n",
       "        0, 19,  2,  5, 19, 21,  3,  9, 19,  2, 12,  1, 17, 19,  5, 14, 16,\n",
       "       16, 16,  4, 20,  9, 12,  0, 16, 19, 22,  0,  3, 14, 19,  6, 17, 17,\n",
       "        1,  9,  0, 19,  1, 16, 12, 17, 16, 12,  6,  0, 17,  1,  0, 16, 13,\n",
       "       16,  7, 16, 21, 18, 11, 20, 12, 20,  3, 16, 19, 16, 11])"
      ]
     },
     "execution_count": 6,
     "metadata": {},
     "output_type": "execute_result"
    }
   ],
   "source": [
    "kmean.affiliations"
   ]
  },
  {
   "cell_type": "code",
   "execution_count": 58,
   "metadata": {
    "execution": {
     "iopub.execute_input": "2020-08-16T16:51:38.830673Z",
     "iopub.status.busy": "2020-08-16T16:51:38.830512Z",
     "iopub.status.idle": "2020-08-16T16:51:38.833418Z",
     "shell.execute_reply": "2020-08-16T16:51:38.833143Z",
     "shell.execute_reply.started": "2020-08-16T16:51:38.830658Z"
    }
   },
   "outputs": [
    {
     "data": {
      "text/plain": [
       "array([[ 0.09047881, -0.72641955, -0.11407907],\n",
       "       [ 0.20614193, -0.68340046, -0.06189591],\n",
       "       [ 1.33687005, -0.60427528,  0.39144186],\n",
       "       [ 1.25174794,  0.78071166,  1.1094987 ],\n",
       "       [ 0.23682028,  0.97847539, -2.22121063],\n",
       "       [ 0.18553808, -0.76389601, -0.08481094],\n",
       "       [-0.6084118 ,  0.51892414, -0.55030726],\n",
       "       [ 0.1200592 , -0.76860562, -0.1188554 ],\n",
       "       [ 0.17801008, -0.73270283, -0.16154774],\n",
       "       [-0.36242227,  0.87971938,  1.07029124],\n",
       "       [-2.07833966, -2.1418988 ,  0.58121994],\n",
       "       [ 0.14909387,  0.25800616, -0.28057934]])"
      ]
     },
     "execution_count": 58,
     "metadata": {},
     "output_type": "execute_result"
    }
   ],
   "source": [
    "kmean.centroids"
   ]
  },
  {
   "cell_type": "code",
   "execution_count": null,
   "metadata": {},
   "outputs": [],
   "source": []
  }
 ],
 "metadata": {
  "kernelspec": {
   "display_name": "Python 3",
   "language": "python",
   "name": "python3"
  },
  "language_info": {
   "codemirror_mode": {
    "name": "ipython",
    "version": 3
   },
   "file_extension": ".py",
   "mimetype": "text/x-python",
   "name": "python",
   "nbconvert_exporter": "python",
   "pygments_lexer": "ipython3",
   "version": "3.8.5"
  }
 },
 "nbformat": 4,
 "nbformat_minor": 4
}
