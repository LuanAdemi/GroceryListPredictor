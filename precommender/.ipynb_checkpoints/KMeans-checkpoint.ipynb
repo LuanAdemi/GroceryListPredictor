{
 "cells": [
  {
   "cell_type": "code",
   "execution_count": 72,
   "metadata": {
    "execution": {
     "iopub.execute_input": "2020-08-17T19:36:49.906985Z",
     "iopub.status.busy": "2020-08-17T19:36:49.906823Z",
     "iopub.status.idle": "2020-08-17T19:36:49.912025Z",
     "shell.execute_reply": "2020-08-17T19:36:49.911714Z",
     "shell.execute_reply.started": "2020-08-17T19:36:49.906969Z"
    }
   },
   "outputs": [],
   "source": [
    "import matplotlib.pyplot as plt\n",
    "from mpl_toolkits.mplot3d import Axes3D\n",
    "from sklearn.datasets import make_blobs\n",
    "from kmeans import kmeans\n",
    "from sklearn.preprocessing import StandardScaler\n",
    "\n",
    "from sklearn.preprocessing import StandardScaler\n",
    "from sklearn.metrics import silhouette_score\n",
    "import numpy as np\n",
    "import random\n",
    "%matplotlib widget"
   ]
  },
  {
   "cell_type": "code",
   "execution_count": 73,
   "metadata": {
    "execution": {
     "iopub.execute_input": "2020-08-17T19:36:50.169268Z",
     "iopub.status.busy": "2020-08-17T19:36:50.169109Z",
     "iopub.status.idle": "2020-08-17T19:36:50.177261Z",
     "shell.execute_reply": "2020-08-17T19:36:50.176927Z",
     "shell.execute_reply.started": "2020-08-17T19:36:50.169253Z"
    }
   },
   "outputs": [],
   "source": [
    "centers = 20\n",
    "samples = 3000\n",
    "X, _ = make_blobs(n_samples=samples, centers=centers, n_features=3, cluster_std=0.5, random_state=0)\n",
    "scaler = StandardScaler()\n",
    "X = np.vstack(scaler.fit_transform(X))"
   ]
  },
  {
   "cell_type": "code",
   "execution_count": 74,
   "metadata": {
    "execution": {
     "iopub.execute_input": "2020-08-17T19:36:50.464796Z",
     "iopub.status.busy": "2020-08-17T19:36:50.464636Z",
     "iopub.status.idle": "2020-08-17T19:36:50.466717Z",
     "shell.execute_reply": "2020-08-17T19:36:50.466450Z",
     "shell.execute_reply.started": "2020-08-17T19:36:50.464781Z"
    }
   },
   "outputs": [],
   "source": [
    "kmean = kmeans(20)"
   ]
  },
  {
   "cell_type": "code",
   "execution_count": 75,
   "metadata": {
    "execution": {
     "iopub.execute_input": "2020-08-17T19:36:50.820382Z",
     "iopub.status.busy": "2020-08-17T19:36:50.820229Z",
     "iopub.status.idle": "2020-08-17T19:36:53.327343Z",
     "shell.execute_reply": "2020-08-17T19:36:53.327063Z",
     "shell.execute_reply.started": "2020-08-17T19:36:50.820368Z"
    }
   },
   "outputs": [
    {
     "name": "stdout",
     "output_type": "stream",
     "text": [
      "Finding the best starting centroids...\n",
      "Searching for best starting centroids...\n",
      "[1] Setting centroid to [-0.77753815 -0.5471192   0.1774498 ]\n",
      "[2] Setting centroid to [1.46201093 1.18143868 1.7091981 ]\n",
      "[3] Setting centroid to [ 0.44824403  1.50930971 -1.79994084]\n",
      "[4] Setting centroid to [ 2.10583521 -0.11633287 -0.50722743]\n",
      "[5] Setting centroid to [-1.84702195  0.54815362 -1.47336263]\n",
      "[6] Setting centroid to [ 0.6292577 -1.1429264 -1.6300644]\n",
      "[7] Setting centroid to [ 0.94706193 -1.68386162  0.51877504]\n",
      "[8] Setting centroid to [-0.54823149  1.33581557  1.45059028]\n",
      "[9] Setting centroid to [-2.003243   -1.80345187  1.07257605]\n",
      "[10] Setting centroid to [0.51757507 0.65600766 0.16870812]\n",
      "[11] Setting centroid to [-0.97926617  0.99249616 -0.23617636]\n",
      "[12] Setting centroid to [ 1.55006518 -0.18444951  0.96410719]\n",
      "[13] Setting centroid to [0.40322859 0.3080202  1.55685169]\n",
      "[14] Setting centroid to [ 0.80486213 -0.58777641 -0.33917111]\n",
      "[15] Setting centroid to [-0.9569351  -0.34658805 -1.11877294]\n",
      "[16] Setting centroid to [ 0.23313782 -0.29061549  0.58613153]\n",
      "[17] Setting centroid to [-1.38306141 -1.34689094  0.33512409]\n",
      "[18] Setting centroid to [-0.47117376  1.75556045 -1.51321131]\n",
      "[19] Setting centroid to [ 0.02568691 -1.58230088  0.16856662]\n",
      "[20] Setting centroid to [-0.28980119  0.9154041   0.1630373 ]\n",
      "[0] KMean'in...\n",
      "[1] KMean'in...\n",
      "[2] KMean'in...\n",
      "[3] KMean'in...\n",
      "[4] KMean'in...\n",
      "[5] KMean'in...\n",
      "[6] KMean'in...\n",
      "[7] KMean'in...\n",
      "[8] KMean'in...\n",
      "[9] KMean'in...\n"
     ]
    }
   ],
   "source": [
    "kmean.fit(X, max_iters=10, verbose=True)"
   ]
  },
  {
   "cell_type": "code",
   "execution_count": 76,
   "metadata": {
    "execution": {
     "iopub.execute_input": "2020-08-17T19:36:54.477578Z",
     "iopub.status.busy": "2020-08-17T19:36:54.477418Z",
     "iopub.status.idle": "2020-08-17T19:36:54.501892Z",
     "shell.execute_reply": "2020-08-17T19:36:54.501558Z",
     "shell.execute_reply.started": "2020-08-17T19:36:54.477562Z"
    }
   },
   "outputs": [
    {
     "data": {
      "application/vnd.jupyter.widget-view+json": {
       "model_id": "5d18e93b0b2943df9f98feb17a177782",
       "version_major": 2,
       "version_minor": 0
      },
      "text/plain": [
       "Canvas(toolbar=Toolbar(toolitems=[('Home', 'Reset original view', 'home', 'home'), ('Back', 'Back to previous …"
      ]
     },
     "metadata": {},
     "output_type": "display_data"
    }
   ],
   "source": [
    "fig = plt.figure()\n",
    "ax = fig.add_subplot(111, projection='3d')\n",
    "ax.scatter(X[:,0], X[:,1], X[:,2], c='b', marker='.')\n",
    "ax.scatter(kmean.centroids[:,0], kmean.centroids[:,1], kmean.centroids[:,2], c='r', marker='o', s=[100 for _ in range(len(kmean.centroids))])\n",
    "\n",
    "ax.set_xlabel('X Label')\n",
    "ax.set_ylabel('Y Label')\n",
    "ax.set_zlabel('Z Label')\n",
    "\n",
    "plt.show()"
   ]
  },
  {
   "cell_type": "code",
   "execution_count": 50,
   "metadata": {
    "execution": {
     "iopub.execute_input": "2020-08-17T19:35:01.779738Z",
     "iopub.status.busy": "2020-08-17T19:35:01.779594Z",
     "iopub.status.idle": "2020-08-17T19:35:01.782837Z",
     "shell.execute_reply": "2020-08-17T19:35:01.782555Z",
     "shell.execute_reply.started": "2020-08-17T19:35:01.779724Z"
    }
   },
   "outputs": [
    {
     "data": {
      "text/plain": [
       "array([3, 2, 7, 5, 8, 6, 1, 0, 9, 4])"
      ]
     },
     "execution_count": 50,
     "metadata": {},
     "output_type": "execute_result"
    }
   ],
   "source": [
    "kmean.affiliations"
   ]
  },
  {
   "cell_type": "code",
   "execution_count": 51,
   "metadata": {
    "execution": {
     "iopub.execute_input": "2020-08-17T19:35:08.279534Z",
     "iopub.status.busy": "2020-08-17T19:35:08.279390Z",
     "iopub.status.idle": "2020-08-17T19:35:08.282360Z",
     "shell.execute_reply": "2020-08-17T19:35:08.282057Z",
     "shell.execute_reply.started": "2020-08-17T19:35:08.279522Z"
    }
   },
   "outputs": [
    {
     "data": {
      "text/plain": [
       "array([[ 0.17041637,  0.28497811,  0.23283719],\n",
       "       [-1.53169546, -2.27165057,  0.79335958],\n",
       "       [-1.64523923,  0.1460722 , -1.65131872],\n",
       "       [ 0.12881461,  1.15272686, -1.65542395],\n",
       "       [ 1.55590615, -0.44975389, -0.56339101],\n",
       "       [-0.18454189,  1.14900653,  1.27573671],\n",
       "       [ 1.21257203, -0.63876629,  0.60550325],\n",
       "       [ 0.85210335,  0.79875001,  1.16883319],\n",
       "       [-0.06204848, -0.72797179,  0.17090321],\n",
       "       [-0.49628745,  0.55660883, -0.37703946]])"
      ]
     },
     "execution_count": 51,
     "metadata": {},
     "output_type": "execute_result"
    }
   ],
   "source": [
    "kmean.centroids"
   ]
  },
  {
   "cell_type": "code",
   "execution_count": 52,
   "metadata": {
    "execution": {
     "iopub.execute_input": "2020-08-17T19:35:10.616972Z",
     "iopub.status.busy": "2020-08-17T19:35:10.616827Z",
     "iopub.status.idle": "2020-08-17T19:35:10.619542Z",
     "shell.execute_reply": "2020-08-17T19:35:10.619227Z",
     "shell.execute_reply.started": "2020-08-17T19:35:10.616958Z"
    }
   },
   "outputs": [
    {
     "data": {
      "text/plain": [
       "10"
      ]
     },
     "execution_count": 52,
     "metadata": {},
     "output_type": "execute_result"
    }
   ],
   "source": [
    "kmean.k"
   ]
  }
 ],
 "metadata": {
  "kernelspec": {
   "display_name": "Python 3",
   "language": "python",
   "name": "python3"
  },
  "language_info": {
   "codemirror_mode": {
    "name": "ipython",
    "version": 3
   },
   "file_extension": ".py",
   "mimetype": "text/x-python",
   "name": "python",
   "nbconvert_exporter": "python",
   "pygments_lexer": "ipython3",
   "version": "3.8.5"
  }
 },
 "nbformat": 4,
 "nbformat_minor": 4
}
