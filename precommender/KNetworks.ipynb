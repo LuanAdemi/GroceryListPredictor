{
 "cells": [
  {
   "cell_type": "code",
   "execution_count": 269,
   "metadata": {
    "execution": {
     "iopub.execute_input": "2020-08-24T18:27:45.884976Z",
     "iopub.status.busy": "2020-08-24T18:27:45.884822Z",
     "iopub.status.idle": "2020-08-24T18:27:45.887671Z",
     "shell.execute_reply": "2020-08-24T18:27:45.887342Z",
     "shell.execute_reply.started": "2020-08-24T18:27:45.884963Z"
    }
   },
   "outputs": [],
   "source": [
    "import matplotlib.pyplot as plt\n",
    "from mpl_toolkits.mplot3d import Axes3D\n",
    "from matplotlib import animation\n",
    "from celluloid import Camera\n",
    "from sklearn.datasets import make_blobs\n",
    "from kmeans import kmeans\n",
    "from sklearn.preprocessing import StandardScaler\n",
    "\n",
    "from sklearn.preprocessing import StandardScaler\n",
    "from sklearn.metrics import silhouette_score\n",
    "import numpy as np\n",
    "import random\n",
    "\n",
    "from scipy.special import softmax"
   ]
  },
  {
   "cell_type": "code",
   "execution_count": 270,
   "metadata": {
    "execution": {
     "iopub.execute_input": "2020-08-24T18:27:46.107610Z",
     "iopub.status.busy": "2020-08-24T18:27:46.107426Z",
     "iopub.status.idle": "2020-08-24T18:27:46.111869Z",
     "shell.execute_reply": "2020-08-24T18:27:46.111507Z",
     "shell.execute_reply.started": "2020-08-24T18:27:46.107591Z"
    }
   },
   "outputs": [],
   "source": [
    "centers = 10\n",
    "samples = 200\n",
    "X, _ = make_blobs(n_samples=samples, centers=centers, n_features=2, cluster_std=0.9, random_state=2)\n",
    "scaler = StandardScaler()\n",
    "X = scaler.fit_transform(X)"
   ]
  },
  {
   "cell_type": "code",
   "execution_count": 271,
   "metadata": {
    "execution": {
     "iopub.execute_input": "2020-08-24T18:27:46.348608Z",
     "iopub.status.busy": "2020-08-24T18:27:46.348441Z",
     "iopub.status.idle": "2020-08-24T18:27:46.435433Z",
     "shell.execute_reply": "2020-08-24T18:27:46.435180Z",
     "shell.execute_reply.started": "2020-08-24T18:27:46.348592Z"
    }
   },
   "outputs": [
    {
     "data": {
      "text/plain": [
       "<matplotlib.collections.PathCollection at 0x7f3fa9557760>"
      ]
     },
     "execution_count": 271,
     "metadata": {},
     "output_type": "execute_result"
    },
    {
     "data": {
      "image/png": "[encoded data removed]",
      "text/plain": [
       "<Figure size 432x288 with 1 Axes>"
      ]
     },
     "metadata": {
      "needs_background": "light"
     },
     "output_type": "display_data"
    }
   ],
   "source": [
    "plt.scatter(X[:, 0], X[:,-1])"
   ]
  },
  {
   "cell_type": "code",
   "execution_count": 272,
   "metadata": {
    "execution": {
     "iopub.execute_input": "2020-08-24T18:27:46.851748Z",
     "iopub.status.busy": "2020-08-24T18:27:46.851590Z",
     "iopub.status.idle": "2020-08-24T18:27:46.896739Z",
     "shell.execute_reply": "2020-08-24T18:27:46.896417Z",
     "shell.execute_reply.started": "2020-08-24T18:27:46.851733Z"
    }
   },
   "outputs": [],
   "source": [
    "kmean = kmeans(10)\n",
    "kmean.fit(X, max_iters=1)"
   ]
  },
  {
   "cell_type": "code",
   "execution_count": 273,
   "metadata": {
    "execution": {
     "iopub.execute_input": "2020-08-24T18:27:47.192241Z",
     "iopub.status.busy": "2020-08-24T18:27:47.192087Z",
     "iopub.status.idle": "2020-08-24T18:27:47.279102Z",
     "shell.execute_reply": "2020-08-24T18:27:47.278836Z",
     "shell.execute_reply.started": "2020-08-24T18:27:47.192228Z"
    }
   },
   "outputs": [
    {
     "data": {
      "text/plain": [
       "<matplotlib.collections.PathCollection at 0x7f3fa9f19d00>"
      ]
     },
     "execution_count": 273,
     "metadata": {},
     "output_type": "execute_result"
    },
    {
     "data": {
      "image/png": "[encoded data removed]",
      "text/plain": [
       "<Figure size 432x288 with 1 Axes>"
      ]
     },
     "metadata": {
      "needs_background": "light"
     },
     "output_type": "display_data"
    }
   ],
   "source": [
    "plt.scatter(X[:, 0], X[:,-1])\n",
    "plt.scatter(kmean.centroids[:,0], kmean.centroids[:,-1])"
   ]
  },
  {
   "cell_type": "code",
   "execution_count": 274,
   "metadata": {
    "execution": {
     "iopub.execute_input": "2020-08-24T18:27:49.279520Z",
     "iopub.status.busy": "2020-08-24T18:27:49.279371Z",
     "iopub.status.idle": "2020-08-24T18:27:49.281812Z",
     "shell.execute_reply": "2020-08-24T18:27:49.281513Z",
     "shell.execute_reply.started": "2020-08-24T18:27:49.279506Z"
    }
   },
   "outputs": [],
   "source": [
    "D = kmean.calcDistances(kmean.centroids, X)"
   ]
  },
  {
   "cell_type": "code",
   "execution_count": 275,
   "metadata": {
    "execution": {
     "iopub.execute_input": "2020-08-24T18:27:49.596998Z",
     "iopub.status.busy": "2020-08-24T18:27:49.596833Z",
     "iopub.status.idle": "2020-08-24T18:27:49.599629Z",
     "shell.execute_reply": "2020-08-24T18:27:49.599366Z",
     "shell.execute_reply.started": "2020-08-24T18:27:49.596984Z"
    }
   },
   "outputs": [
    {
     "data": {
      "text/plain": [
       "(10, 200)"
      ]
     },
     "execution_count": 275,
     "metadata": {},
     "output_type": "execute_result"
    }
   ],
   "source": [
    "D.shape"
   ]
  },
  {
   "cell_type": "code",
   "execution_count": 276,
   "metadata": {
    "execution": {
     "iopub.execute_input": "2020-08-24T18:27:49.924878Z",
     "iopub.status.busy": "2020-08-24T18:27:49.924714Z",
     "iopub.status.idle": "2020-08-24T18:27:49.927725Z",
     "shell.execute_reply": "2020-08-24T18:27:49.927464Z",
     "shell.execute_reply.started": "2020-08-24T18:27:49.924861Z"
    }
   },
   "outputs": [
    {
     "data": {
      "text/plain": [
       "array([3, 5, 0, 4, 0, 8, 2, 5, 3, 9, 9, 0, 3, 2, 2, 9, 2, 8, 8, 5, 9, 2,\n",
       "       2, 8, 0, 1, 4, 9, 3, 1, 7, 5, 0, 6, 4, 9, 5, 2, 2, 2, 4, 5, 9, 5,\n",
       "       9, 5, 0, 4, 0, 1, 2, 8, 2, 5, 5, 5, 2, 8, 5, 9, 2, 9, 7, 8, 1, 5,\n",
       "       5, 3, 0, 4, 3, 7, 7, 8, 4, 5, 3, 4, 6, 9, 3, 5, 9, 8, 7, 8, 6, 6,\n",
       "       2, 5, 1, 7, 8, 4, 8, 3, 7, 8, 9, 5, 2, 5, 3, 4, 7, 3, 1, 0, 4, 2,\n",
       "       9, 3, 0, 7, 7, 7, 8, 7, 2, 9, 7, 2, 3, 7, 5, 0, 0, 0, 3, 6, 7, 9,\n",
       "       8, 5, 3, 9, 0, 0, 3, 9, 5, 9, 8, 9, 9, 7, 4, 4, 8, 9, 5, 3, 5, 3,\n",
       "       5, 9, 7, 9, 4, 5, 4, 8, 7, 3, 0, 0, 5, 8, 7, 1, 4, 5, 5, 8, 7, 9,\n",
       "       9, 4, 0, 9, 8, 8, 4, 2, 7, 7, 1, 2, 7, 7, 7, 3, 0, 5, 0, 7, 4, 7,\n",
       "       4, 9])"
      ]
     },
     "execution_count": 276,
     "metadata": {},
     "output_type": "execute_result"
    }
   ],
   "source": [
    "kmean.affiliations"
   ]
  },
  {
   "cell_type": "code",
   "execution_count": 277,
   "metadata": {
    "execution": {
     "iopub.execute_input": "2020-08-24T18:27:51.084595Z",
     "iopub.status.busy": "2020-08-24T18:27:51.084438Z",
     "iopub.status.idle": "2020-08-24T18:27:51.087480Z",
     "shell.execute_reply": "2020-08-24T18:27:51.087196Z",
     "shell.execute_reply.started": "2020-08-24T18:27:51.084579Z"
    }
   },
   "outputs": [
    {
     "data": {
      "text/plain": [
       "array([[2.13584611, 1.55294499, 0.09605859, ..., 1.23276234, 1.87451676,\n",
       "        3.11273914],\n",
       "       [1.74113168, 2.42473716, 3.66945749, ..., 2.43372532, 4.40324675,\n",
       "        0.55417081],\n",
       "       [2.89598687, 1.50154867, 2.81928284, ..., 2.26057862, 1.95677705,\n",
       "        2.7217984 ],\n",
       "       ...,\n",
       "       [0.95745625, 0.88631619, 1.2271971 , ..., 0.12785383, 2.51225801,\n",
       "        1.89060574],\n",
       "       [1.88574174, 0.77629824, 2.37271799, ..., 1.44529464, 2.35364062,\n",
       "        1.72869114],\n",
       "       [1.06443252, 1.85626784, 2.99133594, ..., 1.76223666, 3.86943714,\n",
       "        0.17290471]])"
      ]
     },
     "execution_count": 277,
     "metadata": {},
     "output_type": "execute_result"
    }
   ],
   "source": [
    "D"
   ]
  },
  {
   "cell_type": "code",
   "execution_count": 278,
   "metadata": {
    "execution": {
     "iopub.execute_input": "2020-08-24T18:27:51.486564Z",
     "iopub.status.busy": "2020-08-24T18:27:51.486408Z",
     "iopub.status.idle": "2020-08-24T18:27:51.488896Z",
     "shell.execute_reply": "2020-08-24T18:27:51.488569Z",
     "shell.execute_reply.started": "2020-08-24T18:27:51.486549Z"
    }
   },
   "outputs": [],
   "source": [
    "W = np.minimum((1/D)**2, np.full(D.shape, 100))"
   ]
  },
  {
   "cell_type": "code",
   "execution_count": 279,
   "metadata": {
    "execution": {
     "iopub.execute_input": "2020-08-24T18:27:51.797353Z",
     "iopub.status.busy": "2020-08-24T18:27:51.797179Z",
     "iopub.status.idle": "2020-08-24T18:27:51.800167Z",
     "shell.execute_reply": "2020-08-24T18:27:51.799891Z",
     "shell.execute_reply.started": "2020-08-24T18:27:51.797337Z"
    }
   },
   "outputs": [],
   "source": [
    "W = [W[i]/sum(W[i]) for i in range(kmean.k)]\n",
    "W = np.array(W)"
   ]
  },
  {
   "cell_type": "code",
   "execution_count": 280,
   "metadata": {
    "execution": {
     "iopub.execute_input": "2020-08-24T18:27:52.119309Z",
     "iopub.status.busy": "2020-08-24T18:27:52.119173Z",
     "iopub.status.idle": "2020-08-24T18:27:52.121690Z",
     "shell.execute_reply": "2020-08-24T18:27:52.121444Z",
     "shell.execute_reply.started": "2020-08-24T18:27:52.119296Z"
    }
   },
   "outputs": [
    {
     "data": {
      "text/plain": [
       "1.0000000000000009"
      ]
     },
     "execution_count": 280,
     "metadata": {},
     "output_type": "execute_result"
    }
   ],
   "source": [
    "sum(W[0])"
   ]
  },
  {
   "cell_type": "code",
   "execution_count": 281,
   "metadata": {
    "execution": {
     "iopub.execute_input": "2020-08-24T18:27:52.482325Z",
     "iopub.status.busy": "2020-08-24T18:27:52.482183Z",
     "iopub.status.idle": "2020-08-24T18:27:52.486096Z",
     "shell.execute_reply": "2020-08-24T18:27:52.485750Z",
     "shell.execute_reply.started": "2020-08-24T18:27:52.482310Z"
    }
   },
   "outputs": [
    {
     "data": {
      "text/plain": [
       "array([2.26095654e-04, 4.27681030e-04, 1.03141189e-01, 3.33298652e-04,\n",
       "       1.22649459e-02, 1.36390271e-04, 1.70007610e-04, 4.46815555e-04,\n",
       "       1.46071862e-04, 8.53699114e-05, 1.52229189e-04, 1.03141189e-01,\n",
       "       1.71978955e-04, 1.38176642e-04, 1.33606529e-04, 1.26097556e-04,\n",
       "       1.56184550e-04, 1.65776440e-04, 2.23256104e-04, 3.04206190e-04,\n",
       "       8.82545380e-05, 1.57382380e-04, 1.40703836e-04, 2.02011482e-04,\n",
       "       1.03141189e-01, 7.62053004e-05, 3.81852484e-04, 1.30582923e-04,\n",
       "       2.49799400e-04, 8.41440250e-05, 6.99480726e-04, 3.14257239e-04,\n",
       "       1.52252827e-02, 1.28448346e-04, 4.82532056e-04, 8.80007522e-05,\n",
       "       1.06095164e-03, 1.55297065e-04, 1.22057203e-04, 1.09173954e-04,\n",
       "       3.10599110e-04, 4.10052835e-04, 1.13671615e-04, 1.35061627e-03,\n",
       "       1.38487242e-04, 2.88745410e-04, 7.27422754e-03, 2.51386457e-04,\n",
       "       1.55499413e-02, 8.05393994e-05, 1.43018710e-04, 2.13345910e-04,\n",
       "       1.31123479e-04, 2.97713411e-04, 2.53591764e-04, 2.49338877e-04,\n",
       "       1.16163307e-04, 2.07622542e-04, 4.15168877e-04, 1.05944454e-04,\n",
       "       1.14375316e-04, 9.20183269e-05, 6.67693523e-04, 1.86889744e-04,\n",
       "       7.13168102e-05, 3.11163438e-04, 5.13789903e-04, 1.77782134e-04,\n",
       "       1.03141189e-01, 3.33869169e-04, 1.96627510e-04, 9.96044677e-04,\n",
       "       6.96013096e-04, 1.57262238e-04, 2.79970116e-04, 8.24769221e-04,\n",
       "       2.36945881e-04, 2.62890792e-04, 1.53566054e-04, 1.58820559e-04,\n",
       "       1.70036238e-04, 2.59439604e-04, 9.26073129e-05, 1.81227144e-04,\n",
       "       6.96627325e-04, 2.33355784e-04, 1.53354835e-04, 1.32218393e-04,\n",
       "       1.40783937e-04, 5.17248627e-04, 6.03948564e-05, 5.49750400e-04,\n",
       "       1.80348211e-04, 3.62210347e-04, 1.53696080e-04, 1.95409013e-04,\n",
       "       4.85431500e-04, 2.18308374e-04, 1.27631497e-04, 4.39609760e-04,\n",
       "       1.20915912e-04, 6.91154718e-04, 1.59814709e-04, 2.77981716e-04,\n",
       "       6.93677386e-04, 1.86142845e-04, 8.06377620e-05, 8.18150061e-02,\n",
       "       3.11129149e-04, 1.48748764e-04, 9.03556992e-05, 1.82154586e-04,\n",
       "       3.77092048e-02, 1.17846276e-03, 6.68124982e-04, 6.99882999e-04,\n",
       "       2.25335172e-04, 8.11232427e-04, 1.51550032e-04, 1.22737999e-04,\n",
       "       4.46350641e-04, 1.30181524e-04, 2.15024343e-04, 5.08081447e-04,\n",
       "       3.03851871e-04, 2.32263277e-02, 6.20285393e-03, 6.48401662e-02,\n",
       "       1.78705673e-04, 1.51396705e-04, 4.19650545e-04, 1.36342850e-04,\n",
       "       2.23402247e-04, 6.87991930e-04, 1.76421768e-04, 1.36992077e-04,\n",
       "       9.33768562e-03, 1.03141189e-01, 1.61494597e-04, 1.04325490e-04,\n",
       "       8.06608866e-04, 1.23457747e-04, 1.96858394e-04, 8.77329403e-05,\n",
       "       1.46763275e-04, 1.32453741e-03, 4.47107928e-04, 3.59183929e-04,\n",
       "       2.02943637e-04, 1.31563189e-04, 3.26023757e-04, 1.94201199e-04,\n",
       "       7.00679082e-04, 2.10155447e-04, 3.01708100e-04, 1.51028078e-04,\n",
       "       7.49290619e-04, 9.04735816e-05, 3.14011753e-04, 4.91202273e-04,\n",
       "       2.68381237e-04, 1.91529208e-04, 5.06038925e-04, 1.68501196e-04,\n",
       "       1.63180299e-02, 1.52209027e-02, 2.81499225e-04, 1.73312827e-04,\n",
       "       8.13802089e-04, 8.56791134e-05, 4.61044357e-04, 2.77770853e-04,\n",
       "       2.56678114e-04, 1.72089207e-04, 6.35739197e-04, 1.43865934e-04,\n",
       "       1.00837036e-04, 2.73270095e-04, 1.48909835e-02, 1.35596801e-04,\n",
       "       2.05915728e-04, 2.11007554e-04, 4.06513684e-04, 1.48625283e-04,\n",
       "       6.73162010e-04, 7.87487385e-04, 7.87537592e-05, 1.35385733e-04,\n",
       "       6.75371616e-04, 5.25960814e-04, 6.65986117e-04, 2.01533864e-04,\n",
       "       6.06390593e-03, 4.47032018e-04, 1.03141189e-01, 5.00392170e-04,\n",
       "       3.17176751e-04, 6.78693069e-04, 2.93530665e-04, 1.06450248e-04])"
      ]
     },
     "execution_count": 281,
     "metadata": {},
     "output_type": "execute_result"
    }
   ],
   "source": [
    "W[0]"
   ]
  },
  {
   "cell_type": "code",
   "execution_count": 349,
   "metadata": {
    "execution": {
     "iopub.execute_input": "2020-08-24T18:28:20.628687Z",
     "iopub.status.busy": "2020-08-24T18:28:20.628529Z",
     "iopub.status.idle": "2020-08-24T18:28:20.631491Z",
     "shell.execute_reply": "2020-08-24T18:28:20.631235Z",
     "shell.execute_reply.started": "2020-08-24T18:28:20.628670Z"
    }
   },
   "outputs": [
    {
     "data": {
      "text/plain": [
       "68"
      ]
     },
     "execution_count": 349,
     "metadata": {},
     "output_type": "execute_result"
    }
   ],
   "source": [
    "np.random.choice(np.array(range(200)),p=W[0])"
   ]
  }
 ],
 "metadata": {
  "kernelspec": {
   "display_name": "Python 3",
   "language": "python",
   "name": "python3"
  },
  "language_info": {
   "codemirror_mode": {
    "name": "ipython",
    "version": 3
   },
   "file_extension": ".py",
   "mimetype": "text/x-python",
   "name": "python",
   "nbconvert_exporter": "python",
   "pygments_lexer": "ipython3",
   "version": "3.8.5"
  }
 },
 "nbformat": 4,
 "nbformat_minor": 4
}
