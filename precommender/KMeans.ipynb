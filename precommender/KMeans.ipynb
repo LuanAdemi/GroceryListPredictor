{
 "cells": [
  {
   "cell_type": "code",
   "execution_count": 26,
   "metadata": {
    "execution": {
     "iopub.execute_input": "2020-08-15T21:22:58.018142Z",
     "iopub.status.busy": "2020-08-15T21:22:58.018001Z",
     "iopub.status.idle": "2020-08-15T21:22:58.020466Z",
     "shell.execute_reply": "2020-08-15T21:22:58.020194Z",
     "shell.execute_reply.started": "2020-08-15T21:22:58.018128Z"
    }
   },
   "outputs": [],
   "source": [
    "import matplotlib.pyplot as plt\n",
    "from sklearn.datasets.samples_generator import make_blobs\n",
    "from sklearn.preprocessing import StandardScaler\n",
    "from sklearn.metrics import silhouette_score\n",
    "import pandas as pd\n",
    "import numpy as np\n",
    "import random"
   ]
  },
  {
   "cell_type": "code",
   "execution_count": 51,
   "metadata": {
    "execution": {
     "iopub.execute_input": "2020-08-15T21:25:04.097318Z",
     "iopub.status.busy": "2020-08-15T21:25:04.097176Z",
     "iopub.status.idle": "2020-08-15T21:25:04.100975Z",
     "shell.execute_reply": "2020-08-15T21:25:04.100694Z",
     "shell.execute_reply.started": "2020-08-15T21:25:04.097304Z"
    }
   },
   "outputs": [],
   "source": [
    "centers = 4\n",
    "samples = 1000\n",
    "X, _ = make_blobs(n_samples=samples, centers=centers, n_features=2, cluster_std=0.2, random_state=0)\n",
    "scaler = StandardScaler()\n",
    "X = scaler.fit_transform(X)"
   ]
  },
  {
   "cell_type": "code",
   "execution_count": 52,
   "metadata": {
    "execution": {
     "iopub.execute_input": "2020-08-15T21:25:04.345396Z",
     "iopub.status.busy": "2020-08-15T21:25:04.345257Z",
     "iopub.status.idle": "2020-08-15T21:25:04.347985Z",
     "shell.execute_reply": "2020-08-15T21:25:04.347595Z",
     "shell.execute_reply.started": "2020-08-15T21:25:04.345383Z"
    }
   },
   "outputs": [],
   "source": [
    "obj_names = []\n",
    "for i in range(1,samples+1):\n",
    "    obj = \"Object \" + str(i)\n",
    "    obj_names.append(obj)"
   ]
  },
  {
   "cell_type": "code",
   "execution_count": 53,
   "metadata": {
    "execution": {
     "iopub.execute_input": "2020-08-15T21:25:04.569663Z",
     "iopub.status.busy": "2020-08-15T21:25:04.569494Z",
     "iopub.status.idle": "2020-08-15T21:25:04.574308Z",
     "shell.execute_reply": "2020-08-15T21:25:04.573927Z",
     "shell.execute_reply.started": "2020-08-15T21:25:04.569646Z"
    }
   },
   "outputs": [
    {
     "name": "stdout",
     "output_type": "stream",
     "text": [
      "     Object   X_value   Y_value\n",
      "0  Object 1 -1.033719  1.516607\n",
      "1  Object 2  0.541391  0.090680\n",
      "2  Object 3 -1.091108  1.571734\n",
      "3  Object 4 -1.233579 -0.504013\n",
      "4  Object 5  1.363090 -1.182200\n"
     ]
    }
   ],
   "source": [
    "\n",
    "data = pd.DataFrame({\n",
    "    'Object': obj_names,\n",
    "    'X_value': X[:,0],\n",
    "    'Y_value': X[:,-1]\n",
    "})\n",
    "print(data.head())"
   ]
  },
  {
   "cell_type": "code",
   "execution_count": 54,
   "metadata": {
    "execution": {
     "iopub.execute_input": "2020-08-15T21:25:04.813957Z",
     "iopub.status.busy": "2020-08-15T21:25:04.813815Z",
     "iopub.status.idle": "2020-08-15T21:25:04.900864Z",
     "shell.execute_reply": "2020-08-15T21:25:04.900533Z",
     "shell.execute_reply.started": "2020-08-15T21:25:04.813945Z"
    }
   },
   "outputs": [
    {
     "data": {
      "image/png": "[encoded data removed]",
      "text/plain": [
       "<Figure size 648x432 with 1 Axes>"
      ]
     },
     "metadata": {
      "needs_background": "light"
     },
     "output_type": "display_data"
    }
   ],
   "source": [
    "plt.figure(figsize=(9, 6))\n",
    "plt.scatter(X[:,0],X[:,-1])\n",
    "plt.show()"
   ]
  },
  {
   "cell_type": "code",
   "execution_count": 55,
   "metadata": {
    "execution": {
     "iopub.execute_input": "2020-08-15T21:25:05.093087Z",
     "iopub.status.busy": "2020-08-15T21:25:05.092955Z",
     "iopub.status.idle": "2020-08-15T21:25:05.096496Z",
     "shell.execute_reply": "2020-08-15T21:25:05.096186Z",
     "shell.execute_reply.started": "2020-08-15T21:25:05.093073Z"
    }
   },
   "outputs": [],
   "source": [
    "def initCentroids(k, X):\n",
    "    minY = (X[:,-1].min())\n",
    "    minX = (X[:,0].min())\n",
    "    maxY = (X[:,-1].max())\n",
    "    maxX = (X[:,0].max())\n",
    "    centroids = np.zeros((k,2))\n",
    "    for i in range(k):\n",
    "        x = random.uniform(minX, maxX)\n",
    "        y = random.uniform(minY, maxY)\n",
    "        centroids[i] = [x,y]\n",
    "    return centroids"
   ]
  },
  {
   "cell_type": "code",
   "execution_count": 56,
   "metadata": {
    "execution": {
     "iopub.execute_input": "2020-08-15T21:25:05.417492Z",
     "iopub.status.busy": "2020-08-15T21:25:05.417346Z",
     "iopub.status.idle": "2020-08-15T21:25:05.420512Z",
     "shell.execute_reply": "2020-08-15T21:25:05.420171Z",
     "shell.execute_reply.started": "2020-08-15T21:25:05.417477Z"
    }
   },
   "outputs": [],
   "source": [
    "def calcDistance(centroid, X, Y):\n",
    "    distances = []\n",
    "    \n",
    "    c_x = centroid[0]\n",
    "    c_y = centroid[1]\n",
    "    \n",
    "    for x,y in list(zip(X,Y)):\n",
    "        root_diff_x = (x - c_x) ** 2\n",
    "        root_diff_y = (y - c_y) ** 2\n",
    "        distance = np.sqrt(root_diff_x + root_diff_y)\n",
    "        distances.append(distance)\n",
    "        \n",
    "    return distances"
   ]
  },
  {
   "cell_type": "code",
   "execution_count": 57,
   "metadata": {
    "execution": {
     "iopub.execute_input": "2020-08-15T21:25:05.738141Z",
     "iopub.status.busy": "2020-08-15T21:25:05.737992Z",
     "iopub.status.idle": "2020-08-15T21:25:11.342386Z",
     "shell.execute_reply": "2020-08-15T21:25:11.342013Z",
     "shell.execute_reply.started": "2020-08-15T21:25:05.738127Z"
    }
   },
   "outputs": [
    {
     "name": "stdout",
     "output_type": "stream",
     "text": [
      "Current best: 0.7409527625408002(4)\n",
      "Current best: 0.8877584549949902(5)\n"
     ]
    }
   ],
   "source": [
    "best = [[-1],[]]\n",
    "for k in range(centers, centers*3):\n",
    "    centroids = initCentroids(k,X)\n",
    "    #print(centroids)\n",
    "    \n",
    "    for _ in range(10):\n",
    "        for i in range(k):\n",
    "            data['C' + str(i) + '_Distance'] = calcDistance(centroids[i], data.X_value, data.Y_value)\n",
    "    \n",
    "        data['Cluster'] = data[['C' + str(i) + '_Distance' for i in range(k)]].apply(np.argmin, axis=1)\n",
    "\n",
    "        for i in range(k):\n",
    "            x_new = data[data['Cluster'] == i]['X_value'].mean()\n",
    "            y_new = data[data['Cluster'] == i]['Y_value'].mean()\n",
    "            centroids[i] = [x_new,y_new]\n",
    "    \n",
    "    silscore = silhouette_score(X, data['Cluster'])\n",
    "    if best[0] < silscore:\n",
    "        best[0] = silscore\n",
    "        best[1] = centroids\n",
    "        print(\"Current best: \" + str(silscore) + \"(\" + str(k) + \")\")\n",
    "        "
   ]
  },
  {
   "cell_type": "code",
   "execution_count": 58,
   "metadata": {
    "execution": {
     "iopub.execute_input": "2020-08-15T21:25:11.343140Z",
     "iopub.status.busy": "2020-08-15T21:25:11.343025Z",
     "iopub.status.idle": "2020-08-15T21:25:11.455893Z",
     "shell.execute_reply": "2020-08-15T21:25:11.455562Z",
     "shell.execute_reply.started": "2020-08-15T21:25:11.343125Z"
    }
   },
   "outputs": [
    {
     "data": {
      "image/png": "[encoded data removed]",
      "text/plain": [
       "<Figure size 648x432 with 1 Axes>"
      ]
     },
     "metadata": {
      "needs_background": "light"
     },
     "output_type": "display_data"
    }
   ],
   "source": [
    "plt.figure(figsize=(9, 6))\n",
    "plt.scatter(X[:,0],X[:,-1])\n",
    "plt.scatter(best[1][:,0],best[1][:,-1])\n",
    "plt.show()"
   ]
  },
  {
   "cell_type": "code",
   "execution_count": null,
   "metadata": {},
   "outputs": [],
   "source": []
  }
 ],
 "metadata": {
  "kernelspec": {
   "display_name": "Python 3",
   "language": "python",
   "name": "python3"
  },
  "language_info": {
   "codemirror_mode": {
    "name": "ipython",
    "version": 3
   },
   "file_extension": ".py",
   "mimetype": "text/x-python",
   "name": "python",
   "nbconvert_exporter": "python",
   "pygments_lexer": "ipython3",
   "version": "3.8.5"
  }
 },
 "nbformat": 4,
 "nbformat_minor": 4
}
