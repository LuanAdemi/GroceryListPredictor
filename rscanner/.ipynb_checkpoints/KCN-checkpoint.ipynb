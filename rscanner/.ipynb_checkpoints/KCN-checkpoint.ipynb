{
 "cells": [
  {
   "cell_type": "code",
   "execution_count": 1,
   "metadata": {
    "execution": {
     "iopub.execute_input": "2020-08-05T12:23:09.870559Z",
     "iopub.status.busy": "2020-08-05T12:23:09.870253Z",
     "iopub.status.idle": "2020-08-05T12:23:10.234213Z",
     "shell.execute_reply": "2020-08-05T12:23:10.233853Z",
     "shell.execute_reply.started": "2020-08-05T12:23:09.870394Z"
    }
   },
   "outputs": [],
   "source": [
    "import torch\n",
    "import torch.nn as nn\n",
    "import torch.nn.functional as F\n",
    "import numpy as np\n",
    "import string\n",
    "\n",
    "from util import randomChoice, lineToTensor, readFile\n",
    "\n",
    "import math\n",
    "import random\n",
    "import glob\n",
    "import os\n",
    "\n",
    "import codecs\n",
    "\n",
    "import time\n",
    "\n",
    "# import matplotlib for plotting \n",
    "import matplotlib.pyplot as plt\n",
    "import matplotlib.ticker as ticker\n",
    "\n",
    "all_letters = string.ascii_letters + \" .,;'\" + \"äÄüÜöÖß\"\n",
    "n_letters = len(all_letters)\n",
    "\n",
    "device = torch.device(\"cuda\")"
   ]
  },
  {
   "cell_type": "code",
   "execution_count": 2,
   "metadata": {
    "execution": {
     "iopub.execute_input": "2020-08-05T12:23:10.234892Z",
     "iopub.status.busy": "2020-08-05T12:23:10.234801Z",
     "iopub.status.idle": "2020-08-05T12:23:10.238287Z",
     "shell.execute_reply": "2020-08-05T12:23:10.237961Z",
     "shell.execute_reply.started": "2020-08-05T12:23:10.234880Z"
    }
   },
   "outputs": [],
   "source": [
    "class KCN(nn.Module):\n",
    "    def __init__(self, output_size, time_steps=20):\n",
    "        super(KCN, self).__init__()\n",
    "    \n",
    "        self.time_steps = time_steps\n",
    "        self.lstm = nn.LSTM(1,128, bidirectional=True, num_layers=2)\n",
    "        self.linear = nn.Linear(128*2*time_steps, output_size)\n",
    "        self.softmax = nn.LogSoftmax(dim = 1)\n",
    "\n",
    "    def forward(self, x):        \n",
    "        lstm_out, _ = self.lstm(x)\n",
    "        tag_space = self.linear(lstm_out.view(-1,128*2*self.time_steps))\n",
    "        return tag_space"
   ]
  },
  {
   "cell_type": "code",
   "execution_count": 3,
   "metadata": {
    "execution": {
     "iopub.execute_input": "2020-08-05T12:23:10.525060Z",
     "iopub.status.busy": "2020-08-05T12:23:10.524906Z",
     "iopub.status.idle": "2020-08-05T12:23:10.528161Z",
     "shell.execute_reply": "2020-08-05T12:23:10.527844Z",
     "shell.execute_reply.started": "2020-08-05T12:23:10.525046Z"
    }
   },
   "outputs": [],
   "source": [
    "inputs = []\n",
    "for filename in glob.glob('../Produktlisten/*.txt'):\n",
    "    lines = readFile(filename) \n",
    "    inputs.append(lines)\n",
    "inputs = [_ for i in range(len(inputs)) for _ in inputs[i]]"
   ]
  },
  {
   "cell_type": "code",
   "execution_count": 4,
   "metadata": {
    "execution": {
     "iopub.execute_input": "2020-08-05T12:23:11.288087Z",
     "iopub.status.busy": "2020-08-05T12:23:11.287931Z",
     "iopub.status.idle": "2020-08-05T12:23:11.290977Z",
     "shell.execute_reply": "2020-08-05T12:23:11.290619Z",
     "shell.execute_reply.started": "2020-08-05T12:23:11.288072Z"
    }
   },
   "outputs": [],
   "source": [
    "def pad_sequence(name, wordList, max_len=20):\n",
    "    x = np.zeros((len(name), max_len))\n",
    "    for i, name in enumerate(wordList):\n",
    "        for j, c in enumerate(name):\n",
    "            if j >= max_len:\n",
    "                break\n",
    "            x[i,j] = ord(c)\n",
    "    return torch.FloatTensor(x)"
   ]
  },
  {
   "cell_type": "code",
   "execution_count": 5,
   "metadata": {
    "execution": {
     "iopub.execute_input": "2020-08-05T12:23:11.668907Z",
     "iopub.status.busy": "2020-08-05T12:23:11.668751Z",
     "iopub.status.idle": "2020-08-05T12:23:15.833828Z",
     "shell.execute_reply": "2020-08-05T12:23:15.833518Z",
     "shell.execute_reply.started": "2020-08-05T12:23:11.668891Z"
    }
   },
   "outputs": [
    {
     "name": "stdout",
     "output_type": "stream",
     "text": [
      "2055185\n"
     ]
    }
   ],
   "source": [
    "german_word_list = open(\"../Produktlisten/german/german.dic\", 'r', encoding='utf-8',\n",
    "                 errors='ignore').read().strip().upper().split('\\n')\n",
    "for word in inputs:\n",
    "    try:\n",
    "        german_word_list.remove(word)\n",
    "    except:\n",
    "          continue\n",
    "print(len(german_word_list))"
   ]
  },
  {
   "cell_type": "code",
   "execution_count": 6,
   "metadata": {
    "execution": {
     "iopub.execute_input": "2020-08-05T12:23:15.834429Z",
     "iopub.status.busy": "2020-08-05T12:23:15.834343Z",
     "iopub.status.idle": "2020-08-05T12:23:17.732063Z",
     "shell.execute_reply": "2020-08-05T12:23:17.731725Z",
     "shell.execute_reply.started": "2020-08-05T12:23:15.834418Z"
    }
   },
   "outputs": [],
   "source": [
    "x = pad_sequence(inputs + german_word_list[:1000],inputs + german_word_list[:1000]).to(device)\n",
    "x = torch.unsqueeze(x, dim=2)\n",
    "y = torch.LongTensor([1 for x in range(len(inputs))] + [0 for x in range(1000)]).to(device)"
   ]
  },
  {
   "cell_type": "code",
   "execution_count": 7,
   "metadata": {
    "execution": {
     "iopub.execute_input": "2020-08-05T12:23:19.543346Z",
     "iopub.status.busy": "2020-08-05T12:23:19.543186Z",
     "iopub.status.idle": "2020-08-05T12:23:19.545538Z",
     "shell.execute_reply": "2020-08-05T12:23:19.545282Z",
     "shell.execute_reply.started": "2020-08-05T12:23:19.543332Z"
    }
   },
   "outputs": [
    {
     "name": "stdout",
     "output_type": "stream",
     "text": [
      "torch.Size([1308, 20, 1])\n",
      "torch.Size([1308])\n"
     ]
    }
   ],
   "source": [
    "print(x.shape)\n",
    "print(y.shape)"
   ]
  },
  {
   "cell_type": "code",
   "execution_count": 8,
   "metadata": {
    "execution": {
     "iopub.execute_input": "2020-08-05T12:23:20.629813Z",
     "iopub.status.busy": "2020-08-05T12:23:20.629654Z",
     "iopub.status.idle": "2020-08-05T12:23:34.382222Z",
     "shell.execute_reply": "2020-08-05T12:23:34.381832Z",
     "shell.execute_reply.started": "2020-08-05T12:23:20.629799Z"
    }
   },
   "outputs": [
    {
     "name": "stdout",
     "output_type": "stream",
     "text": [
      "[99] Train Loss: 6.7317646426090505e-06\r"
     ]
    }
   ],
   "source": [
    "model = KCN(2).to(device)\n",
    "criterion = nn.CrossEntropyLoss()\n",
    "optimizer = torch.optim.Adam(model.parameters(), 0.05)\n",
    "\n",
    "for epoch in range(100):\n",
    "    model.train()\n",
    "    output = model(x)\n",
    "    loss = criterion(output, y)\n",
    "    print (f\"[{epoch}] Train Loss: {loss.item()}\", end=\"\\r\")\n",
    "    optimizer.zero_grad()\n",
    "    loss.backward()\n",
    "    optimizer.step()"
   ]
  },
  {
   "cell_type": "code",
   "execution_count": 9,
   "metadata": {
    "execution": {
     "iopub.execute_input": "2020-08-05T12:23:36.959377Z",
     "iopub.status.busy": "2020-08-05T12:23:36.959234Z",
     "iopub.status.idle": "2020-08-05T12:23:36.962356Z",
     "shell.execute_reply": "2020-08-05T12:23:36.962086Z",
     "shell.execute_reply.started": "2020-08-05T12:23:36.959365Z"
    }
   },
   "outputs": [
    {
     "data": {
      "text/plain": [
       "KCN(\n",
       "  (lstm): LSTM(1, 128, num_layers=2, bidirectional=True)\n",
       "  (linear): Linear(in_features=5120, out_features=2, bias=True)\n",
       "  (softmax): LogSoftmax(dim=1)\n",
       ")"
      ]
     },
     "execution_count": 9,
     "metadata": {},
     "output_type": "execute_result"
    }
   ],
   "source": [
    "model.eval()"
   ]
  },
  {
   "cell_type": "code",
   "execution_count": 20,
   "metadata": {
    "execution": {
     "iopub.execute_input": "2020-08-05T12:24:55.569925Z",
     "iopub.status.busy": "2020-08-05T12:24:55.569767Z",
     "iopub.status.idle": "2020-08-05T12:24:55.572420Z",
     "shell.execute_reply": "2020-08-05T12:24:55.572150Z",
     "shell.execute_reply.started": "2020-08-05T12:24:55.569911Z"
    }
   },
   "outputs": [],
   "source": [
    "def predict(word):\n",
    "    probs = model(pad_sequence([word.upper()],[word.upper()]).view(1,20,1).to(device))\n",
    "    if probs[0][0] > probs[0][1]:\n",
    "        return 0\n",
    "    else:\n",
    "        return 1"
   ]
  },
  {
   "cell_type": "code",
   "execution_count": 24,
   "metadata": {
    "execution": {
     "iopub.execute_input": "2020-08-05T12:25:31.121012Z",
     "iopub.status.busy": "2020-08-05T12:25:31.120862Z",
     "iopub.status.idle": "2020-08-05T12:25:31.140110Z",
     "shell.execute_reply": "2020-08-05T12:25:31.139825Z",
     "shell.execute_reply.started": "2020-08-05T12:25:31.120999Z"
    }
   },
   "outputs": [
    {
     "data": {
      "text/plain": [
       "1"
      ]
     },
     "execution_count": 24,
     "metadata": {},
     "output_type": "execute_result"
    }
   ],
   "source": [
    "predict(\"Pfandbon\")"
   ]
  },
  {
   "cell_type": "code",
   "execution_count": null,
   "metadata": {},
   "outputs": [],
   "source": [
    "torch.save(model.state_dict(), \"kcn.pth\")"
   ]
  }
 ],
 "metadata": {
  "kernelspec": {
   "display_name": "Python 3",
   "language": "python",
   "name": "python3"
  },
  "language_info": {
   "codemirror_mode": {
    "name": "ipython",
    "version": 3
   },
   "file_extension": ".py",
   "mimetype": "text/x-python",
   "name": "python",
   "nbconvert_exporter": "python",
   "pygments_lexer": "ipython3",
   "version": "3.8.5"
  }
 },
 "nbformat": 4,
 "nbformat_minor": 4
}
