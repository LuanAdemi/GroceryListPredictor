{
 "cells": [
  {
   "cell_type": "code",
   "execution_count": 1,
   "metadata": {
    "execution": {
     "iopub.execute_input": "2020-08-06T15:12:32.459504Z",
     "iopub.status.busy": "2020-08-06T15:12:32.459348Z",
     "iopub.status.idle": "2020-08-06T15:12:33.145929Z",
     "shell.execute_reply": "2020-08-06T15:12:33.145649Z",
     "shell.execute_reply.started": "2020-08-06T15:12:32.459487Z"
    }
   },
   "outputs": [],
   "source": [
    "import torch\n",
    "import torch.nn as nn\n",
    "import torch.nn.functional as F\n",
    "import numpy as np\n",
    "import string\n",
    "\n",
    "from util import randomChoice, lineToTensor, readFile\n",
    "\n",
    "import math\n",
    "import random\n",
    "import glob\n",
    "import os\n",
    "\n",
    "import codecs\n",
    "\n",
    "import time\n",
    "\n",
    "# import matplotlib for plotting \n",
    "import matplotlib.pyplot as plt\n",
    "import matplotlib.ticker as ticker\n",
    "\n",
    "all_letters = string.ascii_letters + \" .,;'\" + \"äÄüÜöÖß\"\n",
    "n_letters = len(all_letters)\n",
    "\n",
    "device = torch.device(\"cuda\")"
   ]
  },
  {
   "cell_type": "code",
   "execution_count": 10,
   "metadata": {
    "execution": {
     "iopub.execute_input": "2020-08-06T15:15:16.105403Z",
     "iopub.status.busy": "2020-08-06T15:15:16.105246Z",
     "iopub.status.idle": "2020-08-06T15:15:16.108701Z",
     "shell.execute_reply": "2020-08-06T15:15:16.108420Z",
     "shell.execute_reply.started": "2020-08-06T15:15:16.105388Z"
    }
   },
   "outputs": [],
   "source": [
    "class KCN(nn.Module):\n",
    "    def __init__(self, output_size, time_steps=20):\n",
    "        super(KCN, self).__init__()\n",
    "    \n",
    "        self.time_steps = time_steps\n",
    "        self.lstm = nn.LSTM(1,128, bidirectional=True, num_layers=2)\n",
    "        self.linear = nn.Linear(128*2*time_steps, output_size)\n",
    "        self.softmax = nn.Softmax(dim = 1)\n",
    "\n",
    "    def forward(self, x):        \n",
    "        lstm_out, _ = self.lstm(x)\n",
    "        tag_space = self.linear(lstm_out.view(-1,128*2*self.time_steps))\n",
    "        return tag_space"
   ]
  },
  {
   "cell_type": "code",
   "execution_count": 11,
   "metadata": {
    "execution": {
     "iopub.execute_input": "2020-08-06T15:15:16.308500Z",
     "iopub.status.busy": "2020-08-06T15:15:16.308338Z",
     "iopub.status.idle": "2020-08-06T15:15:16.311194Z",
     "shell.execute_reply": "2020-08-06T15:15:16.310932Z",
     "shell.execute_reply.started": "2020-08-06T15:15:16.308485Z"
    }
   },
   "outputs": [],
   "source": [
    "inputs = []\n",
    "for filename in glob.glob('../Produktlisten/*.txt'):\n",
    "    lines = readFile(filename) \n",
    "    inputs.append(lines)\n",
    "inputs = [_ for i in range(len(inputs)) for _ in inputs[i]]"
   ]
  },
  {
   "cell_type": "code",
   "execution_count": 12,
   "metadata": {
    "execution": {
     "iopub.execute_input": "2020-08-06T15:15:16.538490Z",
     "iopub.status.busy": "2020-08-06T15:15:16.538335Z",
     "iopub.status.idle": "2020-08-06T15:15:16.541039Z",
     "shell.execute_reply": "2020-08-06T15:15:16.540773Z",
     "shell.execute_reply.started": "2020-08-06T15:15:16.538475Z"
    }
   },
   "outputs": [],
   "source": [
    "def pad_sequence(name, wordList, max_len=20):\n",
    "    x = np.zeros((len(name), max_len))\n",
    "    for i, name in enumerate(wordList):\n",
    "        for j, c in enumerate(name):\n",
    "            if j >= max_len:\n",
    "                break\n",
    "            x[i,j] = ord(c)\n",
    "    return torch.FloatTensor(x)"
   ]
  },
  {
   "cell_type": "code",
   "execution_count": 13,
   "metadata": {
    "execution": {
     "iopub.execute_input": "2020-08-06T15:15:16.819298Z",
     "iopub.status.busy": "2020-08-06T15:15:16.819147Z",
     "iopub.status.idle": "2020-08-06T15:15:20.959764Z",
     "shell.execute_reply": "2020-08-06T15:15:20.959469Z",
     "shell.execute_reply.started": "2020-08-06T15:15:16.819283Z"
    }
   },
   "outputs": [
    {
     "name": "stdout",
     "output_type": "stream",
     "text": [
      "2055185\n"
     ]
    }
   ],
   "source": [
    "german_word_list = open(\"../Produktlisten/german/german.dic\", 'r', encoding='utf-8',\n",
    "                 errors='ignore').read().strip().upper().split('\\n')\n",
    "for word in inputs:\n",
    "    try:\n",
    "        german_word_list.remove(word)\n",
    "    except:\n",
    "          continue\n",
    "print(len(german_word_list))"
   ]
  },
  {
   "cell_type": "code",
   "execution_count": 14,
   "metadata": {
    "execution": {
     "iopub.execute_input": "2020-08-06T15:15:20.960396Z",
     "iopub.status.busy": "2020-08-06T15:15:20.960302Z",
     "iopub.status.idle": "2020-08-06T15:15:20.975751Z",
     "shell.execute_reply": "2020-08-06T15:15:20.975484Z",
     "shell.execute_reply.started": "2020-08-06T15:15:20.960385Z"
    }
   },
   "outputs": [],
   "source": [
    "x = pad_sequence(inputs + german_word_list[:1000],inputs + german_word_list[:1000]).to(device)\n",
    "x = torch.unsqueeze(x, dim=2)\n",
    "y = torch.LongTensor([1 for x in range(len(inputs))] + [0 for x in range(1000)]).to(device)"
   ]
  },
  {
   "cell_type": "code",
   "execution_count": 15,
   "metadata": {
    "execution": {
     "iopub.execute_input": "2020-08-06T15:15:20.976389Z",
     "iopub.status.busy": "2020-08-06T15:15:20.976303Z",
     "iopub.status.idle": "2020-08-06T15:15:21.002273Z",
     "shell.execute_reply": "2020-08-06T15:15:21.002054Z",
     "shell.execute_reply.started": "2020-08-06T15:15:20.976378Z"
    }
   },
   "outputs": [
    {
     "name": "stdout",
     "output_type": "stream",
     "text": [
      "torch.Size([1308, 20, 1])\n",
      "torch.Size([1308])\n"
     ]
    }
   ],
   "source": [
    "print(x.shape)\n",
    "print(y.shape)"
   ]
  },
  {
   "cell_type": "code",
   "execution_count": 17,
   "metadata": {
    "execution": {
     "iopub.execute_input": "2020-08-06T15:15:31.200416Z",
     "iopub.status.busy": "2020-08-06T15:15:31.200253Z",
     "iopub.status.idle": "2020-08-06T15:15:45.048495Z",
     "shell.execute_reply": "2020-08-06T15:15:45.048171Z",
     "shell.execute_reply.started": "2020-08-06T15:15:31.200402Z"
    }
   },
   "outputs": [
    {
     "name": "stdout",
     "output_type": "stream",
     "text": [
      "[99] Train Loss: 3.387467950233258e-055\r"
     ]
    }
   ],
   "source": [
    "model = KCN(2).to(device)\n",
    "criterion = nn.CrossEntropyLoss()\n",
    "optimizer = torch.optim.Adam(model.parameters(), 0.01)\n",
    "\n",
    "for epoch in range(100):\n",
    "    model.train()\n",
    "    output = model(x)\n",
    "    loss = criterion(output, y)\n",
    "    print (f\"[{epoch}] Train Loss: {loss.item()}\", end=\"\\r\")\n",
    "    optimizer.zero_grad()\n",
    "    loss.backward()\n",
    "    optimizer.step()"
   ]
  },
  {
   "cell_type": "code",
   "execution_count": 18,
   "metadata": {
    "execution": {
     "iopub.execute_input": "2020-08-06T15:15:45.522218Z",
     "iopub.status.busy": "2020-08-06T15:15:45.522076Z",
     "iopub.status.idle": "2020-08-06T15:15:45.525415Z",
     "shell.execute_reply": "2020-08-06T15:15:45.525033Z",
     "shell.execute_reply.started": "2020-08-06T15:15:45.522205Z"
    }
   },
   "outputs": [
    {
     "data": {
      "text/plain": [
       "KCN(\n",
       "  (lstm): LSTM(1, 128, num_layers=2, bidirectional=True)\n",
       "  (linear): Linear(in_features=5120, out_features=2, bias=True)\n",
       "  (softmax): Softmax(dim=1)\n",
       ")"
      ]
     },
     "execution_count": 18,
     "metadata": {},
     "output_type": "execute_result"
    }
   ],
   "source": [
    "model.eval()"
   ]
  },
  {
   "cell_type": "code",
   "execution_count": 19,
   "metadata": {
    "execution": {
     "iopub.execute_input": "2020-08-06T15:15:46.330654Z",
     "iopub.status.busy": "2020-08-06T15:15:46.330497Z",
     "iopub.status.idle": "2020-08-06T15:15:46.333398Z",
     "shell.execute_reply": "2020-08-06T15:15:46.333052Z",
     "shell.execute_reply.started": "2020-08-06T15:15:46.330639Z"
    }
   },
   "outputs": [],
   "source": [
    "def predict(word):\n",
    "    probs = model(pad_sequence([word.upper()],[word.upper()]).view(1,20,1).to(device))\n",
    "    print(probs)\n",
    "    if probs[0][0] > probs[0][1]:\n",
    "        return 0\n",
    "    else:\n",
    "        return 1"
   ]
  },
  {
   "cell_type": "code",
   "execution_count": 20,
   "metadata": {
    "execution": {
     "iopub.execute_input": "2020-08-06T15:15:46.857420Z",
     "iopub.status.busy": "2020-08-06T15:15:46.857261Z",
     "iopub.status.idle": "2020-08-06T15:15:46.916949Z",
     "shell.execute_reply": "2020-08-06T15:15:46.916659Z",
     "shell.execute_reply.started": "2020-08-06T15:15:46.857405Z"
    }
   },
   "outputs": [
    {
     "name": "stdout",
     "output_type": "stream",
     "text": [
      "tensor([[ 0.3264, -0.3825]], device='cuda:0', grad_fn=<AddmmBackward>)\n"
     ]
    },
    {
     "data": {
      "text/plain": [
       "0"
      ]
     },
     "execution_count": 20,
     "metadata": {},
     "output_type": "execute_result"
    }
   ],
   "source": [
    "predict(\"fjheöLO sBDJK\")"
   ]
  },
  {
   "cell_type": "code",
   "execution_count": 38,
   "metadata": {
    "execution": {
     "iopub.execute_input": "2020-08-05T14:42:02.848141Z",
     "iopub.status.busy": "2020-08-05T14:42:02.847987Z",
     "iopub.status.idle": "2020-08-05T14:42:02.857396Z",
     "shell.execute_reply": "2020-08-05T14:42:02.857059Z",
     "shell.execute_reply.started": "2020-08-05T14:42:02.848126Z"
    }
   },
   "outputs": [],
   "source": [
    "torch.save(model.state_dict(), \"kcn.pth\")"
   ]
  },
  {
   "cell_type": "code",
   "execution_count": null,
   "metadata": {},
   "outputs": [],
   "source": [
    "word = \"dwadwadwadwadfjiola\"\n",
    "1/F.softmax(model(pad_sequence([word.upper()],[word.upper()]).view(1,20,1).to(device)), dim=1)"
   ]
  },
  {
   "cell_type": "code",
   "execution_count": null,
   "metadata": {},
   "outputs": [],
   "source": []
  }
 ],
 "metadata": {
  "kernelspec": {
   "display_name": "Python 3",
   "language": "python",
   "name": "python3"
  },
  "language_info": {
   "codemirror_mode": {
    "name": "ipython",
    "version": 3
   },
   "file_extension": ".py",
   "mimetype": "text/x-python",
   "name": "python",
   "nbconvert_exporter": "python",
   "pygments_lexer": "ipython3",
   "version": "3.8.5"
  }
 },
 "nbformat": 4,
 "nbformat_minor": 4
}
