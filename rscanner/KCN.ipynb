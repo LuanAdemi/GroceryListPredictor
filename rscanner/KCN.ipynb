{
 "cells": [
  {
   "cell_type": "code",
   "execution_count": 14,
   "metadata": {
    "execution": {
     "iopub.execute_input": "2020-08-05T14:38:26.924097Z",
     "iopub.status.busy": "2020-08-05T14:38:26.923963Z",
     "iopub.status.idle": "2020-08-05T14:38:26.927231Z",
     "shell.execute_reply": "2020-08-05T14:38:26.926896Z",
     "shell.execute_reply.started": "2020-08-05T14:38:26.924085Z"
    }
   },
   "outputs": [],
   "source": [
    "import torch\n",
    "import torch.nn as nn\n",
    "import torch.nn.functional as F\n",
    "import numpy as np\n",
    "import string\n",
    "\n",
    "from util import randomChoice, lineToTensor, readFile\n",
    "\n",
    "import math\n",
    "import random\n",
    "import glob\n",
    "import os\n",
    "\n",
    "import codecs\n",
    "\n",
    "import time\n",
    "\n",
    "# import matplotlib for plotting \n",
    "import matplotlib.pyplot as plt\n",
    "import matplotlib.ticker as ticker\n",
    "\n",
    "all_letters = string.ascii_letters + \" .,;'\" + \"äÄüÜöÖß\"\n",
    "n_letters = len(all_letters)\n",
    "\n",
    "device = torch.device(\"cuda\")"
   ]
  },
  {
   "cell_type": "code",
   "execution_count": 15,
   "metadata": {
    "execution": {
     "iopub.execute_input": "2020-08-05T14:38:27.283302Z",
     "iopub.status.busy": "2020-08-05T14:38:27.283168Z",
     "iopub.status.idle": "2020-08-05T14:38:27.286618Z",
     "shell.execute_reply": "2020-08-05T14:38:27.286311Z",
     "shell.execute_reply.started": "2020-08-05T14:38:27.283289Z"
    }
   },
   "outputs": [],
   "source": [
    "class KCN(nn.Module):\n",
    "    def __init__(self, output_size, time_steps=20):\n",
    "        super(KCN, self).__init__()\n",
    "    \n",
    "        self.time_steps = time_steps\n",
    "        self.lstm = nn.LSTM(1,128, bidirectional=True, num_layers=2)\n",
    "        self.linear = nn.Linear(128*2*time_steps, output_size)\n",
    "        self.softmax = nn.LogSoftmax(dim = 1)\n",
    "\n",
    "    def forward(self, x):        \n",
    "        lstm_out, _ = self.lstm(x)\n",
    "        tag_space = self.linear(lstm_out.view(-1,128*2*self.time_steps))\n",
    "        return tag_space"
   ]
  },
  {
   "cell_type": "code",
   "execution_count": 18,
   "metadata": {
    "execution": {
     "iopub.execute_input": "2020-08-05T14:38:35.003088Z",
     "iopub.status.busy": "2020-08-05T14:38:35.002953Z",
     "iopub.status.idle": "2020-08-05T14:38:35.006025Z",
     "shell.execute_reply": "2020-08-05T14:38:35.005690Z",
     "shell.execute_reply.started": "2020-08-05T14:38:35.003076Z"
    }
   },
   "outputs": [],
   "source": [
    "inputs = []\n",
    "for filename in glob.glob('../Produktlisten/*.txt'):\n",
    "    lines = readFile(filename) \n",
    "    inputs.append(lines)\n",
    "inputs = [_ for i in range(len(inputs)) for _ in inputs[i]]"
   ]
  },
  {
   "cell_type": "code",
   "execution_count": 19,
   "metadata": {
    "execution": {
     "iopub.execute_input": "2020-08-05T14:38:35.178294Z",
     "iopub.status.busy": "2020-08-05T14:38:35.178156Z",
     "iopub.status.idle": "2020-08-05T14:38:35.182285Z",
     "shell.execute_reply": "2020-08-05T14:38:35.182026Z",
     "shell.execute_reply.started": "2020-08-05T14:38:35.178282Z"
    }
   },
   "outputs": [],
   "source": [
    "def pad_sequence(name, wordList, max_len=20):\n",
    "    x = np.zeros((len(name), max_len))\n",
    "    for i, name in enumerate(wordList):\n",
    "        for j, c in enumerate(name):\n",
    "            if j >= max_len:\n",
    "                break\n",
    "            x[i,j] = ord(c)\n",
    "    return torch.FloatTensor(x)"
   ]
  },
  {
   "cell_type": "code",
   "execution_count": 20,
   "metadata": {
    "execution": {
     "iopub.execute_input": "2020-08-05T14:38:35.342866Z",
     "iopub.status.busy": "2020-08-05T14:38:35.342734Z",
     "iopub.status.idle": "2020-08-05T14:38:39.620752Z",
     "shell.execute_reply": "2020-08-05T14:38:39.620329Z",
     "shell.execute_reply.started": "2020-08-05T14:38:35.342854Z"
    }
   },
   "outputs": [
    {
     "name": "stdout",
     "output_type": "stream",
     "text": [
      "2055185\n"
     ]
    }
   ],
   "source": [
    "german_word_list = open(\"../Produktlisten/german/german.dic\", 'r', encoding='utf-8',\n",
    "                 errors='ignore').read().strip().upper().split('\\n')\n",
    "for word in inputs:\n",
    "    try:\n",
    "        german_word_list.remove(word)\n",
    "    except:\n",
    "          continue\n",
    "print(len(german_word_list))"
   ]
  },
  {
   "cell_type": "code",
   "execution_count": 21,
   "metadata": {
    "execution": {
     "iopub.execute_input": "2020-08-05T14:38:39.621430Z",
     "iopub.status.busy": "2020-08-05T14:38:39.621337Z",
     "iopub.status.idle": "2020-08-05T14:38:39.631260Z",
     "shell.execute_reply": "2020-08-05T14:38:39.630943Z",
     "shell.execute_reply.started": "2020-08-05T14:38:39.621419Z"
    }
   },
   "outputs": [],
   "source": [
    "x = pad_sequence(inputs + german_word_list[:1000],inputs + german_word_list[:1000]).to(device)\n",
    "x = torch.unsqueeze(x, dim=2)\n",
    "y = torch.LongTensor([1 for x in range(len(inputs))] + [0 for x in range(1000)]).to(device)"
   ]
  },
  {
   "cell_type": "code",
   "execution_count": 22,
   "metadata": {
    "execution": {
     "iopub.execute_input": "2020-08-05T14:38:39.631941Z",
     "iopub.status.busy": "2020-08-05T14:38:39.631852Z",
     "iopub.status.idle": "2020-08-05T14:38:39.663914Z",
     "shell.execute_reply": "2020-08-05T14:38:39.663590Z",
     "shell.execute_reply.started": "2020-08-05T14:38:39.631931Z"
    }
   },
   "outputs": [
    {
     "name": "stdout",
     "output_type": "stream",
     "text": [
      "torch.Size([1308, 20, 1])\n",
      "torch.Size([1308])\n"
     ]
    }
   ],
   "source": [
    "print(x.shape)\n",
    "print(y.shape)"
   ]
  },
  {
   "cell_type": "code",
   "execution_count": 23,
   "metadata": {
    "execution": {
     "iopub.execute_input": "2020-08-05T14:38:39.664405Z",
     "iopub.status.busy": "2020-08-05T14:38:39.664324Z",
     "iopub.status.idle": "2020-08-05T14:38:53.368595Z",
     "shell.execute_reply": "2020-08-05T14:38:53.368186Z",
     "shell.execute_reply.started": "2020-08-05T14:38:39.664393Z"
    }
   },
   "outputs": [
    {
     "name": "stdout",
     "output_type": "stream",
     "text": [
      "[99] Train Loss: 9.757062798598781e-058\r"
     ]
    }
   ],
   "source": [
    "model = KCN(2).to(device)\n",
    "criterion = nn.CrossEntropyLoss()\n",
    "optimizer = torch.optim.Adam(model.parameters(), 0.01)\n",
    "\n",
    "for epoch in range(100):\n",
    "    model.train()\n",
    "    output = model(x)\n",
    "    loss = criterion(output, y)\n",
    "    print (f\"[{epoch}] Train Loss: {loss.item()}\", end=\"\\r\")\n",
    "    optimizer.zero_grad()\n",
    "    loss.backward()\n",
    "    optimizer.step()"
   ]
  },
  {
   "cell_type": "code",
   "execution_count": 24,
   "metadata": {
    "execution": {
     "iopub.execute_input": "2020-08-05T14:38:53.369239Z",
     "iopub.status.busy": "2020-08-05T14:38:53.369149Z",
     "iopub.status.idle": "2020-08-05T14:38:53.371561Z",
     "shell.execute_reply": "2020-08-05T14:38:53.371295Z",
     "shell.execute_reply.started": "2020-08-05T14:38:53.369228Z"
    }
   },
   "outputs": [
    {
     "data": {
      "text/plain": [
       "KCN(\n",
       "  (lstm): LSTM(1, 128, num_layers=2, bidirectional=True)\n",
       "  (linear): Linear(in_features=5120, out_features=2, bias=True)\n",
       "  (softmax): LogSoftmax(dim=1)\n",
       ")"
      ]
     },
     "execution_count": 24,
     "metadata": {},
     "output_type": "execute_result"
    }
   ],
   "source": [
    "model.eval()"
   ]
  },
  {
   "cell_type": "code",
   "execution_count": 36,
   "metadata": {
    "execution": {
     "iopub.execute_input": "2020-08-05T14:41:01.135774Z",
     "iopub.status.busy": "2020-08-05T14:41:01.135620Z",
     "iopub.status.idle": "2020-08-05T14:41:01.138399Z",
     "shell.execute_reply": "2020-08-05T14:41:01.138125Z",
     "shell.execute_reply.started": "2020-08-05T14:41:01.135759Z"
    }
   },
   "outputs": [],
   "source": [
    "def predict(word):\n",
    "    probs = model(pad_sequence([word.upper()],[word.upper()]).view(1,20,1).to(device))\n",
    "    print(probs)\n",
    "    if probs[0][0] > probs[0][1]:\n",
    "        return 0\n",
    "    else:\n",
    "        return 1"
   ]
  },
  {
   "cell_type": "code",
   "execution_count": 37,
   "metadata": {
    "execution": {
     "iopub.execute_input": "2020-08-05T14:41:01.496006Z",
     "iopub.status.busy": "2020-08-05T14:41:01.495854Z",
     "iopub.status.idle": "2020-08-05T14:41:01.499954Z",
     "shell.execute_reply": "2020-08-05T14:41:01.499670Z",
     "shell.execute_reply.started": "2020-08-05T14:41:01.495994Z"
    }
   },
   "outputs": [
    {
     "name": "stdout",
     "output_type": "stream",
     "text": [
      "tensor([[ 0.1017, -0.0932]], device='cuda:0', grad_fn=<AddmmBackward>)\n"
     ]
    },
    {
     "data": {
      "text/plain": [
       "0"
      ]
     },
     "execution_count": 37,
     "metadata": {},
     "output_type": "execute_result"
    }
   ],
   "source": [
    "predict(\"fjheöLO sBDJK\")"
   ]
  },
  {
   "cell_type": "code",
   "execution_count": 38,
   "metadata": {
    "execution": {
     "iopub.execute_input": "2020-08-05T14:42:02.848141Z",
     "iopub.status.busy": "2020-08-05T14:42:02.847987Z",
     "iopub.status.idle": "2020-08-05T14:42:02.857396Z",
     "shell.execute_reply": "2020-08-05T14:42:02.857059Z",
     "shell.execute_reply.started": "2020-08-05T14:42:02.848126Z"
    }
   },
   "outputs": [],
   "source": [
    "torch.save(model.state_dict(), \"kcn.pth\")"
   ]
  },
  {
   "cell_type": "code",
   "execution_count": null,
   "metadata": {},
   "outputs": [],
   "source": []
  }
 ],
 "metadata": {
  "kernelspec": {
   "display_name": "Python 3",
   "language": "python",
   "name": "python3"
  },
  "language_info": {
   "codemirror_mode": {
    "name": "ipython",
    "version": 3
   },
   "file_extension": ".py",
   "mimetype": "text/x-python",
   "name": "python",
   "nbconvert_exporter": "python",
   "pygments_lexer": "ipython3",
   "version": "3.8.5"
  }
 },
 "nbformat": 4,
 "nbformat_minor": 4
}
