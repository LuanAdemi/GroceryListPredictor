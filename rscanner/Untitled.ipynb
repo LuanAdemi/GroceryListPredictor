{
 "cells": [
  {
   "cell_type": "code",
   "execution_count": 5,
   "metadata": {},
   "outputs": [],
   "source": [
    "import cv2\n",
    "\n",
    "from skimage.filters import threshold_local\n",
    "\n",
    "import numpy as np\n",
    "\n",
    "import imutils\n",
    "from matplotlib import pyplot as plt"
   ]
  },
  {
   "cell_type": "code",
   "execution_count": 6,
   "metadata": {},
   "outputs": [],
   "source": [
    "def order_coordinates(pts):\n",
    "    rectangle = np.zeros((4, 2), dtype=\"float32\")\n",
    "    \n",
    "    s = pts.sum(axis=1)\n",
    "    \n",
    "    rectangle[0] = pts[np.argmin(s)]\n",
    "    rectangle[2] = pts[np.argmax(s)]\n",
    "    \n",
    "    difference = np.diff(pts, axis=1)\n",
    "    \n",
    "    rectangle[1] = pts[np.argmin(difference)]\n",
    "    rectangle[3] = pts[np.argmax(difference)]\n",
    "    \n",
    "    return rectangle\n"
   ]
  },
  {
   "cell_type": "code",
   "execution_count": 7,
   "metadata": {},
   "outputs": [],
   "source": [
    "def point_transform(image, pts):\n",
    "    rect = order_coordinates(pts)\n",
    "    \n",
    "    (upperLeft, upperRight, bottomRight, bottomLeft) = rect\n",
    "    \n",
    "    width1 = np.sqrt(((bottomRight[0] - bottomLeft[0]) ** 2) + ((bottomRight[1] - bottomLeft[1]) ** 2))\n",
    "    width2 = np.sqrt(((upperRight[0] - upperLeft[0]) ** 2) + ((upperRight[1] - upperLeft[1]) ** 2))\n",
    "    \n",
    "    width = max(int(width1), int(width2))\n",
    "    \n",
    "    height1 = np.sqrt(((upperRight[0] - bottomRight[0])**2) + ((upperRight[1] - bottomRight[1])**2))\n",
    "    height2 = np.sqrt(((upperLeft[0] - bottomLeft[0])**2) + ((upperLeft[1] - bottomLeft[1])**2))\n",
    "    \n",
    "    height = max(int(height1), int(height2))\n",
    "    \n",
    "    distance = np.array([[0,0],[width-1,0],[width-1,height-1],[0,height-1]], dtype=\"float32\")\n",
    "    \n",
    "    matrix = cv2.getPerspectiveTransform(rect, distance)\n",
    "    \n",
    "    warped_image = cv2.warpPerspective(image, matrix, (width, height))\n",
    "    \n",
    "    return warped_image"
   ]
  },
  {
   "cell_type": "code",
   "execution_count": 8,
   "metadata": {},
   "outputs": [
    {
     "ename": "AttributeError",
     "evalue": "'int' object has no attribute 'reshape'",
     "output_type": "error",
     "traceback": [
      "\u001b[0;31m---------------------------------------------------------------------------\u001b[0m",
      "\u001b[0;31mAttributeError\u001b[0m                            Traceback (most recent call last)",
      "\u001b[0;32m<ipython-input-8-3741b540463d>\u001b[0m in \u001b[0;36m<module>\u001b[0;34m\u001b[0m\n\u001b[1;32m     31\u001b[0m             \u001b[0;32mbreak\u001b[0m\u001b[0;34m\u001b[0m\u001b[0;34m\u001b[0m\u001b[0m\n\u001b[1;32m     32\u001b[0m \u001b[0;34m\u001b[0m\u001b[0m\n\u001b[0;32m---> 33\u001b[0;31m     \u001b[0mwarped\u001b[0m \u001b[0;34m=\u001b[0m \u001b[0mpoint_transform\u001b[0m\u001b[0;34m(\u001b[0m\u001b[0moriginal\u001b[0m\u001b[0;34m,\u001b[0m \u001b[0mscreenCnt\u001b[0m\u001b[0;34m.\u001b[0m\u001b[0mreshape\u001b[0m\u001b[0;34m(\u001b[0m\u001b[0;36m4\u001b[0m\u001b[0;34m,\u001b[0m\u001b[0;36m2\u001b[0m\u001b[0;34m)\u001b[0m \u001b[0;34m*\u001b[0m \u001b[0mratio\u001b[0m\u001b[0;34m)\u001b[0m\u001b[0;34m\u001b[0m\u001b[0;34m\u001b[0m\u001b[0m\n\u001b[0m\u001b[1;32m     34\u001b[0m \u001b[0;34m\u001b[0m\u001b[0m\n\u001b[1;32m     35\u001b[0m     \u001b[0mwarped\u001b[0m \u001b[0;34m=\u001b[0m \u001b[0mcv2\u001b[0m\u001b[0;34m.\u001b[0m\u001b[0mcvtColor\u001b[0m\u001b[0;34m(\u001b[0m\u001b[0mwarped\u001b[0m\u001b[0;34m,\u001b[0m \u001b[0mcv2\u001b[0m\u001b[0;34m.\u001b[0m\u001b[0mCOLOR_BGR2GRAY\u001b[0m\u001b[0;34m)\u001b[0m\u001b[0;34m\u001b[0m\u001b[0;34m\u001b[0m\u001b[0m\n",
      "\u001b[0;31mAttributeError\u001b[0m: 'int' object has no attribute 'reshape'"
     ]
    }
   ],
   "source": [
    "while(True):\n",
    "    \n",
    "    screenCnt = 0\n",
    "    image = cv2.imread(\"../../Sticker.jpg\")\n",
    "    \n",
    "    ratio = image.shape[0]/image.shape[1]\n",
    "    \n",
    "    original = image.copy()\n",
    "    \n",
    "    image\n",
    "    \n",
    "    gray = cv2.cvtColor(image, cv2.COLOR_BGR2GRAY)\n",
    "    \n",
    "    gray = cv2.GaussianBlur(gray,(5,5),0)\n",
    "    \n",
    "    edged = cv2.Canny(gray,75,200)\n",
    "    \n",
    "    contours = cv2.findContours(edged.copy(), cv2.RETR_TREE, cv2.CHAIN_APPROX_SIMPLE)\n",
    "    \n",
    "    contours = imutils.grab_contours(contours )\n",
    "    \n",
    "    contours = sorted(contours , key = cv2.contourArea, reverse = True)[:5]\n",
    "    \n",
    "    for ci in contours:\n",
    "        perimeter = cv2.arcLength(ci, True)\n",
    "        \n",
    "        approx = cv2.approxPolyDP(ci, 0.02 * perimeter, True)\n",
    "        \n",
    "        if len(approx) == 4:\n",
    "            screenCnt = approx\n",
    "            print(screenCnt)\n",
    "            break\n",
    "    \n",
    "    warped = point_transform(original, screenCnt.reshape(4,2) * ratio)\n",
    "    \n",
    "    warped = cv2.cvtColor(warped, cv2.COLOR_BGR2GRAY)\n",
    "    T = threshold_local(warped, 11, offset = 10, method = \"gaussian\")\n",
    "\n",
    "    warped = (warped > T).astype(\"uint8\") * 255\n",
    "\n",
    "    \n",
    "    cv2.imshow(\"Original\", imutils.resize(original, height=650))\n",
    "    cv2.imshow(\"Scanned\", imutils.resize(warped, height=650))\n",
    "    \n",
    "    \n",
    "    if cv2.waitKey(0):\n",
    "        break\n",
    "        \n",
    "cv2.destroyAllWindows()\n",
    "    "
   ]
  },
  {
   "cell_type": "code",
   "execution_count": null,
   "metadata": {},
   "outputs": [],
   "source": []
  }
 ],
 "metadata": {
  "kernelspec": {
   "display_name": "Python 3",
   "language": "python",
   "name": "python3"
  },
  "language_info": {
   "codemirror_mode": {
    "name": "ipython",
    "version": 3
   },
   "file_extension": ".py",
   "mimetype": "text/x-python",
   "name": "python",
   "nbconvert_exporter": "python",
   "pygments_lexer": "ipython3",
   "version": "3.6.9"
  }
 },
 "nbformat": 4,
 "nbformat_minor": 4
}
